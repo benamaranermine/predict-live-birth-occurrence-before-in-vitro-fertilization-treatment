{
  "cells": [
    {
      "cell_type": "markdown",
      "metadata": {
        "id": "view-in-github",
        "colab_type": "text"
      },
      "source": [
        "<a href=\"https://colab.research.google.com/github/benamaranermine/predict-live-birth-occurrence-before-in-vitro-fertilization-treatment/blob/main/predict_live%E2%80%91birth_with_databalancing.ipynb\" target=\"_parent\"><img src=\"https://colab.research.google.com/assets/colab-badge.svg\" alt=\"Open In Colab\"/></a>"
      ]
    },
    {
      "cell_type": "code",
      "execution_count": 1,
      "metadata": {
        "id": "hgbZDHUj669c"
      },
      "outputs": [],
      "source": [
        "import numpy as np\n",
        "import pandas as pd\n",
        "import matplotlib.pyplot as plt\n",
        "import seaborn as sns\n",
        "import warnings\n",
        "warnings.filterwarnings('ignore') # filter the warnings\n",
        "\n",
        "from sklearn.model_selection import train_test_split\n",
        "from sklearn.preprocessing import StandardScaler\n",
        "from sklearn.linear_model import LinearRegression\n",
        "from sklearn.ensemble import RandomForestRegressor\n",
        "from sklearn.svm import SVR\n",
        "from sklearn import metrics\n",
        "from sklearn.model_selection import RandomizedSearchCV\n",
        "\n",
        "import pandas as pd\n",
        "import numpy as np\n",
        "from numpy import genfromtxt\n",
        "import csv\n",
        "from sklearn import model_selection\n",
        "from sklearn.model_selection import StratifiedKFold, StratifiedShuffleSplit\n",
        "from sklearn.feature_selection import RFECV,SelectFromModel\n",
        "from sklearn.linear_model import LogisticRegression\n",
        "from sklearn.svm import SVR, SVC, LinearSVC\n",
        "from google.colab import drive\n",
        "\n"
      ]
    },
    {
      "cell_type": "code",
      "source": [],
      "metadata": {
        "id": "RftoP3ozw3fX"
      },
      "execution_count": null,
      "outputs": []
    },
    {
      "cell_type": "code",
      "execution_count": 2,
      "metadata": {
        "colab": {
          "base_uri": "https://localhost:8080/"
        },
        "id": "B4kIu7uU63Ac",
        "outputId": "5101b565-3934-4bb8-d491-fa4165745401"
      },
      "outputs": [
        {
          "output_type": "stream",
          "name": "stdout",
          "text": [
            "Mounted at /content/drive\n"
          ]
        }
      ],
      "source": [
        "drive.mount('/content/drive')\n"
      ]
    },
    {
      "cell_type": "code",
      "execution_count": 3,
      "metadata": {
        "id": "OzCtrMA1VtD9"
      },
      "outputs": [],
      "source": [
        "file_path = '/content/drive/MyDrive/ar-2015-2016-xlsb.xlsx'\n",
        "data = pd.read_excel(file_path)"
      ]
    },
    {
      "cell_type": "code",
      "source": [
        "data"
      ],
      "metadata": {
        "colab": {
          "base_uri": "https://localhost:8080/",
          "height": 626
        },
        "id": "ahE6niPEVPiD",
        "outputId": "85d525d6-4649-4253-d74c-aa6a1cbcf182"
      },
      "execution_count": null,
      "outputs": [
        {
          "output_type": "execute_result",
          "data": {
            "text/plain": [
              "      Patient Age at Treatment  \\\n",
              "0                        40-42   \n",
              "1                        45-50   \n",
              "2                        35-37   \n",
              "3                      18 - 34   \n",
              "4                      18 - 34   \n",
              "...                        ...   \n",
              "65530                    35-37   \n",
              "65531                  18 - 34   \n",
              "65532                    35-37   \n",
              "65533                  18 - 34   \n",
              "65534                  18 - 34   \n",
              "\n",
              "       Date patient started trying to become pregnant OR date of last pregnancy  \\\n",
              "0                                                    NaN                          \n",
              "1                                                    NaN                          \n",
              "2                                                    NaN                          \n",
              "3                                                    NaN                          \n",
              "4                                                    NaN                          \n",
              "...                                                  ...                          \n",
              "65530                                                NaN                          \n",
              "65531                                                NaN                          \n",
              "65532                                                NaN                          \n",
              "65533                                                NaN                          \n",
              "65534                                                NaN                          \n",
              "\n",
              "      Total Number of Previous cycles, Both IVF and DI  \\\n",
              "0                                                    2   \n",
              "1                                                    3   \n",
              "2                                                    0   \n",
              "3                                                    2   \n",
              "4                                                    5   \n",
              "...                                                ...   \n",
              "65530                                                0   \n",
              "65531                                                1   \n",
              "65532                                                3   \n",
              "65533                                                1   \n",
              "65534                                                2   \n",
              "\n",
              "      Total Number of Previous treatments, Both IVF and DI at clinic  \\\n",
              "0                                                      2               \n",
              "1                                                      3               \n",
              "2                                                      0               \n",
              "3                                                      2               \n",
              "4                                                      5               \n",
              "...                                                  ...               \n",
              "65530                                                  0               \n",
              "65531                                                  1               \n",
              "65532                                                  3               \n",
              "65533                                                  1               \n",
              "65534                                                  2               \n",
              "\n",
              "      Total Number of Previous IVF cycles Total Number of Previous DI cycles  \\\n",
              "0                                       2                                  0   \n",
              "1                                       3                                  0   \n",
              "2                                       0                                  0   \n",
              "3                                       2                                  0   \n",
              "4                                       5                                  0   \n",
              "...                                   ...                                ...   \n",
              "65530                                   0                                  0   \n",
              "65531                                   1                                  0   \n",
              "65532                                   3                                  0   \n",
              "65533                                   1                                  0   \n",
              "65534                                   2                                  0   \n",
              "\n",
              "      Total number of previous pregnancies, Both IVF and DI  \\\n",
              "0                                                      0      \n",
              "1                                                      0      \n",
              "2                                                      0      \n",
              "3                                                      0      \n",
              "4                                                      1      \n",
              "...                                                  ...      \n",
              "65530                                                  0      \n",
              "65531                                                  0      \n",
              "65532                                                  0      \n",
              "65533                                                  1      \n",
              "65534                                                  0      \n",
              "\n",
              "      Total number of IVF pregnancies  Total number of DI pregnancies  \\\n",
              "0                                   0                               0   \n",
              "1                                   0                               0   \n",
              "2                                   0                               0   \n",
              "3                                   0                               0   \n",
              "4                                   1                               0   \n",
              "...                               ...                             ...   \n",
              "65530                               0                               0   \n",
              "65531                               0                               0   \n",
              "65532                               0                               0   \n",
              "65533                               1                               0   \n",
              "65534                               0                               0   \n",
              "\n",
              "       Total number of live births - conceived through IVF or DI  ...  \\\n",
              "0                                                      0          ...   \n",
              "1                                                      0          ...   \n",
              "2                                                      0          ...   \n",
              "3                                                      0          ...   \n",
              "4                                                      1          ...   \n",
              "...                                                  ...          ...   \n",
              "65530                                                  0          ...   \n",
              "65531                                                  0          ...   \n",
              "65532                                                  0          ...   \n",
              "65533                                                  1          ...   \n",
              "65534                                                  0          ...   \n",
              "\n",
              "       Heart Three Birth Weight  Heart Three Sex  Heart Three Delivery Date  \\\n",
              "0                           NaN              NaN                        NaN   \n",
              "1                           NaN              NaN                        NaN   \n",
              "2                           NaN              NaN                        NaN   \n",
              "3                           NaN              NaN                        NaN   \n",
              "4                           NaN              NaN                        NaN   \n",
              "...                         ...              ...                        ...   \n",
              "65530                       NaN              NaN                        NaN   \n",
              "65531                       NaN              NaN                        NaN   \n",
              "65532                       NaN              NaN                        NaN   \n",
              "65533                       NaN              NaN                        NaN   \n",
              "65534                       NaN              NaN                        NaN   \n",
              "\n",
              "       Heart Three Birth Congenital Abnormalities  Heart Four Weeks Gestation  \\\n",
              "0                                             NaN                         NaN   \n",
              "1                                             NaN                         NaN   \n",
              "2                                             NaN                         NaN   \n",
              "3                                             NaN                         NaN   \n",
              "4                                             NaN                         NaN   \n",
              "...                                           ...                         ...   \n",
              "65530                                         NaN                         NaN   \n",
              "65531                                         NaN                         NaN   \n",
              "65532                                         NaN                         NaN   \n",
              "65533                                         NaN                         NaN   \n",
              "65534                                         NaN                         NaN   \n",
              "\n",
              "       Heart Four Birth Outcome  Heart Four Birth Weight  Heart Four Sex  \\\n",
              "0                           NaN                      NaN             NaN   \n",
              "1                           NaN                      NaN             NaN   \n",
              "2                           NaN                      NaN             NaN   \n",
              "3                           NaN                      NaN             NaN   \n",
              "4                           NaN                      NaN             NaN   \n",
              "...                         ...                      ...             ...   \n",
              "65530                       NaN                      NaN             NaN   \n",
              "65531                       NaN                      NaN             NaN   \n",
              "65532                       NaN                      NaN             NaN   \n",
              "65533                       NaN                      NaN             NaN   \n",
              "65534                       NaN                      NaN             NaN   \n",
              "\n",
              "       Heart Four Delivery Date  Heart Four Birth Congenital Abnormalities  \n",
              "0                           NaN                                        NaN  \n",
              "1                           NaN                                        NaN  \n",
              "2                           NaN                                        NaN  \n",
              "3                           NaN                                        NaN  \n",
              "4                           NaN                                        NaN  \n",
              "...                         ...                                        ...  \n",
              "65530                       NaN                                        NaN  \n",
              "65531                       NaN                                        NaN  \n",
              "65532                       NaN                                        NaN  \n",
              "65533                       NaN                                        NaN  \n",
              "65534                       NaN                                        NaN  \n",
              "\n",
              "[65535 rows x 95 columns]"
            ],
            "text/html": [
              "\n",
              "\n",
              "  <div id=\"df-3716b92e-6c0d-43ce-b74c-987094f6aa33\">\n",
              "    <div class=\"colab-df-container\">\n",
              "      <div>\n",
              "<style scoped>\n",
              "    .dataframe tbody tr th:only-of-type {\n",
              "        vertical-align: middle;\n",
              "    }\n",
              "\n",
              "    .dataframe tbody tr th {\n",
              "        vertical-align: top;\n",
              "    }\n",
              "\n",
              "    .dataframe thead th {\n",
              "        text-align: right;\n",
              "    }\n",
              "</style>\n",
              "<table border=\"1\" class=\"dataframe\">\n",
              "  <thead>\n",
              "    <tr style=\"text-align: right;\">\n",
              "      <th></th>\n",
              "      <th>Patient Age at Treatment</th>\n",
              "      <th>Date patient started trying to become pregnant OR date of last pregnancy</th>\n",
              "      <th>Total Number of Previous cycles, Both IVF and DI</th>\n",
              "      <th>Total Number of Previous treatments, Both IVF and DI at clinic</th>\n",
              "      <th>Total Number of Previous IVF cycles</th>\n",
              "      <th>Total Number of Previous DI cycles</th>\n",
              "      <th>Total number of previous pregnancies, Both IVF and DI</th>\n",
              "      <th>Total number of IVF pregnancies</th>\n",
              "      <th>Total number of DI pregnancies</th>\n",
              "      <th>Total number of live births - conceived through IVF or DI</th>\n",
              "      <th>...</th>\n",
              "      <th>Heart Three Birth Weight</th>\n",
              "      <th>Heart Three Sex</th>\n",
              "      <th>Heart Three Delivery Date</th>\n",
              "      <th>Heart Three Birth Congenital Abnormalities</th>\n",
              "      <th>Heart Four Weeks Gestation</th>\n",
              "      <th>Heart Four Birth Outcome</th>\n",
              "      <th>Heart Four Birth Weight</th>\n",
              "      <th>Heart Four Sex</th>\n",
              "      <th>Heart Four Delivery Date</th>\n",
              "      <th>Heart Four Birth Congenital Abnormalities</th>\n",
              "    </tr>\n",
              "  </thead>\n",
              "  <tbody>\n",
              "    <tr>\n",
              "      <th>0</th>\n",
              "      <td>40-42</td>\n",
              "      <td>NaN</td>\n",
              "      <td>2</td>\n",
              "      <td>2</td>\n",
              "      <td>2</td>\n",
              "      <td>0</td>\n",
              "      <td>0</td>\n",
              "      <td>0</td>\n",
              "      <td>0</td>\n",
              "      <td>0</td>\n",
              "      <td>...</td>\n",
              "      <td>NaN</td>\n",
              "      <td>NaN</td>\n",
              "      <td>NaN</td>\n",
              "      <td>NaN</td>\n",
              "      <td>NaN</td>\n",
              "      <td>NaN</td>\n",
              "      <td>NaN</td>\n",
              "      <td>NaN</td>\n",
              "      <td>NaN</td>\n",
              "      <td>NaN</td>\n",
              "    </tr>\n",
              "    <tr>\n",
              "      <th>1</th>\n",
              "      <td>45-50</td>\n",
              "      <td>NaN</td>\n",
              "      <td>3</td>\n",
              "      <td>3</td>\n",
              "      <td>3</td>\n",
              "      <td>0</td>\n",
              "      <td>0</td>\n",
              "      <td>0</td>\n",
              "      <td>0</td>\n",
              "      <td>0</td>\n",
              "      <td>...</td>\n",
              "      <td>NaN</td>\n",
              "      <td>NaN</td>\n",
              "      <td>NaN</td>\n",
              "      <td>NaN</td>\n",
              "      <td>NaN</td>\n",
              "      <td>NaN</td>\n",
              "      <td>NaN</td>\n",
              "      <td>NaN</td>\n",
              "      <td>NaN</td>\n",
              "      <td>NaN</td>\n",
              "    </tr>\n",
              "    <tr>\n",
              "      <th>2</th>\n",
              "      <td>35-37</td>\n",
              "      <td>NaN</td>\n",
              "      <td>0</td>\n",
              "      <td>0</td>\n",
              "      <td>0</td>\n",
              "      <td>0</td>\n",
              "      <td>0</td>\n",
              "      <td>0</td>\n",
              "      <td>0</td>\n",
              "      <td>0</td>\n",
              "      <td>...</td>\n",
              "      <td>NaN</td>\n",
              "      <td>NaN</td>\n",
              "      <td>NaN</td>\n",
              "      <td>NaN</td>\n",
              "      <td>NaN</td>\n",
              "      <td>NaN</td>\n",
              "      <td>NaN</td>\n",
              "      <td>NaN</td>\n",
              "      <td>NaN</td>\n",
              "      <td>NaN</td>\n",
              "    </tr>\n",
              "    <tr>\n",
              "      <th>3</th>\n",
              "      <td>18 - 34</td>\n",
              "      <td>NaN</td>\n",
              "      <td>2</td>\n",
              "      <td>2</td>\n",
              "      <td>2</td>\n",
              "      <td>0</td>\n",
              "      <td>0</td>\n",
              "      <td>0</td>\n",
              "      <td>0</td>\n",
              "      <td>0</td>\n",
              "      <td>...</td>\n",
              "      <td>NaN</td>\n",
              "      <td>NaN</td>\n",
              "      <td>NaN</td>\n",
              "      <td>NaN</td>\n",
              "      <td>NaN</td>\n",
              "      <td>NaN</td>\n",
              "      <td>NaN</td>\n",
              "      <td>NaN</td>\n",
              "      <td>NaN</td>\n",
              "      <td>NaN</td>\n",
              "    </tr>\n",
              "    <tr>\n",
              "      <th>4</th>\n",
              "      <td>18 - 34</td>\n",
              "      <td>NaN</td>\n",
              "      <td>5</td>\n",
              "      <td>5</td>\n",
              "      <td>5</td>\n",
              "      <td>0</td>\n",
              "      <td>1</td>\n",
              "      <td>1</td>\n",
              "      <td>0</td>\n",
              "      <td>1</td>\n",
              "      <td>...</td>\n",
              "      <td>NaN</td>\n",
              "      <td>NaN</td>\n",
              "      <td>NaN</td>\n",
              "      <td>NaN</td>\n",
              "      <td>NaN</td>\n",
              "      <td>NaN</td>\n",
              "      <td>NaN</td>\n",
              "      <td>NaN</td>\n",
              "      <td>NaN</td>\n",
              "      <td>NaN</td>\n",
              "    </tr>\n",
              "    <tr>\n",
              "      <th>...</th>\n",
              "      <td>...</td>\n",
              "      <td>...</td>\n",
              "      <td>...</td>\n",
              "      <td>...</td>\n",
              "      <td>...</td>\n",
              "      <td>...</td>\n",
              "      <td>...</td>\n",
              "      <td>...</td>\n",
              "      <td>...</td>\n",
              "      <td>...</td>\n",
              "      <td>...</td>\n",
              "      <td>...</td>\n",
              "      <td>...</td>\n",
              "      <td>...</td>\n",
              "      <td>...</td>\n",
              "      <td>...</td>\n",
              "      <td>...</td>\n",
              "      <td>...</td>\n",
              "      <td>...</td>\n",
              "      <td>...</td>\n",
              "      <td>...</td>\n",
              "    </tr>\n",
              "    <tr>\n",
              "      <th>65530</th>\n",
              "      <td>35-37</td>\n",
              "      <td>NaN</td>\n",
              "      <td>0</td>\n",
              "      <td>0</td>\n",
              "      <td>0</td>\n",
              "      <td>0</td>\n",
              "      <td>0</td>\n",
              "      <td>0</td>\n",
              "      <td>0</td>\n",
              "      <td>0</td>\n",
              "      <td>...</td>\n",
              "      <td>NaN</td>\n",
              "      <td>NaN</td>\n",
              "      <td>NaN</td>\n",
              "      <td>NaN</td>\n",
              "      <td>NaN</td>\n",
              "      <td>NaN</td>\n",
              "      <td>NaN</td>\n",
              "      <td>NaN</td>\n",
              "      <td>NaN</td>\n",
              "      <td>NaN</td>\n",
              "    </tr>\n",
              "    <tr>\n",
              "      <th>65531</th>\n",
              "      <td>18 - 34</td>\n",
              "      <td>NaN</td>\n",
              "      <td>1</td>\n",
              "      <td>1</td>\n",
              "      <td>1</td>\n",
              "      <td>0</td>\n",
              "      <td>0</td>\n",
              "      <td>0</td>\n",
              "      <td>0</td>\n",
              "      <td>0</td>\n",
              "      <td>...</td>\n",
              "      <td>NaN</td>\n",
              "      <td>NaN</td>\n",
              "      <td>NaN</td>\n",
              "      <td>NaN</td>\n",
              "      <td>NaN</td>\n",
              "      <td>NaN</td>\n",
              "      <td>NaN</td>\n",
              "      <td>NaN</td>\n",
              "      <td>NaN</td>\n",
              "      <td>NaN</td>\n",
              "    </tr>\n",
              "    <tr>\n",
              "      <th>65532</th>\n",
              "      <td>35-37</td>\n",
              "      <td>NaN</td>\n",
              "      <td>3</td>\n",
              "      <td>3</td>\n",
              "      <td>3</td>\n",
              "      <td>0</td>\n",
              "      <td>0</td>\n",
              "      <td>0</td>\n",
              "      <td>0</td>\n",
              "      <td>0</td>\n",
              "      <td>...</td>\n",
              "      <td>NaN</td>\n",
              "      <td>NaN</td>\n",
              "      <td>NaN</td>\n",
              "      <td>NaN</td>\n",
              "      <td>NaN</td>\n",
              "      <td>NaN</td>\n",
              "      <td>NaN</td>\n",
              "      <td>NaN</td>\n",
              "      <td>NaN</td>\n",
              "      <td>NaN</td>\n",
              "    </tr>\n",
              "    <tr>\n",
              "      <th>65533</th>\n",
              "      <td>18 - 34</td>\n",
              "      <td>NaN</td>\n",
              "      <td>1</td>\n",
              "      <td>1</td>\n",
              "      <td>1</td>\n",
              "      <td>0</td>\n",
              "      <td>1</td>\n",
              "      <td>1</td>\n",
              "      <td>0</td>\n",
              "      <td>1</td>\n",
              "      <td>...</td>\n",
              "      <td>NaN</td>\n",
              "      <td>NaN</td>\n",
              "      <td>NaN</td>\n",
              "      <td>NaN</td>\n",
              "      <td>NaN</td>\n",
              "      <td>NaN</td>\n",
              "      <td>NaN</td>\n",
              "      <td>NaN</td>\n",
              "      <td>NaN</td>\n",
              "      <td>NaN</td>\n",
              "    </tr>\n",
              "    <tr>\n",
              "      <th>65534</th>\n",
              "      <td>18 - 34</td>\n",
              "      <td>NaN</td>\n",
              "      <td>2</td>\n",
              "      <td>2</td>\n",
              "      <td>2</td>\n",
              "      <td>0</td>\n",
              "      <td>0</td>\n",
              "      <td>0</td>\n",
              "      <td>0</td>\n",
              "      <td>0</td>\n",
              "      <td>...</td>\n",
              "      <td>NaN</td>\n",
              "      <td>NaN</td>\n",
              "      <td>NaN</td>\n",
              "      <td>NaN</td>\n",
              "      <td>NaN</td>\n",
              "      <td>NaN</td>\n",
              "      <td>NaN</td>\n",
              "      <td>NaN</td>\n",
              "      <td>NaN</td>\n",
              "      <td>NaN</td>\n",
              "    </tr>\n",
              "  </tbody>\n",
              "</table>\n",
              "<p>65535 rows × 95 columns</p>\n",
              "</div>\n",
              "      <button class=\"colab-df-convert\" onclick=\"convertToInteractive('df-3716b92e-6c0d-43ce-b74c-987094f6aa33')\"\n",
              "              title=\"Convert this dataframe to an interactive table.\"\n",
              "              style=\"display:none;\">\n",
              "\n",
              "  <svg xmlns=\"http://www.w3.org/2000/svg\" height=\"24px\"viewBox=\"0 0 24 24\"\n",
              "       width=\"24px\">\n",
              "    <path d=\"M0 0h24v24H0V0z\" fill=\"none\"/>\n",
              "    <path d=\"M18.56 5.44l.94 2.06.94-2.06 2.06-.94-2.06-.94-.94-2.06-.94 2.06-2.06.94zm-11 1L8.5 8.5l.94-2.06 2.06-.94-2.06-.94L8.5 2.5l-.94 2.06-2.06.94zm10 10l.94 2.06.94-2.06 2.06-.94-2.06-.94-.94-2.06-.94 2.06-2.06.94z\"/><path d=\"M17.41 7.96l-1.37-1.37c-.4-.4-.92-.59-1.43-.59-.52 0-1.04.2-1.43.59L10.3 9.45l-7.72 7.72c-.78.78-.78 2.05 0 2.83L4 21.41c.39.39.9.59 1.41.59.51 0 1.02-.2 1.41-.59l7.78-7.78 2.81-2.81c.8-.78.8-2.07 0-2.86zM5.41 20L4 18.59l7.72-7.72 1.47 1.35L5.41 20z\"/>\n",
              "  </svg>\n",
              "      </button>\n",
              "\n",
              "\n",
              "\n",
              "    <div id=\"df-11aad8fd-f1f6-4ebd-ab80-7c9590356e4f\">\n",
              "      <button class=\"colab-df-quickchart\" onclick=\"quickchart('df-11aad8fd-f1f6-4ebd-ab80-7c9590356e4f')\"\n",
              "              title=\"Suggest charts.\"\n",
              "              style=\"display:none;\">\n",
              "\n",
              "<svg xmlns=\"http://www.w3.org/2000/svg\" height=\"24px\"viewBox=\"0 0 24 24\"\n",
              "     width=\"24px\">\n",
              "    <g>\n",
              "        <path d=\"M19 3H5c-1.1 0-2 .9-2 2v14c0 1.1.9 2 2 2h14c1.1 0 2-.9 2-2V5c0-1.1-.9-2-2-2zM9 17H7v-7h2v7zm4 0h-2V7h2v10zm4 0h-2v-4h2v4z\"/>\n",
              "    </g>\n",
              "</svg>\n",
              "      </button>\n",
              "    </div>\n",
              "\n",
              "<style>\n",
              "  .colab-df-quickchart {\n",
              "    background-color: #E8F0FE;\n",
              "    border: none;\n",
              "    border-radius: 50%;\n",
              "    cursor: pointer;\n",
              "    display: none;\n",
              "    fill: #1967D2;\n",
              "    height: 32px;\n",
              "    padding: 0 0 0 0;\n",
              "    width: 32px;\n",
              "  }\n",
              "\n",
              "  .colab-df-quickchart:hover {\n",
              "    background-color: #E2EBFA;\n",
              "    box-shadow: 0px 1px 2px rgba(60, 64, 67, 0.3), 0px 1px 3px 1px rgba(60, 64, 67, 0.15);\n",
              "    fill: #174EA6;\n",
              "  }\n",
              "\n",
              "  [theme=dark] .colab-df-quickchart {\n",
              "    background-color: #3B4455;\n",
              "    fill: #D2E3FC;\n",
              "  }\n",
              "\n",
              "  [theme=dark] .colab-df-quickchart:hover {\n",
              "    background-color: #434B5C;\n",
              "    box-shadow: 0px 1px 3px 1px rgba(0, 0, 0, 0.15);\n",
              "    filter: drop-shadow(0px 1px 2px rgba(0, 0, 0, 0.3));\n",
              "    fill: #FFFFFF;\n",
              "  }\n",
              "</style>\n",
              "\n",
              "    <script>\n",
              "      async function quickchart(key) {\n",
              "        const containerElement = document.querySelector('#' + key);\n",
              "        const charts = await google.colab.kernel.invokeFunction(\n",
              "            'suggestCharts', [key], {});\n",
              "      }\n",
              "    </script>\n",
              "\n",
              "      <script>\n",
              "\n",
              "function displayQuickchartButton(domScope) {\n",
              "  let quickchartButtonEl =\n",
              "    domScope.querySelector('#df-11aad8fd-f1f6-4ebd-ab80-7c9590356e4f button.colab-df-quickchart');\n",
              "  quickchartButtonEl.style.display =\n",
              "    google.colab.kernel.accessAllowed ? 'block' : 'none';\n",
              "}\n",
              "\n",
              "        displayQuickchartButton(document);\n",
              "      </script>\n",
              "      <style>\n",
              "    .colab-df-container {\n",
              "      display:flex;\n",
              "      flex-wrap:wrap;\n",
              "      gap: 12px;\n",
              "    }\n",
              "\n",
              "    .colab-df-convert {\n",
              "      background-color: #E8F0FE;\n",
              "      border: none;\n",
              "      border-radius: 50%;\n",
              "      cursor: pointer;\n",
              "      display: none;\n",
              "      fill: #1967D2;\n",
              "      height: 32px;\n",
              "      padding: 0 0 0 0;\n",
              "      width: 32px;\n",
              "    }\n",
              "\n",
              "    .colab-df-convert:hover {\n",
              "      background-color: #E2EBFA;\n",
              "      box-shadow: 0px 1px 2px rgba(60, 64, 67, 0.3), 0px 1px 3px 1px rgba(60, 64, 67, 0.15);\n",
              "      fill: #174EA6;\n",
              "    }\n",
              "\n",
              "    [theme=dark] .colab-df-convert {\n",
              "      background-color: #3B4455;\n",
              "      fill: #D2E3FC;\n",
              "    }\n",
              "\n",
              "    [theme=dark] .colab-df-convert:hover {\n",
              "      background-color: #434B5C;\n",
              "      box-shadow: 0px 1px 3px 1px rgba(0, 0, 0, 0.15);\n",
              "      filter: drop-shadow(0px 1px 2px rgba(0, 0, 0, 0.3));\n",
              "      fill: #FFFFFF;\n",
              "    }\n",
              "  </style>\n",
              "\n",
              "      <script>\n",
              "        const buttonEl =\n",
              "          document.querySelector('#df-3716b92e-6c0d-43ce-b74c-987094f6aa33 button.colab-df-convert');\n",
              "        buttonEl.style.display =\n",
              "          google.colab.kernel.accessAllowed ? 'block' : 'none';\n",
              "\n",
              "        async function convertToInteractive(key) {\n",
              "          const element = document.querySelector('#df-3716b92e-6c0d-43ce-b74c-987094f6aa33');\n",
              "          const dataTable =\n",
              "            await google.colab.kernel.invokeFunction('convertToInteractive',\n",
              "                                                     [key], {});\n",
              "          if (!dataTable) return;\n",
              "\n",
              "          const docLinkHtml = 'Like what you see? Visit the ' +\n",
              "            '<a target=\"_blank\" href=https://colab.research.google.com/notebooks/data_table.ipynb>data table notebook</a>'\n",
              "            + ' to learn more about interactive tables.';\n",
              "          element.innerHTML = '';\n",
              "          dataTable['output_type'] = 'display_data';\n",
              "          await google.colab.output.renderOutput(dataTable, element);\n",
              "          const docLink = document.createElement('div');\n",
              "          docLink.innerHTML = docLinkHtml;\n",
              "          element.appendChild(docLink);\n",
              "        }\n",
              "      </script>\n",
              "    </div>\n",
              "  </div>\n"
            ]
          },
          "metadata": {},
          "execution_count": 147
        }
      ]
    },
    {
      "cell_type": "code",
      "execution_count": null,
      "metadata": {
        "colab": {
          "base_uri": "https://localhost:8080/"
        },
        "id": "B15PO3-3Fb44",
        "outputId": "b98769dd-372b-46bc-bb20-56e068d22799"
      },
      "outputs": [
        {
          "output_type": "stream",
          "name": "stdout",
          "text": [
            "Patient Age at Treatment has : ['40-42' '45-50' '35-37' '18 - 34' '43-44' '38-39' '999'] unique values\n",
            "\n",
            "Date patient started trying to become pregnant OR date of last pregnancy has : [nan 13. 11. 10. 15. 16. 17. 14. 19. 12. 18. 20.  6.  9.  5.  8.  3.] unique values\n",
            "\n",
            "Total Number of Previous cycles, Both IVF and DI has : ['2' '3' '0' '5' '>=5' '1' '4'] unique values\n",
            "\n",
            "Total Number of Previous treatments, Both IVF and DI at clinic has : ['2' '3' '0' '5' '1' '>=5' '4'] unique values\n",
            "\n",
            "Total Number of Previous IVF cycles has : ['2' '3' '0' '5' '4' '1' '>=5'] unique values\n",
            "\n",
            "Total Number of Previous DI cycles has : ['0' '3' '>=5' '1' '2' '4' '5'] unique values\n",
            "\n",
            "Total number of previous pregnancies, Both IVF and DI has : ['0' '1' '2' '4' '3' '5' '>=5'] unique values\n",
            "\n",
            "Total number of IVF pregnancies has : ['0' '1' '2' '4' '3' '5' '>=5'] unique values\n",
            "\n",
            "Total number of DI pregnancies has : [0 1 3 2 4] unique values\n",
            "\n",
            "Total number of live births - conceived through IVF or DI has : [0 1 2 3 5 4] unique values\n",
            "\n",
            "Total number of live births - conceived through IVF has : [0 1 2 3 5 4] unique values\n",
            "\n",
            "Total number of live births - conceived through DI has : [0 1 2 3] unique values\n",
            "\n",
            "Type of Infertility - Female Primary has : [0 1] unique values\n",
            "\n",
            "Type of Infertility - Female Secondary has : [0 1] unique values\n",
            "\n",
            "Type of Infertility - Male Primary has : [0 1] unique values\n",
            "\n",
            "Type of Infertility - Male Secondary has : [0 1] unique values\n",
            "\n",
            "Type of Infertility -Couple Primary has : [0 1] unique values\n",
            "\n",
            "Type of Infertility -Couple Secondary has : [0 1] unique values\n",
            "\n",
            "Cause  of Infertility - Tubal disease has : [0 1] unique values\n",
            "\n",
            "Cause of Infertility - Ovulatory Disorder has : [0 1] unique values\n",
            "\n",
            "Cause of Infertility - Male Factor has : [0 1] unique values\n",
            "\n",
            "Cause of Infertility - Patient Unexplained has : [1 0] unique values\n",
            "\n",
            "Cause of Infertility - Endometriosis has : [0 1] unique values\n",
            "\n",
            "Cause of Infertility - Cervical factors has : [0 1] unique values\n",
            "\n",
            "Cause of Infertility - Female Factors has : [0] unique values\n",
            "\n",
            "Cause of Infertility - Partner Sperm Concentration has : [0 1] unique values\n",
            "\n",
            "Cause of Infertility -  Partner Sperm Morphology has : [0 1] unique values\n",
            "\n",
            "Causes of Infertility - Partner Sperm Motility has : [0 1] unique values\n",
            "\n",
            "Cause of Infertility -  Partner Sperm Immunological factors has : [0] unique values\n",
            "\n",
            "Main Reason for Producing Embroys Storing Eggs has : ['Treatment Now ' 'For Storing Eggs ' 'For Storing Embryos '\n",
            " 'For Donation ' 'Treatment Now ,For Donation '\n",
            " 'For Donation ,For Storing Eggs ' 'Treatment Now ,For Storing Embryos '\n",
            " 'For Donation ,For Storing Embryos '\n",
            " 'Treatment Now ,For Donation ,For Storing Embryos '\n",
            " 'For Storing Embryos ,For Storing Eggs ,For Research '\n",
            " 'For Storing Embryos ,For Storing Eggs '] unique values\n",
            "\n",
            "Stimulation used has : [0 1] unique values\n",
            "\n",
            "Type of Ovulation Induction has : [nan 'Yes but not recorded' 'Cetrotide '] unique values\n",
            "\n",
            "Egg Donor Age at Registration has : [nan 'Between 21 and 25' 'Between 26 and 30' 'Between 31 and 35' '999'\n",
            " '<= 20'] unique values\n",
            "\n",
            "Sperm Donor Age at Registration has : [nan 'Between 26 and 30' 'Between 21 and 25' 'Between 41 and 45'\n",
            " 'Between 31 and 35' '999' '<= 20' 'Between 36 and 40'] unique values\n",
            "\n",
            "Donated embryo has : [0 1] unique values\n",
            "\n",
            "Patient acting as Surrogate has : [0 1] unique values\n",
            "\n",
            "Type of treatment - IVF or DI has : ['IVF'] unique values\n",
            "\n",
            "Specific treatment type has : ['IVF' 'ICSI' 'Unknown' 'IVF:IVF' 'ICSI:ICSI' 'IVF:Unknown' 'ICSI:Unknown'\n",
            " 'ICSI:IVF' 'ICSI / BLASTOCYST ' 'IVF:ICSI' 'ICSI / AH' 'FER' 'IVF / AH'\n",
            " 'IVF / BLASTOCYST'] unique values\n",
            "\n",
            "PGD has : [0 1] unique values\n",
            "\n",
            "PGD treatment has : [nan  1.] unique values\n",
            "\n",
            "PGS has : [nan  1.] unique values\n",
            "\n",
            "PGS Treatment has : [nan  1.] unique values\n",
            "\n",
            "Elective Single Embryo Transfer has : [1 0] unique values\n",
            "\n",
            "Egg Source has : ['Patient' 'Donor'] unique values\n",
            "\n",
            "Sperm From has : ['Partner' 'Donor' 'not assigned' 'Partner & Donor'] unique values\n",
            "\n",
            "Fresh Cycle has : [0 1] unique values\n",
            "\n",
            "Frozen Cycle has : [1 0] unique values\n",
            "\n",
            "Eggs Thawed has : [ 0  3  6  9  8 12  5 10  7 11  4 13 14 16 18  2 15  1 33 17 21 24 19 26\n",
            " 20 25] unique values\n",
            "\n",
            "Fresh Eggs Collected has : ['0' '4' '12' '6' '1' '31' '8' '11' '34' '10' '3' '2' '14' '7' '15' '30'\n",
            " '17' '16' '5' '13' '21' '33' '9' '22' '19' '37' '24' '23' '27' '18' '40'\n",
            " '20' '26' '38' '25' '46' '32' '29' '> 50' '28' '42' '35' '44' '43' '36'\n",
            " '39' '47' '45' '41' '48' '49'] unique values\n",
            "\n",
            "Fresh Eggs Stored has : [ 0  6  4 34 10 17 13  9  1 12 11  5  7  3 27  8 28  2 14 21 18 15 20 16\n",
            " 30 44 24 19 25 35 23 26 22 33] unique values\n",
            "\n",
            "Total Eggs Mixed has : ['0' '3' '4' '6' '1' '13' '8' '11' '10' '7' '15' '9' '21' '2' '17' '12'\n",
            " '5' '16' '33' '14' '24' '20' '23' '19' '18' '22' '27' '25' '26' '47'\n",
            " '> 50' '28' '36' '29' '38' '34' '30' '32' '37' '31' '43' '42' '35' '46'\n",
            " '45' '41' '48' '39' '40' '49' '44'] unique values\n",
            "\n",
            "Eggs Mixed With Partner Sperm has : ['0' '3' '4' '1' '13' '8' '11' '10' '7' '15' '9' '6' '2' '17' '12' '5'\n",
            " '16' '33' '14' '24' '21' '23' '19' '18' '20' '22' '25' '26' '27' '47'\n",
            " '> 50' '28' '36' '29' '38' '34' '30' '37' '31' '43' '32' '42' '35' '46'\n",
            " '45' '41' '48' '39' '40' '49' '44'] unique values\n",
            "\n",
            "Eggs Mixed With Donor sperm has : ['0' '6' '4' '3' '20' '17' '12' '1' '9' '5' '10' '13' '8' '7' '22' '11'\n",
            " '19' '16' '15' '21' '25' '18' '14' '2' '47' '23' '27' '31' '29' '28' '32'\n",
            " '33' '26' '37' '30' '24' '35' '45' '42' '36' '34' '> 50'] unique values\n",
            "\n",
            "Total Embryos Created has : ['0' '3' '4' '1' '8' '6' '2' '9' '7' '5' '12' '17' '13' '10' '11' '24'\n",
            " '14' '15' '16' '18' '19' '20' '26' '43' '28' '23' '21' '> 50' '22' '27'\n",
            " '25' '30' '31' '32' '33' '34' '29' '37' '35' '36' '39'] unique values\n",
            "\n",
            "Eggs Micro-injected has : ['0' '3' '4' '6' '1' '13' '10' '9' '2' '7' '12' '11' '14' '8' '15' '24'\n",
            " '17' '21' '5' '20' '19' '18' '16' '33' '27' '47' '31' '26' '36' '22' '34'\n",
            " '23' '30' '28' '37' '25' '35' '45' '38' '29' '32' '42' '41' '39' '40'\n",
            " '46' '43' '> 50'] unique values\n",
            "\n",
            "Embryos from Eggs Micro-injected has : [ 0  3  4  1  8  6  9  7  5  2 11 14 15 16 10 12 18 13 17 26 20 27 28 22\n",
            " 23 25 21 19 31 24 30 37 32 29 34 39 36] unique values\n",
            "\n",
            "Total Embryos Thawed has : [ 1  0  2  4  3  5  6 10  8 11  7 15  9 14 16 12 13 21 18 19 17 23 22 26\n",
            " 24] unique values\n",
            "\n",
            "Embryos Transfered has : [1 2 0 3] unique values\n",
            "\n",
            "Embryos Transfered from Eggs Micro-injected has : [0 2 3 1] unique values\n",
            "\n",
            "Embryos Stored For Use By Patient has : [ 0  1  2  5  3  8  4  7 10  6  9 11 14 12 20 15 13 22 16 17 23 18 21 19\n",
            " 28 25 24 30 32 34 31 26] unique values\n",
            "\n",
            "Embryos (from Eggs Micro-injected) Stored For Use By Patient has : [ 0  1  3  2  5  7 10  6  4  9 12 11  8 20 15 13 16 17 23 21 14 28 18 25\n",
            " 24 19 30 34 22] unique values\n",
            "\n",
            "Date of Egg Collection has : [nan  0.] unique values\n",
            "\n",
            "Date of Egg Thawing has : [ nan   0. 999.] unique values\n",
            "\n",
            "Date of Egg Mixing has : [ nan   0.   6.   1.   2. 999.   5.   3.   4.] unique values\n",
            "\n",
            "Date of Embryo Thawing has : [  0.  nan   5. 999.   1.   3.   6.   4.   2.   7.] unique values\n",
            "\n",
            "Date of Embryo Transfer has : [  0.   5.  nan   3.   1.   2.   6. 999.   4.   7.] unique values\n",
            "\n",
            "Year of Treatment has : [2016 2015] unique values\n",
            "\n",
            "Live Birth Occurrence has : [ 1. nan] unique values\n",
            "\n",
            "Number of Live Births has : [1 0 2 3] unique values\n",
            "\n",
            "Early Outcome has : ['Intrauterine Fetal Pulsation Seen ' 'None ' nan\n",
            " 'Biochemical Pregnancy Only ' 'Misscarriage '\n",
            " 'Misscarriage ,Intrauterine Fetal Pulsation Seen ' 'Ectopic '\n",
            " 'None ,Intrauterine Fetal Pulsation Seen ' 'Hetrotopic '\n",
            " 'Hetrotopic ,Intrauterine Fetal Pulsation Seen ' 'None ,Misscarriage '\n",
            " 'None ,Biochemical Pregnancy Only '\n",
            " 'Biochemical Pregnancy Only ,Misscarriage ' 'Molar '\n",
            " 'Biochemical Pregnancy Only ,Intrauterine Fetal Pulsation Seen '\n",
            " 'Ectopic ,Hetrotopic '] unique values\n",
            "\n",
            "Number of foetal sacs with fetal pulsation has : [ 1  0  2  3 40] unique values\n",
            "\n",
            "Heart One Weeks Gestation has : ['39' nan '35' '38' 'Greater than 40 weeks' '40' '37' '36'\n",
            " 'Less than 30 weeks' '31' '30' '34' '32' '33'] unique values\n",
            "\n",
            "Heart One Birth Outcome has : ['Live  Birth' nan 'Miscarriage' 'Still Birth' 'Lost to Follow Up'\n",
            " 'Termination' 'Embryo Reduction' 'Ectotopic/Hetrotopic Pregnancy'] unique values\n",
            "\n",
            "Heart One Birth Weight has : ['Between 3.5kg and 3.99Kg' nan 'Between 2.5kg and 2.99Kg'\n",
            " 'Between 3.0kg and 3.49Kg' 'Between 4.5kg and 4.99Kg'\n",
            " 'Between 2.0kg and 2.49Kg' 'Between 4.0kg and 4.49Kg'\n",
            " 'Between 1.5kg and 1.99Kg' 'Between 1kg and 1.49Kg'\n",
            " 'Between 5.0kg and 5.49Kg' 'Less than 1kg' '6kg or greater'\n",
            " 'Between 5.5kg and 5.99Kg'] unique values\n",
            "\n",
            "Heart OneSex has : ['F' nan 'M'] unique values\n",
            "\n",
            "Heart One Delivery Date has : [ 999.   nan 2016. 2015. 2014. 2013.] unique values\n",
            "\n",
            "Heart One Birth Congenital Abnormalities has : [nan] unique values\n",
            "\n",
            "Heart Two Weeks Gestation has : [nan '37' '38' '36' '35' 'Greater than 40 weeks' 'Less than 30 weeks' '39'\n",
            " '33' '34' '40' '31' '32' '30'] unique values\n",
            "\n",
            "Heart Two Birth Outcome has : [nan 'Live  Birth' 'Miscarriage' 'Still Birth' 'Embryo Reduction'\n",
            " 'Ectotopic/Hetrotopic Pregnancy'] unique values\n",
            "\n",
            "Heart Two Birth Weight has : [nan 'Between 1.5kg and 1.99Kg' 'Between 2.5kg and 2.99Kg'\n",
            " 'Between 2.0kg and 2.49Kg' 'Between 3.0kg and 3.49Kg' 'Less than 1kg'\n",
            " 'Between 3.5kg and 3.99Kg' 'Between 4.0kg and 4.49Kg'\n",
            " 'Between 1kg and 1.49Kg' 'Between 4.5kg and 4.99Kg'\n",
            " 'Between 5.5kg and 5.99Kg' 'Between 5.0kg and 5.49Kg' '6kg or greater'] unique values\n",
            "\n",
            "Heart Two Sex has : [nan 'F' 'M'] unique values\n",
            "\n",
            "Heart Two Delivery Date has : [  nan  999. 2016. 2015.] unique values\n",
            "\n",
            "Heart Two Birth Congenital Abnormalities has : [nan] unique values\n",
            "\n",
            "Heart Three Weeks Gestation has : [nan 'Less than 30 weeks' '31' '32' '34' '36' '38' '37' '33' '40' '30'\n",
            " '35'] unique values\n",
            "\n",
            "Heart Three Birth Outcome has : [nan 'Live  Birth' 'Miscarriage' 'Embryo Reduction' 'Still Birth'] unique values\n",
            "\n",
            "Heart Three Birth Weight has : [nan 'Between 1kg and 1.49Kg' 'Between 2.0kg and 2.49Kg'\n",
            " 'Between 1.5kg and 1.99Kg' 'Between 3.5kg and 3.99Kg'\n",
            " 'Between 3.0kg and 3.49Kg' 'Less than 1kg' 'Between 2.5kg and 2.99Kg'] unique values\n",
            "\n",
            "Heart Three Sex has : [nan 'M' 'F'] unique values\n",
            "\n",
            "Heart Three Delivery Date has : [  nan  999. 2016. 2015.] unique values\n",
            "\n",
            "Heart Three Birth Congenital Abnormalities has : [nan] unique values\n",
            "\n",
            "Heart Four Weeks Gestation has : [nan] unique values\n",
            "\n",
            "Heart Four Birth Outcome has : [nan] unique values\n",
            "\n",
            "Heart Four Birth Weight has : [nan] unique values\n",
            "\n",
            "Heart Four Sex has : [nan] unique values\n",
            "\n",
            "Heart Four Delivery Date has : [nan] unique values\n",
            "\n",
            "Heart Four Birth Congenital Abnormalities has : [nan] unique values\n",
            "\n"
          ]
        }
      ],
      "source": [
        "for col in data:\n",
        "    print(f\"{col} has : {data[col].unique()} unique values\\n\")\n"
      ]
    },
    {
      "cell_type": "code",
      "execution_count": 4,
      "metadata": {
        "id": "bfskz115hvot"
      },
      "outputs": [],
      "source": [
        "selected_features = [\n",
        "    \"Patient Age at Treatment\",\n",
        "    \"Total Number of Previous IVF cycles\",\n",
        "    \"Total number of IVF pregnancies\",\n",
        "    \"Total number of live births - conceived through IVF\",\n",
        "    \"Type of Infertility - Female Primary\",\n",
        "    \"Type of Infertility - Female Secondary\",\n",
        "    \"Type of Infertility - Male Primary\",\n",
        "    \"Type of Infertility - Male Secondary\",\n",
        "    \"Type of Infertility -Couple Primary\",\n",
        "    \"Type of Infertility -Couple Secondary\",\n",
        "    \"Cause  of Infertility - Tubal disease\",\n",
        "    \"Cause of Infertility - Ovulatory Disorder\",\n",
        "    \"Cause of Infertility - Male Factor\",\n",
        "    \"Cause of Infertility - Patient Unexplained\",\n",
        "    \"Cause of Infertility - Endometriosis\",\n",
        "    \"Cause of Infertility - Cervical factors\",\n",
        "    \"Cause of Infertility - Female Factors\",\n",
        "    \"Cause of Infertility - Partner Sperm Concentration\",\n",
        "    \"Cause of Infertility -  Partner Sperm Morphology\",\n",
        "    \"Causes of Infertility - Partner Sperm Motility\",\n",
        "    \"Cause of Infertility -  Partner Sperm Immunological factors\",\n",
        "    \"Stimulation used\",\n",
        "    \"Egg Source\",\n",
        "    \"Sperm From\",\n",
        "    \"Fresh Cycle\",\n",
        "    \"Frozen Cycle\",\n",
        "    \"Eggs Thawed\",\n",
        "    \"Fresh Eggs Collected\",\n",
        "    \"Eggs Mixed With Partner Sperm\",\n",
        "    \"Embryos Transfered\",\n",
        "    \"Number of Live Births\"\n",
        "]\n",
        "# Keep only the selected features\n",
        "df_selected = data[selected_features]\n",
        "\n"
      ]
    },
    {
      "cell_type": "code",
      "execution_count": 5,
      "metadata": {
        "colab": {
          "base_uri": "https://localhost:8080/"
        },
        "id": "hosUEMmhr7yJ",
        "outputId": "32532b77-61a2-40a5-9cf4-69ebe58fa8a2"
      },
      "outputs": [
        {
          "output_type": "stream",
          "name": "stdout",
          "text": [
            "0        1\n",
            "1        0\n",
            "2        0\n",
            "3        0\n",
            "4        0\n",
            "        ..\n",
            "65530    1\n",
            "65531    0\n",
            "65532    1\n",
            "65533    1\n",
            "65534    0\n",
            "Name: Number of Live Births, Length: 65535, dtype: int64\n"
          ]
        }
      ],
      "source": [
        "# Keep only the selected features\n",
        "df_selected = data[selected_features]\n",
        "\n",
        "\n",
        "\n",
        "\n",
        "def convert_to_binary_classification(df):\n",
        "    # Copy the original DataFrame\n",
        "    df_selected = df.copy()\n",
        "\n",
        "\n",
        "    # Set values greater than 1 to 1, and the rest to 0\n",
        "    df_selected[\"Number of Live Births\"] = df_selected[\"Number of Live Births\"].apply(lambda x: 1 if x >= 1 else 0)\n",
        "\n",
        "\n",
        "    return df_selected\n",
        "\n",
        "\n",
        "# Assume `df` is your original DataFrame\n",
        "\n",
        "\n",
        "# Convert the \"Live-birth Occurrence\" column to binary classification\n",
        "df_selected = convert_to_binary_classification(df_selected)\n",
        "\n",
        "\n",
        "# Display the result\n",
        "print(df_selected[\"Number of Live Births\"])\n",
        "\n",
        "\n",
        "\n"
      ]
    },
    {
      "cell_type": "code",
      "execution_count": null,
      "metadata": {
        "colab": {
          "base_uri": "https://localhost:8080/"
        },
        "id": "oWZ6-F0Zir-a",
        "outputId": "460eb453-403c-4d3f-e416-23bbce155815"
      },
      "outputs": [
        {
          "output_type": "stream",
          "name": "stdout",
          "text": [
            "Patient Age at Treatment has : ['40-42' '45-50' '35-37' '18 - 34' '43-44' '38-39' '999'] unique values\n",
            "\n",
            "Total Number of Previous IVF cycles has : ['2' '3' '0' '5' '4' '1' '>=5'] unique values\n",
            "\n",
            "Total number of IVF pregnancies has : ['0' '1' '2' '4' '3' '5' '>=5'] unique values\n",
            "\n",
            "Total number of live births - conceived through IVF has : [0 1 2 3 5 4] unique values\n",
            "\n",
            "Type of Infertility - Female Primary has : [0 1] unique values\n",
            "\n",
            "Type of Infertility - Female Secondary has : [0 1] unique values\n",
            "\n",
            "Type of Infertility - Male Primary has : [0 1] unique values\n",
            "\n",
            "Type of Infertility - Male Secondary has : [0 1] unique values\n",
            "\n",
            "Type of Infertility -Couple Primary has : [0 1] unique values\n",
            "\n",
            "Type of Infertility -Couple Secondary has : [0 1] unique values\n",
            "\n",
            "Cause  of Infertility - Tubal disease has : [0 1] unique values\n",
            "\n",
            "Cause of Infertility - Ovulatory Disorder has : [0 1] unique values\n",
            "\n",
            "Cause of Infertility - Male Factor has : [0 1] unique values\n",
            "\n",
            "Cause of Infertility - Patient Unexplained has : [1 0] unique values\n",
            "\n",
            "Cause of Infertility - Endometriosis has : [0 1] unique values\n",
            "\n",
            "Cause of Infertility - Cervical factors has : [0 1] unique values\n",
            "\n",
            "Cause of Infertility - Female Factors has : [0] unique values\n",
            "\n",
            "Cause of Infertility - Partner Sperm Concentration has : [0 1] unique values\n",
            "\n",
            "Cause of Infertility -  Partner Sperm Morphology has : [0 1] unique values\n",
            "\n",
            "Causes of Infertility - Partner Sperm Motility has : [0 1] unique values\n",
            "\n",
            "Cause of Infertility -  Partner Sperm Immunological factors has : [0] unique values\n",
            "\n",
            "Stimulation used has : [0 1] unique values\n",
            "\n",
            "Egg Source has : ['Patient' 'Donor'] unique values\n",
            "\n",
            "Sperm From has : ['Partner' 'Donor' 'not assigned' 'Partner & Donor'] unique values\n",
            "\n",
            "Fresh Cycle has : [0 1] unique values\n",
            "\n",
            "Frozen Cycle has : [1 0] unique values\n",
            "\n",
            "Eggs Thawed has : [ 0  3  6  9  8 12  5 10  7 11  4 13 14 16 18  2 15  1 33 17 21 24 19 26\n",
            " 20 25] unique values\n",
            "\n",
            "Fresh Eggs Collected has : ['0' '4' '12' '6' '1' '31' '8' '11' '34' '10' '3' '2' '14' '7' '15' '30'\n",
            " '17' '16' '5' '13' '21' '33' '9' '22' '19' '37' '24' '23' '27' '18' '40'\n",
            " '20' '26' '38' '25' '46' '32' '29' '> 50' '28' '42' '35' '44' '43' '36'\n",
            " '39' '47' '45' '41' '48' '49'] unique values\n",
            "\n",
            "Eggs Mixed With Partner Sperm has : ['0' '3' '4' '1' '13' '8' '11' '10' '7' '15' '9' '6' '2' '17' '12' '5'\n",
            " '16' '33' '14' '24' '21' '23' '19' '18' '20' '22' '25' '26' '27' '47'\n",
            " '> 50' '28' '36' '29' '38' '34' '30' '37' '31' '43' '32' '42' '35' '46'\n",
            " '45' '41' '48' '39' '40' '49' '44'] unique values\n",
            "\n",
            "Embryos Transfered has : [1 2 0 3] unique values\n",
            "\n",
            "Number of Live Births has : [1 0] unique values\n",
            "\n"
          ]
        }
      ],
      "source": [
        "for col in df_selected:\n",
        "    print(f\"{col} has : {df_selected[col].unique()} unique values\\n\")"
      ]
    },
    {
      "cell_type": "code",
      "execution_count": null,
      "metadata": {
        "colab": {
          "base_uri": "https://localhost:8080/",
          "height": 465
        },
        "id": "ctNajfcyno7U",
        "outputId": "0ab3a9df-cc5c-484e-aa05-d2d6e3af9d54"
      },
      "outputs": [
        {
          "output_type": "display_data",
          "data": {
            "text/plain": [
              "<Figure size 500x500 with 1 Axes>"
            ],
            "image/png": "[encoded data removed]"
          },
          "metadata": {}
        }
      ],
      "source": [
        "plt.figure(figsize=(5, 5))\n",
        "ax = sns.countplot(x = df_selected[\"Number of Live Births\"], palette=\"GnBu\")\n",
        "for p in ax.patches:\n",
        "    ax.annotate('{:.1f}'.format(p.get_height()), (p.get_x()+0.25, p.get_height()+0.01))\n",
        "plt.show()"
      ]
    },
    {
      "cell_type": "code",
      "execution_count": null,
      "metadata": {
        "colab": {
          "base_uri": "https://localhost:8080/"
        },
        "id": "YgnYOqr3oDN5",
        "outputId": "235fb001-1f62-4e6a-9c8b-32ff52bbc5f4"
      },
      "outputs": [
        {
          "output_type": "stream",
          "name": "stdout",
          "text": [
            "No Live birth occurrence 75.19 % of the dataset\n",
            "Live birth occurrence 24.81 % of the dataset\n"
          ]
        }
      ],
      "source": [
        "# The classes are heavily skewed we need to solve this issue later.\n",
        "print('No Live birth occurrence', round(df_selected[\"Number of Live Births\"].value_counts()[0]/len(data) * 100,2), '% of the dataset')\n",
        "print('Live birth occurrence', round(df_selected[\"Number of Live Births\"].value_counts()[1]/len(data) * 100,2), '% of the dataset')"
      ]
    },
    {
      "cell_type": "code",
      "execution_count": 6,
      "metadata": {
        "id": "fgWR3ciXtI_r"
      },
      "outputs": [],
      "source": [
        "df_selected.rename(columns={\"Number of Live Births\": \"Live birth occurrence\"}, inplace=True)\n"
      ]
    },
    {
      "cell_type": "code",
      "execution_count": 7,
      "metadata": {
        "id": "jF4_KM4FizTA"
      },
      "outputs": [],
      "source": [
        "# Delete rows with Patient Age at Treatment = 999\n",
        "df = df_selected[df_selected[\"Patient Age at Treatment\"] != '999']\n"
      ]
    },
    {
      "cell_type": "code",
      "execution_count": 8,
      "metadata": {
        "id": "8I9tcgpqjCF3"
      },
      "outputs": [],
      "source": [
        "def convert_age_range(age_range):\n",
        "    if age_range == \"18 - 34\":\n",
        "        return 0\n",
        "    elif age_range ==  \"35-37\":\n",
        "        return 1\n",
        "    elif age_range == \"38-39\":\n",
        "        return 2\n",
        "    elif age_range == \"40-42\":\n",
        "        return 3\n",
        "    elif age_range ==  \"43-44\":\n",
        "        return 4\n",
        "    elif age_range ==  \"45-50\":\n",
        "        return 5\n",
        "    else:\n",
        "        return None\n"
      ]
    },
    {
      "cell_type": "code",
      "execution_count": 9,
      "metadata": {
        "id": "kZwJKHwGjV4t"
      },
      "outputs": [],
      "source": [
        "# Assume `df` is your DataFrame with the \"Age Range\" column\n",
        "\n",
        "# Apply the conversion function to the \"Age Range\" column\n",
        "df[\"Patient Age at Treatment\"] = df[\"Patient Age at Treatment\"].apply(convert_age_range).astype('Int64')\n",
        "\n"
      ]
    },
    {
      "cell_type": "code",
      "execution_count": null,
      "metadata": {
        "colab": {
          "base_uri": "https://localhost:8080/"
        },
        "id": "_jSVsvBzxNK5",
        "outputId": "3c0c70c1-6b43-412f-952a-660cd4a2c3ac"
      },
      "outputs": [
        {
          "output_type": "stream",
          "name": "stdout",
          "text": [
            "Patient Age at Treatment has : <IntegerArray>\n",
            "[3, 5, 1, 0, 4, 2]\n",
            "Length: 6, dtype: Int64 unique values\n",
            "\n",
            "Total Number of Previous IVF cycles has : ['2' '3' '0' '5' '4' '1' '>=5'] unique values\n",
            "\n",
            "Total number of IVF pregnancies has : ['0' '1' '2' '4' '3' '5' '>=5'] unique values\n",
            "\n",
            "Total number of live births - conceived through IVF has : [0 1 2 3 5 4] unique values\n",
            "\n",
            "Type of Infertility - Female Primary has : [0 1] unique values\n",
            "\n",
            "Type of Infertility - Female Secondary has : [0 1] unique values\n",
            "\n",
            "Type of Infertility - Male Primary has : [0 1] unique values\n",
            "\n",
            "Type of Infertility - Male Secondary has : [0 1] unique values\n",
            "\n",
            "Type of Infertility -Couple Primary has : [0 1] unique values\n",
            "\n",
            "Type of Infertility -Couple Secondary has : [0 1] unique values\n",
            "\n",
            "Cause  of Infertility - Tubal disease has : [0 1] unique values\n",
            "\n",
            "Cause of Infertility - Ovulatory Disorder has : [0 1] unique values\n",
            "\n",
            "Cause of Infertility - Male Factor has : [0 1] unique values\n",
            "\n",
            "Cause of Infertility - Patient Unexplained has : [1 0] unique values\n",
            "\n",
            "Cause of Infertility - Endometriosis has : [0 1] unique values\n",
            "\n",
            "Cause of Infertility - Cervical factors has : [0 1] unique values\n",
            "\n",
            "Cause of Infertility - Female Factors has : [0] unique values\n",
            "\n",
            "Cause of Infertility - Partner Sperm Concentration has : [0 1] unique values\n",
            "\n",
            "Cause of Infertility -  Partner Sperm Morphology has : [0 1] unique values\n",
            "\n",
            "Causes of Infertility - Partner Sperm Motility has : [0 1] unique values\n",
            "\n",
            "Cause of Infertility -  Partner Sperm Immunological factors has : [0] unique values\n",
            "\n",
            "Stimulation used has : [0 1] unique values\n",
            "\n",
            "Egg Source has : ['Patient' 'Donor'] unique values\n",
            "\n",
            "Sperm From has : ['Partner' 'Donor' 'not assigned' 'Partner & Donor'] unique values\n",
            "\n",
            "Fresh Cycle has : [0 1] unique values\n",
            "\n",
            "Frozen Cycle has : [1 0] unique values\n",
            "\n",
            "Eggs Thawed has : [ 0  3  6  9  8 12  5 10  7 11  4 13 14 16 18  2 15  1 33 17 21 24 19 26\n",
            " 20 25] unique values\n",
            "\n",
            "Fresh Eggs Collected has : ['0' '4' '12' '6' '1' '31' '8' '11' '34' '10' '3' '2' '14' '7' '15' '30'\n",
            " '17' '16' '5' '13' '21' '33' '9' '22' '19' '37' '24' '23' '27' '18' '20'\n",
            " '26' '38' '25' '46' '29' '> 50' '40' '28' '42' '35' '36' '32' '39' '47'\n",
            " '43' '41' '48' '49' '44' '45'] unique values\n",
            "\n",
            "Eggs Mixed With Partner Sperm has : ['0' '3' '4' '1' '13' '8' '11' '10' '7' '15' '9' '6' '2' '17' '12' '5'\n",
            " '16' '33' '14' '24' '21' '23' '19' '18' '20' '22' '25' '26' '27' '47'\n",
            " '> 50' '28' '36' '29' '38' '34' '30' '37' '31' '43' '32' '42' '35' '46'\n",
            " '45' '41' '48' '39' '40' '49' '44'] unique values\n",
            "\n",
            "Embryos Transfered has : [1 2 0 3] unique values\n",
            "\n",
            "Live birth occurrence has : [1 0] unique values\n",
            "\n"
          ]
        }
      ],
      "source": [
        "for col in df:\n",
        "    print(f\"{col} has : {df[col].unique()} unique values\\n\")"
      ]
    },
    {
      "cell_type": "code",
      "execution_count": null,
      "metadata": {
        "colab": {
          "base_uri": "https://localhost:8080/"
        },
        "id": "rBO6Yx5rl_bz",
        "outputId": "a8cf206e-d003-46a2-a623-0a0538eb4cc7"
      },
      "outputs": [
        {
          "output_type": "execute_result",
          "data": {
            "text/plain": [
              "Patient Age at Treatment                                       0\n",
              "Total Number of Previous IVF cycles                            0\n",
              "Total number of IVF pregnancies                                0\n",
              "Total number of live births - conceived through IVF            0\n",
              "Type of Infertility - Female Primary                           0\n",
              "Type of Infertility - Female Secondary                         0\n",
              "Type of Infertility - Male Primary                             0\n",
              "Type of Infertility - Male Secondary                           0\n",
              "Type of Infertility -Couple Primary                            0\n",
              "Type of Infertility -Couple Secondary                          0\n",
              "Cause  of Infertility - Tubal disease                          0\n",
              "Cause of Infertility - Ovulatory Disorder                      0\n",
              "Cause of Infertility - Male Factor                             0\n",
              "Cause of Infertility - Patient Unexplained                     0\n",
              "Cause of Infertility - Endometriosis                           0\n",
              "Cause of Infertility - Cervical factors                        0\n",
              "Cause of Infertility - Female Factors                          0\n",
              "Cause of Infertility - Partner Sperm Concentration             0\n",
              "Cause of Infertility -  Partner Sperm Morphology               0\n",
              "Causes of Infertility - Partner Sperm Motility                 0\n",
              "Cause of Infertility -  Partner Sperm Immunological factors    0\n",
              "Stimulation used                                               0\n",
              "Egg Source                                                     0\n",
              "Sperm From                                                     0\n",
              "Fresh Cycle                                                    0\n",
              "Frozen Cycle                                                   0\n",
              "Eggs Thawed                                                    0\n",
              "Fresh Eggs Collected                                           0\n",
              "Eggs Mixed With Partner Sperm                                  0\n",
              "Embryos Transfered                                             0\n",
              "Live birth occurrence                                          0\n",
              "dtype: int64"
            ]
          },
          "metadata": {},
          "execution_count": 55
        }
      ],
      "source": [
        "df.isnull().sum()\n"
      ]
    },
    {
      "cell_type": "code",
      "execution_count": null,
      "metadata": {
        "id": "E6WzqOQqvdAf"
      },
      "outputs": [],
      "source": [
        "# Drop rows with NaN values\n",
        "#df.dropna(inplace=True)\n",
        "\n",
        "\n"
      ]
    },
    {
      "cell_type": "code",
      "execution_count": null,
      "metadata": {
        "id": "UdaPT9TkfnlG"
      },
      "outputs": [],
      "source": [
        "#X = df.loc[:, df.columns != 'Live birth occurrence']\n",
        "#X = X.apply(pd.to_numeric, errors='coerce')\n",
        "#df1=X.fillna(X.median())\n"
      ]
    },
    {
      "cell_type": "code",
      "execution_count": null,
      "metadata": {
        "id": "LoN1RDWJkQ0T"
      },
      "outputs": [],
      "source": [
        "#Y = df['Live birth occurrence']"
      ]
    },
    {
      "cell_type": "code",
      "execution_count": null,
      "metadata": {
        "id": "ripEQKqBkDzM"
      },
      "outputs": [],
      "source": [
        "#df=pd.concat([df1, Y], axis=1, join='inner')\n"
      ]
    },
    {
      "cell_type": "code",
      "execution_count": 10,
      "metadata": {
        "id": "iiiwLjzhXqIG"
      },
      "outputs": [],
      "source": [
        "df.loc[df['Total Number of Previous IVF cycles'] == '>=5', 'Total Number of Previous IVF cycles'] = 6\n",
        "df['Total Number of Previous IVF cycles'] = df['Total Number of Previous IVF cycles'].astype(int)\n"
      ]
    },
    {
      "cell_type": "code",
      "execution_count": 11,
      "metadata": {
        "id": "dJJNm860aFxt"
      },
      "outputs": [],
      "source": [
        "df.loc[df['Fresh Eggs Collected'] == '> 50', 'Fresh Eggs Collected'] = 60\n",
        "df['Fresh Eggs Collected'] = df['Fresh Eggs Collected'].astype(int)"
      ]
    },
    {
      "cell_type": "code",
      "execution_count": 12,
      "metadata": {
        "id": "NcoayLc_afws"
      },
      "outputs": [],
      "source": [
        "df.loc[df['Eggs Mixed With Partner Sperm'] == '> 50', 'Eggs Mixed With Partner Sperm'] = 60\n",
        "df['Eggs Mixed With Partner Sperm'] = df['Eggs Mixed With Partner Sperm'].astype(int)"
      ]
    },
    {
      "cell_type": "code",
      "execution_count": 13,
      "metadata": {
        "id": "dOg-nWebmZ2S"
      },
      "outputs": [],
      "source": [
        "df.loc[df['Total number of IVF pregnancies'] == '>=5', 'Total number of IVF pregnancies'] = 6\n",
        "df['Total number of IVF pregnancies'] = df['Total number of IVF pregnancies'].astype(int)\n"
      ]
    },
    {
      "cell_type": "code",
      "execution_count": 14,
      "metadata": {
        "id": "rThnDoiGYkx-"
      },
      "outputs": [],
      "source": [
        "df=df.drop(['Egg Source','Sperm From','Cause of Infertility -  Partner Sperm Immunological factors','Stimulation used'], axis=1)"
      ]
    },
    {
      "cell_type": "code",
      "execution_count": 15,
      "metadata": {
        "id": "xlklWAQVlmim"
      },
      "outputs": [],
      "source": [
        "df=df.drop(['Cause of Infertility - Female Factors'], axis=1)"
      ]
    },
    {
      "cell_type": "code",
      "execution_count": null,
      "metadata": {
        "colab": {
          "base_uri": "https://localhost:8080/"
        },
        "id": "jBQhgQ3evnnP",
        "outputId": "fc46e709-f92c-46ff-bce9-0e120f50f428"
      },
      "outputs": [
        {
          "output_type": "stream",
          "name": "stdout",
          "text": [
            "<class 'pandas.core.frame.DataFrame'>\n",
            "Int64Index: 64442 entries, 0 to 65534\n",
            "Data columns (total 26 columns):\n",
            " #   Column                                               Non-Null Count  Dtype\n",
            "---  ------                                               --------------  -----\n",
            " 0   Patient Age at Treatment                             64442 non-null  Int64\n",
            " 1   Total Number of Previous IVF cycles                  64442 non-null  int64\n",
            " 2   Total number of IVF pregnancies                      64442 non-null  int64\n",
            " 3   Total number of live births - conceived through IVF  64442 non-null  int64\n",
            " 4   Type of Infertility - Female Primary                 64442 non-null  int64\n",
            " 5   Type of Infertility - Female Secondary               64442 non-null  int64\n",
            " 6   Type of Infertility - Male Primary                   64442 non-null  int64\n",
            " 7   Type of Infertility - Male Secondary                 64442 non-null  int64\n",
            " 8   Type of Infertility -Couple Primary                  64442 non-null  int64\n",
            " 9   Type of Infertility -Couple Secondary                64442 non-null  int64\n",
            " 10  Cause  of Infertility - Tubal disease                64442 non-null  int64\n",
            " 11  Cause of Infertility - Ovulatory Disorder            64442 non-null  int64\n",
            " 12  Cause of Infertility - Male Factor                   64442 non-null  int64\n",
            " 13  Cause of Infertility - Patient Unexplained           64442 non-null  int64\n",
            " 14  Cause of Infertility - Endometriosis                 64442 non-null  int64\n",
            " 15  Cause of Infertility - Cervical factors              64442 non-null  int64\n",
            " 16  Cause of Infertility - Partner Sperm Concentration   64442 non-null  int64\n",
            " 17  Cause of Infertility -  Partner Sperm Morphology     64442 non-null  int64\n",
            " 18  Causes of Infertility - Partner Sperm Motility       64442 non-null  int64\n",
            " 19  Fresh Cycle                                          64442 non-null  int64\n",
            " 20  Frozen Cycle                                         64442 non-null  int64\n",
            " 21  Eggs Thawed                                          64442 non-null  int64\n",
            " 22  Fresh Eggs Collected                                 64442 non-null  int64\n",
            " 23  Eggs Mixed With Partner Sperm                        64442 non-null  int64\n",
            " 24  Embryos Transfered                                   64442 non-null  int64\n",
            " 25  Live birth occurrence                                64442 non-null  int64\n",
            "dtypes: Int64(1), int64(25)\n",
            "memory usage: 13.3 MB\n"
          ]
        }
      ],
      "source": [
        "df.info()"
      ]
    },
    {
      "cell_type": "code",
      "execution_count": null,
      "metadata": {
        "colab": {
          "base_uri": "https://localhost:8080/",
          "height": 466
        },
        "id": "gQnxs9vimm9D",
        "outputId": "2e917b46-6005-4084-c59a-4997c2feb756"
      },
      "outputs": [
        {
          "output_type": "display_data",
          "data": {
            "text/plain": [
              "<Figure size 500x500 with 1 Axes>"
            ],
            "image/png": "[encoded data removed]"
          },
          "metadata": {}
        }
      ],
      "source": [
        "plt.figure(figsize=(5, 5))\n",
        "ax = sns.countplot(x = df[\"Live birth occurrence\"], palette=\"GnBu\")\n",
        "for p in ax.patches:\n",
        "    ax.annotate('{:.1f}'.format(p.get_height()), (p.get_x()+0.25, p.get_height()+0.01))\n",
        "plt.show()"
      ]
    },
    {
      "cell_type": "code",
      "source": [
        "from sklearn.utils import resample\n",
        "\n",
        "# Separate the majority and minority classes\n",
        "df_majority = df[df['Live birth occurrence'] == 0]\n",
        "df_minority = df[df['Live birth occurrence'] == 1]\n",
        "\n",
        "# Downsample the majority class\n",
        "df_majority_downsampled = resample(df_majority,\n",
        "                                   replace=False,  # Set to False for undersampling\n",
        "                                   n_samples=16257,  # Specify the desired number of samples\n",
        "                                   random_state=42)  # Set a random state for reproducibility\n",
        "\n",
        "# Combine the downsampled majority class with the minority class\n",
        "df_downsampled = pd.concat([df_majority_downsampled, df_minority])\n",
        "\n",
        "# Shuffle the DataFrame if needed\n",
        "df_downsampled = df_downsampled.sample(frac=1, random_state=42).reset_index(drop=True)\n"
      ],
      "metadata": {
        "id": "mFHS3FAv24Ap"
      },
      "execution_count": 16,
      "outputs": []
    },
    {
      "cell_type": "code",
      "source": [
        "plt.figure(figsize=(5, 5))\n",
        "ax = sns.countplot(x = df_downsampled[\"Live birth occurrence\"], palette=\"GnBu\")\n",
        "for p in ax.patches:\n",
        "    ax.annotate('{:.1f}'.format(p.get_height()), (p.get_x()+0.25, p.get_height()+0.01))\n",
        "plt.show()"
      ],
      "metadata": {
        "colab": {
          "base_uri": "https://localhost:8080/",
          "height": 465
        },
        "id": "eUAEs6Sl3AEJ",
        "outputId": "85d804ea-3226-44b6-e5ce-6afb1cd32092"
      },
      "execution_count": 17,
      "outputs": [
        {
          "output_type": "display_data",
          "data": {
            "text/plain": [
              "<Figure size 500x500 with 1 Axes>"
            ],
            "image/png": "[encoded data removed]"
          },
          "metadata": {}
        }
      ]
    },
    {
      "cell_type": "code",
      "execution_count": 18,
      "metadata": {
        "id": "Qs74JZmSv7u4"
      },
      "outputs": [],
      "source": [
        "X = df_downsampled.drop(['Live birth occurrence'], axis=1)\n"
      ]
    },
    {
      "cell_type": "code",
      "execution_count": 19,
      "metadata": {
        "id": "xrp7c_sWv-gU"
      },
      "outputs": [],
      "source": [
        "Y = df_downsampled['Live birth occurrence']\n"
      ]
    },
    {
      "cell_type": "code",
      "source": [
        "#df_downsampled = df_downsampled.loc[(df_downsampled['Patient Age at Treatment'] <= 3)]\n"
      ],
      "metadata": {
        "id": "DDGoTmy_EIRq"
      },
      "execution_count": null,
      "outputs": []
    },
    {
      "cell_type": "markdown",
      "metadata": {
        "id": "LMpSjUImJZoq"
      },
      "source": [
        "#Scale Data"
      ]
    },
    {
      "cell_type": "code",
      "source": [
        "from sklearn.preprocessing import MinMaxScaler\n",
        "scaler = MinMaxScaler()\n",
        "cols = X.columns\n",
        "# Scale the features\n",
        "scaled_features = scaler.fit_transform(X)\n",
        "\n",
        "# Create new DataFrames for scaled features\n",
        "X = pd.DataFrame(scaled_features, columns=cols)\n"
      ],
      "metadata": {
        "id": "YY3ouo0voPQr"
      },
      "execution_count": 20,
      "outputs": []
    },
    {
      "cell_type": "code",
      "source": [
        "import statsmodels.formula.api as smf\n",
        "\n",
        "# Fit logistic regression model\n",
        "model = smf.logit('Y ~ X', data=df_downsampled).fit()\n",
        "\n",
        "# Extract odds ratios and 95% CI\n",
        "params = model.params\n",
        "conf = model.conf_int()\n",
        "conf['OR'] = params\n",
        "conf.columns = ['Lower CI', 'Upper CI', 'OR']\n",
        "\n",
        "# Print odds ratios\n",
        "print(conf)"
      ],
      "metadata": {
        "colab": {
          "base_uri": "https://localhost:8080/"
        },
        "id": "7Ev8FIlRI5i4",
        "outputId": "f1518f76-eb60-4d52-962e-6981ff595c28"
      },
      "execution_count": 21,
      "outputs": [
        {
          "output_type": "stream",
          "name": "stdout",
          "text": [
            "Warning: Maximum number of iterations has been exceeded.\n",
            "         Current function value: 0.628939\n",
            "         Iterations: 35\n",
            "               Lower CI      Upper CI         OR\n",
            "Intercept     -1.406635      0.208414  -0.599111\n",
            "X[0]          -1.701944     -1.500165  -1.601054\n",
            "X[1]          -0.717811     -0.489753  -0.603782\n",
            "X[2]           0.486271      1.657153   1.071712\n",
            "X[3]          -0.025328      0.901903   0.438287\n",
            "X[4]          -2.278688      3.678382   0.699847\n",
            "X[5]          -2.011375      4.370107   1.179366\n",
            "X[6]                NaN           NaN  -0.761932\n",
            "X[7]                NaN           NaN  -0.184534\n",
            "X[8]                NaN           NaN  -0.315697\n",
            "X[9]                NaN           NaN  -0.630769\n",
            "X[10]         -0.140896      0.016269  -0.062314\n",
            "X[11]         -0.033654      0.114724   0.040535\n",
            "X[12]          0.070252      0.185069   0.127661\n",
            "X[13]         -0.005359      0.120781   0.057711\n",
            "X[14]         -0.117336      0.085230  -0.016053\n",
            "X[15]      -4885.212899   4857.047906 -14.082496\n",
            "X[16]         -2.730834      1.043270  -0.843782\n",
            "X[17]     -19008.016814  18969.392630 -19.312092\n",
            "X[18]     -47577.420671  47656.155416  39.367373\n",
            "X[19]         -1.254060      0.357801  -0.448129\n",
            "X[20]         -0.696836      0.914504   0.108834\n",
            "X[21]          1.526341      3.614212   2.570276\n",
            "X[22]         -1.749739     -0.949470  -1.349605\n",
            "X[23]          3.112087      3.971656   3.541871\n",
            "X[24]          2.438930      2.658064   2.548497\n"
          ]
        },
        {
          "output_type": "stream",
          "name": "stderr",
          "text": [
            "/usr/local/lib/python3.10/dist-packages/statsmodels/base/model.py:604: ConvergenceWarning: Maximum Likelihood optimization failed to converge. Check mle_retvals\n",
            "  warnings.warn(\"Maximum Likelihood optimization failed to \"\n"
          ]
        }
      ]
    },
    {
      "cell_type": "code",
      "source": [
        "# Import libraries\n",
        "from sklearn.linear_model import LogisticRegression\n",
        "from sklearn import metrics\n",
        "import pandas as pd\n",
        "\n",
        "# Create logistic regression\n",
        "logreg = LogisticRegression()\n",
        "\n",
        "# Fit model\n",
        "logreg.fit(X, Y)\n",
        "\n",
        "# Get coefficients\n",
        "coeffs = logreg.coef_[0]\n",
        "\n",
        "# Zip features and coefficients\n",
        "coef_dict = dict(zip(list(X.columns), coeffs))\n",
        "\n",
        "# Print coefficients\n",
        "print('Feature coefficients:')\n",
        "for feat, coef in coef_dict.items():\n",
        "    print(feat, ':', coef)\n",
        "\n",
        "# Print intercept\n",
        "print('Intercept:', logreg.intercept_)\n",
        "\n",
        "# Evaluate model\n",
        "y_preds = logreg.predict(X)\n",
        "print('Accuracy:', metrics.accuracy_score(Y, y_preds))"
      ],
      "metadata": {
        "colab": {
          "base_uri": "https://localhost:8080/"
        },
        "id": "AeS_iwlf9qKr",
        "outputId": "4fc6d65d-f42b-4280-9299-9163ab89614e"
      },
      "execution_count": 22,
      "outputs": [
        {
          "output_type": "stream",
          "name": "stdout",
          "text": [
            "Feature coefficients:\n",
            "Patient Age at Treatment : -1.5858120978997647\n",
            "Total Number of Previous IVF cycles : -0.5931482962519887\n",
            "Total number of IVF pregnancies : 1.000556705879729\n",
            "Total number of live births - conceived through IVF : 0.46283226147065293\n",
            "Type of Infertility - Female Primary : -0.08312808863904901\n",
            "Type of Infertility - Female Secondary : 0.25337217253076955\n",
            "Type of Infertility - Male Primary : -0.290041524244582\n",
            "Type of Infertility - Male Secondary : 0.1777447275874859\n",
            "Type of Infertility -Couple Primary : 0.03737334627430674\n",
            "Type of Infertility -Couple Secondary : -0.14967014293139944\n",
            "Cause  of Infertility - Tubal disease : -0.05815492752490742\n",
            "Cause of Infertility - Ovulatory Disorder : 0.043785882241009516\n",
            "Cause of Infertility - Male Factor : 0.1280206522245383\n",
            "Cause of Infertility - Patient Unexplained : 0.06089184127950967\n",
            "Cause of Infertility - Endometriosis : -0.014395331596503646\n",
            "Cause of Infertility - Cervical factors : -0.14136624832389788\n",
            "Cause of Infertility - Partner Sperm Concentration : -0.4965853610084413\n",
            "Cause of Infertility -  Partner Sperm Morphology : -0.23545457803195502\n",
            "Causes of Infertility - Partner Sperm Motility : 0.8805517804836419\n",
            "Fresh Cycle : -0.3943504890078881\n",
            "Frozen Cycle : 0.15879176955618318\n",
            "Eggs Thawed : 2.052589256956049\n",
            "Fresh Eggs Collected : -1.2110960070019647\n",
            "Eggs Mixed With Partner Sperm : 3.3619188416904957\n",
            "Embryos Transfered : 2.5369151641679712\n",
            "Intercept: [-0.65048412]\n",
            "Accuracy: 0.6342191056160423\n"
          ]
        }
      ]
    },
    {
      "cell_type": "code",
      "source": [
        "# List of columns (excluding 'Patient age at treatment' and 'Live birth occurrence')\n",
        "probability_columns = ['Patient Age at Treatment',\n",
        " 'Total Number of Previous IVF cycles',\n",
        " 'Total number of IVF pregnancies',\n",
        " 'Total number of live births - conceived through IVF',\n",
        " 'Type of Infertility - Female Primary',\n",
        " 'Type of Infertility - Female Secondary',\n",
        " 'Type of Infertility - Male Primary',\n",
        " 'Type of Infertility - Male Secondary',\n",
        " 'Type of Infertility -Couple Primary',\n",
        " 'Type of Infertility -Couple Secondary',\n",
        " 'Cause  of Infertility - Tubal disease',\n",
        " 'Cause of Infertility - Ovulatory Disorder',\n",
        " 'Cause of Infertility - Male Factor',\n",
        " 'Cause of Infertility - Patient Unexplained',\n",
        " 'Cause of Infertility - Endometriosis',\n",
        " 'Cause of Infertility - Cervical factors',\n",
        " 'Cause of Infertility - Partner Sperm Concentration',\n",
        " 'Cause of Infertility -  Partner Sperm Morphology',\n",
        " 'Causes of Infertility - Partner Sperm Motility',\n",
        " 'Fresh Cycle',\n",
        " 'Frozen Cycle',\n",
        " 'Eggs Thawed',\n",
        " 'Fresh Eggs Collected',\n",
        " 'Eggs Mixed With Partner Sperm',\n",
        " 'Embryos Transfered',\n",
        " ]\n",
        "\n",
        "# Calculate the probability of live birth occurrence (success=1) for each column\n",
        "for col in probability_columns:\n",
        "    success_probabilities = df_downsampled[df_downsampled['Live birth occurrence'] == 1].groupby(col).size()\n",
        "    total_occurrences = df_downsampled.groupby(col).size()\n",
        "    live_birth_occurrence_probability = (success_probabilities / total_occurrences) * 100\n",
        "\n",
        "    print(f\"Probability of live birth occurrence (success=1) based on {col}:\")\n",
        "    print(live_birth_occurrence_probability)\n",
        "    print(\"\\n\")"
      ],
      "metadata": {
        "colab": {
          "base_uri": "https://localhost:8080/"
        },
        "id": "g5Fu3IE1Areh",
        "outputId": "7bf025a0-3e52-4b99-810f-5167c696d0b5"
      },
      "execution_count": 23,
      "outputs": [
        {
          "output_type": "stream",
          "name": "stdout",
          "text": [
            "Probability of live birth occurrence (success=1) based on Patient Age at Treatment:\n",
            "Patient Age at Treatment\n",
            "0    57.519591\n",
            "1    52.056221\n",
            "2    43.615766\n",
            "3    34.561049\n",
            "4    26.492851\n",
            "5    36.993464\n",
            "dtype: float64\n",
            "\n",
            "\n",
            "Probability of live birth occurrence (success=1) based on Total Number of Previous IVF cycles:\n",
            "Total Number of Previous IVF cycles\n",
            "0    50.114960\n",
            "1    51.566918\n",
            "2    50.389228\n",
            "3    49.450118\n",
            "4    46.418338\n",
            "5    47.407407\n",
            "6    42.100193\n",
            "dtype: float64\n",
            "\n",
            "\n",
            "Probability of live birth occurrence (success=1) based on Total number of IVF pregnancies:\n",
            "Total number of IVF pregnancies\n",
            "0     49.328408\n",
            "1     53.131233\n",
            "2     54.090150\n",
            "3     52.380952\n",
            "4     23.076923\n",
            "5           NaN\n",
            "6    100.000000\n",
            "dtype: float64\n",
            "\n",
            "\n",
            "Probability of live birth occurrence (success=1) based on Total number of live births - conceived through IVF:\n",
            "Total number of live births - conceived through IVF\n",
            "0     49.418749\n",
            "1     53.565386\n",
            "2     55.656109\n",
            "3     61.538462\n",
            "4    100.000000\n",
            "dtype: float64\n",
            "\n",
            "\n",
            "Probability of live birth occurrence (success=1) based on Type of Infertility - Female Primary:\n",
            "Type of Infertility - Female Primary\n",
            "0    50.026229\n",
            "1    42.056075\n",
            "dtype: float64\n",
            "\n",
            "\n",
            "Probability of live birth occurrence (success=1) based on Type of Infertility - Female Secondary:\n",
            "Type of Infertility - Female Secondary\n",
            "0    50.004620\n",
            "1    46.666667\n",
            "dtype: float64\n",
            "\n",
            "\n",
            "Probability of live birth occurrence (success=1) based on Type of Infertility - Male Primary:\n",
            "Type of Infertility - Male Primary\n",
            "0    50.026226\n",
            "1    41.747573\n",
            "dtype: float64\n",
            "\n",
            "\n",
            "Probability of live birth occurrence (success=1) based on Type of Infertility - Male Secondary:\n",
            "Type of Infertility - Male Secondary\n",
            "0    50.004620\n",
            "1    46.808511\n",
            "dtype: float64\n",
            "\n",
            "\n",
            "Probability of live birth occurrence (success=1) based on Type of Infertility -Couple Primary:\n",
            "Type of Infertility -Couple Primary\n",
            "0    50.024688\n",
            "1    42.727273\n",
            "dtype: float64\n",
            "\n",
            "\n",
            "Probability of live birth occurrence (success=1) based on Type of Infertility -Couple Secondary:\n",
            "Type of Infertility -Couple Secondary\n",
            "0    50.006159\n",
            "1    45.000000\n",
            "dtype: float64\n",
            "\n",
            "\n",
            "Probability of live birth occurrence (success=1) based on Cause  of Infertility - Tubal disease:\n",
            "Cause  of Infertility - Tubal disease\n",
            "0    49.864986\n",
            "1    51.074972\n",
            "dtype: float64\n",
            "\n",
            "\n",
            "Probability of live birth occurrence (success=1) based on Cause of Infertility - Ovulatory Disorder:\n",
            "Cause of Infertility - Ovulatory Disorder\n",
            "0    49.332021\n",
            "1    54.668305\n",
            "dtype: float64\n",
            "\n",
            "\n",
            "Probability of live birth occurrence (success=1) based on Cause of Infertility - Male Factor:\n",
            "Cause of Infertility - Male Factor\n",
            "0    47.918656\n",
            "1    53.769670\n",
            "dtype: float64\n",
            "\n",
            "\n",
            "Probability of live birth occurrence (success=1) based on Cause of Infertility - Patient Unexplained:\n",
            "Cause of Infertility - Patient Unexplained\n",
            "0    49.615955\n",
            "1    50.916667\n",
            "dtype: float64\n",
            "\n",
            "\n",
            "Probability of live birth occurrence (success=1) based on Cause of Infertility - Endometriosis:\n",
            "Cause of Infertility - Endometriosis\n",
            "0    49.955956\n",
            "1    50.724638\n",
            "dtype: float64\n",
            "\n",
            "\n",
            "Probability of live birth occurrence (success=1) based on Cause of Infertility - Cervical factors:\n",
            "Cause of Infertility - Cervical factors\n",
            "0    50.001538\n",
            "1          NaN\n",
            "dtype: float64\n",
            "\n",
            "\n",
            "Probability of live birth occurrence (success=1) based on Cause of Infertility - Partner Sperm Concentration:\n",
            "Cause of Infertility - Partner Sperm Concentration\n",
            "0    50.001538\n",
            "1    40.000000\n",
            "dtype: float64\n",
            "\n",
            "\n",
            "Probability of live birth occurrence (success=1) based on Cause of Infertility -  Partner Sperm Morphology:\n",
            "Cause of Infertility -  Partner Sperm Morphology\n",
            "0    50.0\n",
            "1    50.0\n",
            "dtype: float64\n",
            "\n",
            "\n",
            "Probability of live birth occurrence (success=1) based on Causes of Infertility - Partner Sperm Motility:\n",
            "Causes of Infertility - Partner Sperm Motility\n",
            "0     49.995386\n",
            "1    100.000000\n",
            "dtype: float64\n",
            "\n",
            "\n",
            "Probability of live birth occurrence (success=1) based on Fresh Cycle:\n",
            "Fresh Cycle\n",
            "0    55.402577\n",
            "1    47.906977\n",
            "dtype: float64\n",
            "\n",
            "\n",
            "Probability of live birth occurrence (success=1) based on Frozen Cycle:\n",
            "Frozen Cycle\n",
            "0    47.906877\n",
            "1    55.382250\n",
            "dtype: float64\n",
            "\n",
            "\n",
            "Probability of live birth occurrence (success=1) based on Eggs Thawed:\n",
            "Eggs Thawed\n",
            "0      49.990707\n",
            "1            NaN\n",
            "2      33.333333\n",
            "3      37.500000\n",
            "4       6.250000\n",
            "5      52.941176\n",
            "6      41.666667\n",
            "7      50.000000\n",
            "8      58.333333\n",
            "9      53.333333\n",
            "10     42.857143\n",
            "11     66.666667\n",
            "12     71.428571\n",
            "13     83.333333\n",
            "14     71.428571\n",
            "15     83.333333\n",
            "16    100.000000\n",
            "17           NaN\n",
            "18           NaN\n",
            "19           NaN\n",
            "33           NaN\n",
            "dtype: float64\n",
            "\n",
            "\n",
            "Probability of live birth occurrence (success=1) based on Fresh Eggs Collected:\n",
            "Fresh Eggs Collected\n",
            "0     51.905659\n",
            "1     12.800000\n",
            "2     25.898389\n",
            "3     31.152344\n",
            "4     39.215686\n",
            "5     43.315907\n",
            "6     47.117962\n",
            "7     48.123324\n",
            "8     51.874574\n",
            "9     54.753643\n",
            "10    55.353241\n",
            "11    56.225218\n",
            "12    57.262804\n",
            "13    60.553964\n",
            "14    60.150376\n",
            "15    59.191656\n",
            "16    57.142857\n",
            "17    59.528131\n",
            "18    56.170213\n",
            "19    54.846939\n",
            "20    48.648649\n",
            "21    54.901961\n",
            "22    54.260090\n",
            "23    51.807229\n",
            "24    55.757576\n",
            "25    37.209302\n",
            "26    50.549451\n",
            "27    39.743590\n",
            "28    41.666667\n",
            "29    34.883721\n",
            "30    32.258065\n",
            "31    40.625000\n",
            "32    27.586207\n",
            "33    40.909091\n",
            "34    17.647059\n",
            "35    30.000000\n",
            "36    16.666667\n",
            "37    14.285714\n",
            "38    28.571429\n",
            "39    20.000000\n",
            "40    33.333333\n",
            "41    20.000000\n",
            "42    25.000000\n",
            "43          NaN\n",
            "44    66.666667\n",
            "45    50.000000\n",
            "46          NaN\n",
            "47    33.333333\n",
            "48    50.000000\n",
            "49          NaN\n",
            "60          NaN\n",
            "dtype: float64\n",
            "\n",
            "\n",
            "Probability of live birth occurrence (success=1) based on Eggs Mixed With Partner Sperm:\n",
            "Eggs Mixed With Partner Sperm\n",
            "0      48.425325\n",
            "1      15.014164\n",
            "2      27.863777\n",
            "3      36.241611\n",
            "4      44.124009\n",
            "5      49.874214\n",
            "6      50.820633\n",
            "7      53.345725\n",
            "8      55.888094\n",
            "9      57.614943\n",
            "10     57.165109\n",
            "11     59.677419\n",
            "12     58.891013\n",
            "13     61.374408\n",
            "14     59.259259\n",
            "15     59.519726\n",
            "16     62.893082\n",
            "17     60.880829\n",
            "18     57.097792\n",
            "19     56.583630\n",
            "20     52.968037\n",
            "21     51.479290\n",
            "22     58.536585\n",
            "23     53.211009\n",
            "24     51.960784\n",
            "25     41.428571\n",
            "26     43.902439\n",
            "27     45.833333\n",
            "28     42.500000\n",
            "29     30.000000\n",
            "30     50.000000\n",
            "31     40.000000\n",
            "32     28.571429\n",
            "33     41.666667\n",
            "34      9.090909\n",
            "35     11.111111\n",
            "36     50.000000\n",
            "37     20.000000\n",
            "38     25.000000\n",
            "39     33.333333\n",
            "40     33.333333\n",
            "41           NaN\n",
            "42     33.333333\n",
            "43           NaN\n",
            "44    100.000000\n",
            "45           NaN\n",
            "47    100.000000\n",
            "49           NaN\n",
            "60           NaN\n",
            "dtype: float64\n",
            "\n",
            "\n",
            "Probability of live birth occurrence (success=1) based on Embryos Transfered:\n",
            "Embryos Transfered\n",
            "0     0.158694\n",
            "1    58.904193\n",
            "2    57.327740\n",
            "3    36.347518\n",
            "dtype: float64\n",
            "\n",
            "\n"
          ]
        }
      ]
    },
    {
      "cell_type": "code",
      "source": [
        "X.shape"
      ],
      "metadata": {
        "colab": {
          "base_uri": "https://localhost:8080/"
        },
        "id": "AkMCkIieOF0s",
        "outputId": "bbe97790-a1b0-43b7-d40d-b3ed242b6bc5"
      },
      "execution_count": 24,
      "outputs": [
        {
          "output_type": "execute_result",
          "data": {
            "text/plain": [
              "(32514, 25)"
            ]
          },
          "metadata": {},
          "execution_count": 24
        }
      ]
    },
    {
      "cell_type": "code",
      "source": [
        "Y.shape"
      ],
      "metadata": {
        "id": "fjorJSvTOJhE",
        "outputId": "63307411-abf9-4b2d-cec0-e74cadc1ac15",
        "colab": {
          "base_uri": "https://localhost:8080/"
        }
      },
      "execution_count": 25,
      "outputs": [
        {
          "output_type": "execute_result",
          "data": {
            "text/plain": [
              "(32514,)"
            ]
          },
          "metadata": {},
          "execution_count": 25
        }
      ]
    },
    {
      "cell_type": "code",
      "execution_count": null,
      "metadata": {
        "id": "qNTBPb87UUg9"
      },
      "outputs": [],
      "source": [
        "new_df=pd.concat([X, Y], axis=1, join='inner')\n"
      ]
    },
    {
      "cell_type": "markdown",
      "metadata": {
        "id": "qTH3qD53I1KJ"
      },
      "source": [
        "#Split Data into test and train"
      ]
    },
    {
      "cell_type": "code",
      "source": [
        "# split the dataset\n",
        "SEED=23\n",
        "X_train, X_test, Y_train, Y_test = train_test_split(X, Y, test_size=0.3,shuffle=True, stratify=Y, random_state=SEED)\n",
        "#With random_state=0 , we get the same train and test sets across different executions\n"
      ],
      "metadata": {
        "id": "aKfTc1923LbL"
      },
      "execution_count": 26,
      "outputs": []
    },
    {
      "cell_type": "markdown",
      "metadata": {
        "id": "ct1jQR7BMejf"
      },
      "source": [
        "#Modeling"
      ]
    },
    {
      "cell_type": "markdown",
      "source": [
        "#Model2"
      ],
      "metadata": {
        "id": "TwzCz2wYyiqk"
      }
    },
    {
      "cell_type": "code",
      "source": [
        "from keras.models import Model\n",
        "from keras.layers import Input, Dense\n",
        "\n",
        "def create_model(input_shape):\n",
        "    inputs = Input(shape=input_shape)\n",
        "    hidden = Dense(64, activation='relu')(inputs)\n",
        "    hidden = Dense(64, activation='relu')(hidden)\n",
        "    outputs = Dense(1, activation='sigmoid')(hidden)\n",
        "    model = Model(inputs=inputs, outputs=outputs)\n",
        "    return model\n"
      ],
      "metadata": {
        "id": "Jc1ywe4Jylpy"
      },
      "execution_count": null,
      "outputs": []
    },
    {
      "cell_type": "code",
      "source": [
        "# Define the input shape based on the number of features\n",
        "input_shape = (25,)\n",
        "\n",
        "# Create the model\n",
        "model = create_model(input_shape)\n"
      ],
      "metadata": {
        "id": "2BNULzUQypJz"
      },
      "execution_count": null,
      "outputs": []
    },
    {
      "cell_type": "code",
      "source": [
        "# Create the model\n",
        "pretrained_model = create_model(input_shape)"
      ],
      "metadata": {
        "id": "idw0IKND0FbE"
      },
      "execution_count": null,
      "outputs": []
    },
    {
      "cell_type": "code",
      "source": [
        "pretrained_model.compile(loss='binary_crossentropy', optimizer='adam', metrics=['accuracy'])"
      ],
      "metadata": {
        "id": "NWA2xDT40Jjy"
      },
      "execution_count": null,
      "outputs": []
    },
    {
      "cell_type": "code",
      "source": [
        "pretrained_model.fit(X_train, Y_train, epochs=10, batch_size=32, validation_data=(X_test, Y_test))\n"
      ],
      "metadata": {
        "colab": {
          "base_uri": "https://localhost:8080/"
        },
        "id": "TJDN2yfs0g1D",
        "outputId": "c4e6f882-9fea-404f-db49-3a1ce4a05c41"
      },
      "execution_count": null,
      "outputs": [
        {
          "output_type": "stream",
          "name": "stdout",
          "text": [
            "Epoch 1/10\n",
            "712/712 [==============================] - 6s 6ms/step - loss: 0.6212 - accuracy: 0.6368 - val_loss: 0.5830 - val_accuracy: 0.6603\n",
            "Epoch 2/10\n",
            "712/712 [==============================] - 5s 7ms/step - loss: 0.5782 - accuracy: 0.6618 - val_loss: 0.5757 - val_accuracy: 0.6622\n",
            "Epoch 3/10\n",
            "712/712 [==============================] - 4s 5ms/step - loss: 0.5749 - accuracy: 0.6640 - val_loss: 0.5762 - val_accuracy: 0.6600\n",
            "Epoch 4/10\n",
            "712/712 [==============================] - 4s 5ms/step - loss: 0.5734 - accuracy: 0.6656 - val_loss: 0.5736 - val_accuracy: 0.6642\n",
            "Epoch 5/10\n",
            "712/712 [==============================] - 5s 7ms/step - loss: 0.5722 - accuracy: 0.6662 - val_loss: 0.5740 - val_accuracy: 0.6629\n",
            "Epoch 6/10\n",
            "712/712 [==============================] - 3s 5ms/step - loss: 0.5708 - accuracy: 0.6682 - val_loss: 0.5745 - val_accuracy: 0.6611\n",
            "Epoch 7/10\n",
            "712/712 [==============================] - 2s 2ms/step - loss: 0.5707 - accuracy: 0.6680 - val_loss: 0.5722 - val_accuracy: 0.6634\n",
            "Epoch 8/10\n",
            "712/712 [==============================] - 2s 2ms/step - loss: 0.5695 - accuracy: 0.6692 - val_loss: 0.5707 - val_accuracy: 0.6651\n",
            "Epoch 9/10\n",
            "712/712 [==============================] - 2s 3ms/step - loss: 0.5687 - accuracy: 0.6697 - val_loss: 0.5734 - val_accuracy: 0.6627\n",
            "Epoch 10/10\n",
            "712/712 [==============================] - 2s 3ms/step - loss: 0.5680 - accuracy: 0.6711 - val_loss: 0.5716 - val_accuracy: 0.6652\n"
          ]
        },
        {
          "output_type": "execute_result",
          "data": {
            "text/plain": [
              "<keras.callbacks.History at 0x7d4cf5ca9510>"
            ]
          },
          "metadata": {},
          "execution_count": 194
        }
      ]
    },
    {
      "cell_type": "code",
      "source": [
        "from sklearn.metrics import roc_auc_score\n",
        "\n",
        "# Assuming you have predictions and true labels for the validation set\n",
        "y_pred = pretrained_model.predict(X_test)\n",
        "auc = roc_auc_score(Y_test, y_pred)\n",
        "\n",
        "print(\"AUC:\", auc)"
      ],
      "metadata": {
        "colab": {
          "base_uri": "https://localhost:8080/"
        },
        "id": "mKRqeuEa00xX",
        "outputId": "48b04226-43e6-4ea7-c22d-1f6456fac671"
      },
      "execution_count": null,
      "outputs": [
        {
          "output_type": "stream",
          "name": "stdout",
          "text": [
            "305/305 [==============================] - 0s 1ms/step\n",
            "AUC: 0.7180645729975856\n"
          ]
        }
      ]
    },
    {
      "cell_type": "code",
      "source": [
        "from sklearn.metrics import precision_score, recall_score, f1_score\n",
        "\n",
        "# Assuming you have predictions and true labels for the validation set\n",
        "y_pred = pretrained_model.predict(X_test)\n",
        "y_pred_binary = np.round(y_pred).astype(int)  # Convert predicted probabilities to binary labels\n",
        "\n",
        "precision = precision_score(Y_test, y_pred_binary)\n",
        "recall = recall_score(Y_test, y_pred_binary)\n",
        "f1 = f1_score(Y_test, y_pred_binary)\n",
        "\n",
        "print(\"Precision:\", precision)\n",
        "print(\"Recall:\", recall)\n",
        "print(\"F1 Score:\", f1)\n"
      ],
      "metadata": {
        "colab": {
          "base_uri": "https://localhost:8080/"
        },
        "id": "hSbXZE6A0-Dh",
        "outputId": "394bf6a7-7b47-452c-855f-df4cae99d97a"
      },
      "execution_count": null,
      "outputs": [
        {
          "output_type": "stream",
          "name": "stdout",
          "text": [
            "305/305 [==============================] - 1s 2ms/step\n",
            "Precision: 0.6176298890834793\n",
            "Recall: 0.8675686756867569\n",
            "F1 Score: 0.7215686274509804\n"
          ]
        }
      ]
    },
    {
      "cell_type": "code",
      "source": [
        "pretrained_model.save('/content/drive/MyDrive/my_model2.h5')\n"
      ],
      "metadata": {
        "id": "GHrA6M1h1HvD"
      },
      "execution_count": null,
      "outputs": []
    },
    {
      "cell_type": "markdown",
      "source": [
        "#Model3(used for transfer learning)"
      ],
      "metadata": {
        "id": "4drZY02Nv4rR"
      }
    },
    {
      "cell_type": "code",
      "source": [
        "import tensorflow as tf\n",
        "from tensorflow.keras.models import Model\n",
        "from tensorflow.keras.layers import Input, Dense\n",
        "def create_pretrained_model(input_shape, num_classes):\n",
        "    # Define the architecture of your pretrained model\n",
        "    input_layer = Input(shape=input_shape)\n",
        "    hidden_layer = Dense(64, activation='relu')(input_layer)\n",
        "    output_layer = Dense(num_classes, activation='softmax')(hidden_layer)\n",
        "    pretrained_model = Model(inputs=input_layer, outputs=output_layer)\n",
        "    return pretrained_model\n",
        "\n",
        "# Create the pretrained model with a specific input shape and number of classes\n",
        "input_shape = (25,)  # Change this to the desired input shape\n",
        "num_classes = 2  # Change this to the appropriate number of output classes\n",
        "pretrained_model = create_pretrained_model(input_shape, num_classes)"
      ],
      "metadata": {
        "id": "6NqEQnq3v3lO"
      },
      "execution_count": 27,
      "outputs": []
    },
    {
      "cell_type": "code",
      "source": [
        "# Assuming you have a binary classification problem\n",
        "num_classes = 2\n",
        "\n",
        "# Convert the true labels to one-hot encoding if they are not already\n",
        "y_train_one_hot = tf.keras.utils.to_categorical(Y_train, num_classes)\n",
        "y_val_one_hot = tf.keras.utils.to_categorical(Y_test, num_classes)\n",
        "\n",
        "# Compile and train the new model\n",
        "pretrained_model.compile(optimizer='adam', loss='categorical_crossentropy', metrics=['accuracy'])\n",
        "pretrained_model.fit(X_train, y_train_one_hot, epochs=10, batch_size=32, validation_data=(X_test, y_val_one_hot))\n"
      ],
      "metadata": {
        "colab": {
          "base_uri": "https://localhost:8080/"
        },
        "id": "vw44RmRMwdRO",
        "outputId": "423a8cf3-7917-4c4e-e09c-3db4dd1ba7fb"
      },
      "execution_count": 28,
      "outputs": [
        {
          "output_type": "stream",
          "name": "stdout",
          "text": [
            "Epoch 1/10\n",
            "712/712 [==============================] - 3s 3ms/step - loss: 0.6393 - accuracy: 0.6310 - val_loss: 0.6185 - val_accuracy: 0.6507\n",
            "Epoch 2/10\n",
            "712/712 [==============================] - 2s 3ms/step - loss: 0.6071 - accuracy: 0.6487 - val_loss: 0.5947 - val_accuracy: 0.6554\n",
            "Epoch 3/10\n",
            "712/712 [==============================] - 2s 3ms/step - loss: 0.5869 - accuracy: 0.6566 - val_loss: 0.5801 - val_accuracy: 0.6644\n",
            "Epoch 4/10\n",
            "712/712 [==============================] - 2s 3ms/step - loss: 0.5784 - accuracy: 0.6619 - val_loss: 0.5769 - val_accuracy: 0.6627\n",
            "Epoch 5/10\n",
            "712/712 [==============================] - 2s 2ms/step - loss: 0.5757 - accuracy: 0.6625 - val_loss: 0.5745 - val_accuracy: 0.6622\n",
            "Epoch 6/10\n",
            "712/712 [==============================] - 2s 3ms/step - loss: 0.5743 - accuracy: 0.6660 - val_loss: 0.5747 - val_accuracy: 0.6609\n",
            "Epoch 7/10\n",
            "712/712 [==============================] - 2s 2ms/step - loss: 0.5734 - accuracy: 0.6658 - val_loss: 0.5744 - val_accuracy: 0.6621\n",
            "Epoch 8/10\n",
            "712/712 [==============================] - 2s 3ms/step - loss: 0.5730 - accuracy: 0.6653 - val_loss: 0.5734 - val_accuracy: 0.6605\n",
            "Epoch 9/10\n",
            "712/712 [==============================] - 2s 3ms/step - loss: 0.5722 - accuracy: 0.6658 - val_loss: 0.5722 - val_accuracy: 0.6637\n",
            "Epoch 10/10\n",
            "712/712 [==============================] - 2s 3ms/step - loss: 0.5714 - accuracy: 0.6685 - val_loss: 0.5725 - val_accuracy: 0.6629\n"
          ]
        },
        {
          "output_type": "execute_result",
          "data": {
            "text/plain": [
              "<keras.callbacks.History at 0x7f1c96b35a20>"
            ]
          },
          "metadata": {},
          "execution_count": 28
        }
      ]
    },
    {
      "cell_type": "code",
      "source": [
        "from sklearn.metrics import roc_auc_score\n",
        "\n",
        "# Assuming you have predictions and true labels for the validation set\n",
        "y_pred = pretrained_model.predict(X_test)\n",
        "auc = roc_auc_score(y_val_one_hot, y_pred)\n",
        "\n",
        "print(\"AUC:\", auc)"
      ],
      "metadata": {
        "colab": {
          "base_uri": "https://localhost:8080/"
        },
        "id": "o1t43Pv9w0bC",
        "outputId": "fdf1ddcd-f40e-450e-b694-df2c25948d52"
      },
      "execution_count": 29,
      "outputs": [
        {
          "output_type": "stream",
          "name": "stdout",
          "text": [
            "305/305 [==============================] - 0s 1ms/step\n",
            "AUC: 0.7161492308997316\n"
          ]
        }
      ]
    },
    {
      "cell_type": "code",
      "source": [
        "from sklearn.metrics import precision_score, recall_score, f1_score\n",
        "from sklearn.metrics import precision_score\n",
        "\n",
        "# Assuming you have predictions and true labels for the validation set\n",
        "y_pred = pretrained_model.predict(X_test)\n",
        "y_pred_binary = np.round(y_pred).astype(int)  # Convert predicted probabilities to binary labels\n",
        "\n",
        "precision = precision_score(y_val_one_hot, y_pred_binary, average='micro')\n",
        "print(\"Precision:\", precision)\n",
        "\n",
        "# Calculate recall\n",
        "recall = recall_score(y_val_one_hot, y_pred_binary, average='micro')\n",
        "print(\"Recall:\", recall)\n",
        "\n",
        "# Calculate F1-score\n",
        "f1 = f1_score(y_val_one_hot, y_pred_binary, average='micro')\n",
        "print(\"F1-score:\", f1)"
      ],
      "metadata": {
        "colab": {
          "base_uri": "https://localhost:8080/"
        },
        "id": "zBwnhxFclkz0",
        "outputId": "882d4b38-b76f-4f3e-dabe-423960532f0d"
      },
      "execution_count": 30,
      "outputs": [
        {
          "output_type": "stream",
          "name": "stdout",
          "text": [
            "305/305 [==============================] - 1s 4ms/step\n",
            "Precision: 0.6629420809841107\n",
            "Recall: 0.6629420809841107\n",
            "F1-score: 0.6629420809841107\n"
          ]
        }
      ]
    },
    {
      "cell_type": "code",
      "source": [
        "pretrained_model.save('/content/drive/MyDrive/my_model3.h5')\n"
      ],
      "metadata": {
        "id": "vQ7dRkHgyRG0"
      },
      "execution_count": null,
      "outputs": []
    },
    {
      "cell_type": "markdown",
      "source": [
        "#Model 4"
      ],
      "metadata": {
        "id": "oM0--S84PK6W"
      }
    },
    {
      "cell_type": "code",
      "source": [
        "from sklearn.ensemble import RandomForestClassifier\n",
        "\n",
        "rf = RandomForestClassifier()\n",
        "rf.fit(X_train, Y_train)"
      ],
      "metadata": {
        "colab": {
          "base_uri": "https://localhost:8080/",
          "height": 74
        },
        "id": "aV9pE34UodV-",
        "outputId": "b5a9f9b4-14c6-4c55-8742-65c49231c09b"
      },
      "execution_count": 31,
      "outputs": [
        {
          "output_type": "execute_result",
          "data": {
            "text/plain": [
              "RandomForestClassifier()"
            ],
            "text/html": [
              "<style>#sk-container-id-1 {color: black;background-color: white;}#sk-container-id-1 pre{padding: 0;}#sk-container-id-1 div.sk-toggleable {background-color: white;}#sk-container-id-1 label.sk-toggleable__label {cursor: pointer;display: block;width: 100%;margin-bottom: 0;padding: 0.3em;box-sizing: border-box;text-align: center;}#sk-container-id-1 label.sk-toggleable__label-arrow:before {content: \"▸\";float: left;margin-right: 0.25em;color: #696969;}#sk-container-id-1 label.sk-toggleable__label-arrow:hover:before {color: black;}#sk-container-id-1 div.sk-estimator:hover label.sk-toggleable__label-arrow:before {color: black;}#sk-container-id-1 div.sk-toggleable__content {max-height: 0;max-width: 0;overflow: hidden;text-align: left;background-color: #f0f8ff;}#sk-container-id-1 div.sk-toggleable__content pre {margin: 0.2em;color: black;border-radius: 0.25em;background-color: #f0f8ff;}#sk-container-id-1 input.sk-toggleable__control:checked~div.sk-toggleable__content {max-height: 200px;max-width: 100%;overflow: auto;}#sk-container-id-1 input.sk-toggleable__control:checked~label.sk-toggleable__label-arrow:before {content: \"▾\";}#sk-container-id-1 div.sk-estimator input.sk-toggleable__control:checked~label.sk-toggleable__label {background-color: #d4ebff;}#sk-container-id-1 div.sk-label input.sk-toggleable__control:checked~label.sk-toggleable__label {background-color: #d4ebff;}#sk-container-id-1 input.sk-hidden--visually {border: 0;clip: rect(1px 1px 1px 1px);clip: rect(1px, 1px, 1px, 1px);height: 1px;margin: -1px;overflow: hidden;padding: 0;position: absolute;width: 1px;}#sk-container-id-1 div.sk-estimator {font-family: monospace;background-color: #f0f8ff;border: 1px dotted black;border-radius: 0.25em;box-sizing: border-box;margin-bottom: 0.5em;}#sk-container-id-1 div.sk-estimator:hover {background-color: #d4ebff;}#sk-container-id-1 div.sk-parallel-item::after {content: \"\";width: 100%;border-bottom: 1px solid gray;flex-grow: 1;}#sk-container-id-1 div.sk-label:hover label.sk-toggleable__label {background-color: #d4ebff;}#sk-container-id-1 div.sk-serial::before {content: \"\";position: absolute;border-left: 1px solid gray;box-sizing: border-box;top: 0;bottom: 0;left: 50%;z-index: 0;}#sk-container-id-1 div.sk-serial {display: flex;flex-direction: column;align-items: center;background-color: white;padding-right: 0.2em;padding-left: 0.2em;position: relative;}#sk-container-id-1 div.sk-item {position: relative;z-index: 1;}#sk-container-id-1 div.sk-parallel {display: flex;align-items: stretch;justify-content: center;background-color: white;position: relative;}#sk-container-id-1 div.sk-item::before, #sk-container-id-1 div.sk-parallel-item::before {content: \"\";position: absolute;border-left: 1px solid gray;box-sizing: border-box;top: 0;bottom: 0;left: 50%;z-index: -1;}#sk-container-id-1 div.sk-parallel-item {display: flex;flex-direction: column;z-index: 1;position: relative;background-color: white;}#sk-container-id-1 div.sk-parallel-item:first-child::after {align-self: flex-end;width: 50%;}#sk-container-id-1 div.sk-parallel-item:last-child::after {align-self: flex-start;width: 50%;}#sk-container-id-1 div.sk-parallel-item:only-child::after {width: 0;}#sk-container-id-1 div.sk-dashed-wrapped {border: 1px dashed gray;margin: 0 0.4em 0.5em 0.4em;box-sizing: border-box;padding-bottom: 0.4em;background-color: white;}#sk-container-id-1 div.sk-label label {font-family: monospace;font-weight: bold;display: inline-block;line-height: 1.2em;}#sk-container-id-1 div.sk-label-container {text-align: center;}#sk-container-id-1 div.sk-container {/* jupyter's `normalize.less` sets `[hidden] { display: none; }` but bootstrap.min.css set `[hidden] { display: none !important; }` so we also need the `!important` here to be able to override the default hidden behavior on the sphinx rendered scikit-learn.org. See: https://github.com/scikit-learn/scikit-learn/issues/21755 */display: inline-block !important;position: relative;}#sk-container-id-1 div.sk-text-repr-fallback {display: none;}</style><div id=\"sk-container-id-1\" class=\"sk-top-container\"><div class=\"sk-text-repr-fallback\"><pre>RandomForestClassifier()</pre><b>In a Jupyter environment, please rerun this cell to show the HTML representation or trust the notebook. <br />On GitHub, the HTML representation is unable to render, please try loading this page with nbviewer.org.</b></div><div class=\"sk-container\" hidden><div class=\"sk-item\"><div class=\"sk-estimator sk-toggleable\"><input class=\"sk-toggleable__control sk-hidden--visually\" id=\"sk-estimator-id-1\" type=\"checkbox\" checked><label for=\"sk-estimator-id-1\" class=\"sk-toggleable__label sk-toggleable__label-arrow\">RandomForestClassifier</label><div class=\"sk-toggleable__content\"><pre>RandomForestClassifier()</pre></div></div></div></div></div>"
            ]
          },
          "metadata": {},
          "execution_count": 31
        }
      ]
    },
    {
      "cell_type": "code",
      "source": [
        "# Evaluate the accuracy of the random forest model on the test set\n",
        "accuracy = rf.score(X_test, Y_test)\n",
        "print(\"Accuracy on original dataset:\", accuracy)"
      ],
      "metadata": {
        "colab": {
          "base_uri": "https://localhost:8080/"
        },
        "id": "TGZXxGvdb141",
        "outputId": "b2058cf7-2fa0-4f28-e212-9ee88029f541"
      },
      "execution_count": 32,
      "outputs": [
        {
          "output_type": "stream",
          "name": "stdout",
          "text": [
            "Accuracy on original dataset: 0.6423372629420809\n"
          ]
        }
      ]
    },
    {
      "cell_type": "code",
      "source": [
        "import joblib\n",
        "\n",
        "# Save the pretrained model to a file\n",
        "joblib.dump(rf, '/content/drive/MyDrive/pretrained_model5.pkl')\n"
      ],
      "metadata": {
        "colab": {
          "base_uri": "https://localhost:8080/"
        },
        "id": "vohB9GRATaOo",
        "outputId": "ce25b0b1-6471-4071-d39d-f41b09eaaf6c"
      },
      "execution_count": 34,
      "outputs": [
        {
          "output_type": "execute_result",
          "data": {
            "text/plain": [
              "['/content/drive/MyDrive/pretrained_model5.pkl']"
            ]
          },
          "metadata": {},
          "execution_count": 34
        }
      ]
    },
    {
      "cell_type": "markdown",
      "metadata": {
        "id": "VwooE1tVfX61"
      },
      "source": [
        "#  random forest"
      ]
    },
    {
      "cell_type": "code",
      "execution_count": 35,
      "metadata": {
        "colab": {
          "base_uri": "https://localhost:8080/",
          "height": 74
        },
        "id": "Q1WL_Cpif6-B",
        "outputId": "e02bae50-96ae-4b14-ec77-5688ddd0d900"
      },
      "outputs": [
        {
          "output_type": "execute_result",
          "data": {
            "text/plain": [
              "RandomForestClassifier(n_estimators=25, random_state=12)"
            ],
            "text/html": [
              "<style>#sk-container-id-2 {color: black;background-color: white;}#sk-container-id-2 pre{padding: 0;}#sk-container-id-2 div.sk-toggleable {background-color: white;}#sk-container-id-2 label.sk-toggleable__label {cursor: pointer;display: block;width: 100%;margin-bottom: 0;padding: 0.3em;box-sizing: border-box;text-align: center;}#sk-container-id-2 label.sk-toggleable__label-arrow:before {content: \"▸\";float: left;margin-right: 0.25em;color: #696969;}#sk-container-id-2 label.sk-toggleable__label-arrow:hover:before {color: black;}#sk-container-id-2 div.sk-estimator:hover label.sk-toggleable__label-arrow:before {color: black;}#sk-container-id-2 div.sk-toggleable__content {max-height: 0;max-width: 0;overflow: hidden;text-align: left;background-color: #f0f8ff;}#sk-container-id-2 div.sk-toggleable__content pre {margin: 0.2em;color: black;border-radius: 0.25em;background-color: #f0f8ff;}#sk-container-id-2 input.sk-toggleable__control:checked~div.sk-toggleable__content {max-height: 200px;max-width: 100%;overflow: auto;}#sk-container-id-2 input.sk-toggleable__control:checked~label.sk-toggleable__label-arrow:before {content: \"▾\";}#sk-container-id-2 div.sk-estimator input.sk-toggleable__control:checked~label.sk-toggleable__label {background-color: #d4ebff;}#sk-container-id-2 div.sk-label input.sk-toggleable__control:checked~label.sk-toggleable__label {background-color: #d4ebff;}#sk-container-id-2 input.sk-hidden--visually {border: 0;clip: rect(1px 1px 1px 1px);clip: rect(1px, 1px, 1px, 1px);height: 1px;margin: -1px;overflow: hidden;padding: 0;position: absolute;width: 1px;}#sk-container-id-2 div.sk-estimator {font-family: monospace;background-color: #f0f8ff;border: 1px dotted black;border-radius: 0.25em;box-sizing: border-box;margin-bottom: 0.5em;}#sk-container-id-2 div.sk-estimator:hover {background-color: #d4ebff;}#sk-container-id-2 div.sk-parallel-item::after {content: \"\";width: 100%;border-bottom: 1px solid gray;flex-grow: 1;}#sk-container-id-2 div.sk-label:hover label.sk-toggleable__label {background-color: #d4ebff;}#sk-container-id-2 div.sk-serial::before {content: \"\";position: absolute;border-left: 1px solid gray;box-sizing: border-box;top: 0;bottom: 0;left: 50%;z-index: 0;}#sk-container-id-2 div.sk-serial {display: flex;flex-direction: column;align-items: center;background-color: white;padding-right: 0.2em;padding-left: 0.2em;position: relative;}#sk-container-id-2 div.sk-item {position: relative;z-index: 1;}#sk-container-id-2 div.sk-parallel {display: flex;align-items: stretch;justify-content: center;background-color: white;position: relative;}#sk-container-id-2 div.sk-item::before, #sk-container-id-2 div.sk-parallel-item::before {content: \"\";position: absolute;border-left: 1px solid gray;box-sizing: border-box;top: 0;bottom: 0;left: 50%;z-index: -1;}#sk-container-id-2 div.sk-parallel-item {display: flex;flex-direction: column;z-index: 1;position: relative;background-color: white;}#sk-container-id-2 div.sk-parallel-item:first-child::after {align-self: flex-end;width: 50%;}#sk-container-id-2 div.sk-parallel-item:last-child::after {align-self: flex-start;width: 50%;}#sk-container-id-2 div.sk-parallel-item:only-child::after {width: 0;}#sk-container-id-2 div.sk-dashed-wrapped {border: 1px dashed gray;margin: 0 0.4em 0.5em 0.4em;box-sizing: border-box;padding-bottom: 0.4em;background-color: white;}#sk-container-id-2 div.sk-label label {font-family: monospace;font-weight: bold;display: inline-block;line-height: 1.2em;}#sk-container-id-2 div.sk-label-container {text-align: center;}#sk-container-id-2 div.sk-container {/* jupyter's `normalize.less` sets `[hidden] { display: none; }` but bootstrap.min.css set `[hidden] { display: none !important; }` so we also need the `!important` here to be able to override the default hidden behavior on the sphinx rendered scikit-learn.org. See: https://github.com/scikit-learn/scikit-learn/issues/21755 */display: inline-block !important;position: relative;}#sk-container-id-2 div.sk-text-repr-fallback {display: none;}</style><div id=\"sk-container-id-2\" class=\"sk-top-container\"><div class=\"sk-text-repr-fallback\"><pre>RandomForestClassifier(n_estimators=25, random_state=12)</pre><b>In a Jupyter environment, please rerun this cell to show the HTML representation or trust the notebook. <br />On GitHub, the HTML representation is unable to render, please try loading this page with nbviewer.org.</b></div><div class=\"sk-container\" hidden><div class=\"sk-item\"><div class=\"sk-estimator sk-toggleable\"><input class=\"sk-toggleable__control sk-hidden--visually\" id=\"sk-estimator-id-2\" type=\"checkbox\" checked><label for=\"sk-estimator-id-2\" class=\"sk-toggleable__label sk-toggleable__label-arrow\">RandomForestClassifier</label><div class=\"sk-toggleable__content\"><pre>RandomForestClassifier(n_estimators=25, random_state=12)</pre></div></div></div></div></div>"
            ]
          },
          "metadata": {},
          "execution_count": 35
        }
      ],
      "source": [
        "from sklearn.ensemble import RandomForestClassifier\n",
        "\n",
        "clf_rf = RandomForestClassifier(n_estimators=25, random_state=12)\n",
        "clf_rf.fit(X_train,Y_train)"
      ]
    },
    {
      "cell_type": "code",
      "execution_count": 36,
      "metadata": {
        "colab": {
          "base_uri": "https://localhost:8080/"
        },
        "id": "rEKtm3zOgCUy",
        "outputId": "d81085d7-d867-478c-afd6-43d7ed84a85e"
      },
      "outputs": [
        {
          "output_type": "stream",
          "name": "stdout",
          "text": [
            "              precision    recall  f1-score   support\n",
            "\n",
            "           0       0.67      0.55      0.60      4877\n",
            "           1       0.62      0.72      0.67      4878\n",
            "\n",
            "    accuracy                           0.64      9755\n",
            "   macro avg       0.64      0.64      0.63      9755\n",
            "weighted avg       0.64      0.64      0.63      9755\n",
            "\n"
          ]
        }
      ],
      "source": [
        "from sklearn.metrics import classification_report\n",
        "\n",
        "print(classification_report(Y_test, clf_rf.predict(X_test)))\n"
      ]
    },
    {
      "cell_type": "code",
      "execution_count": 37,
      "metadata": {
        "colab": {
          "base_uri": "https://localhost:8080/",
          "height": 607
        },
        "id": "WhL_mlFcghNa",
        "outputId": "9c1f5da8-106e-48ac-fae0-5ed6385ee4d2"
      },
      "outputs": [
        {
          "output_type": "display_data",
          "data": {
            "text/plain": [
              "<Figure size 800x600 with 1 Axes>"
            ],
            "image/png": "[encoded data removed]"
          },
          "metadata": {}
        }
      ],
      "source": [
        "from sklearn.metrics import roc_curve, auc\n",
        "\n",
        "fig, (ax2) = plt.subplots(figsize = (8,6))\n",
        "        #roc-curve\n",
        "fpr, tpr, thresholds_roc = roc_curve(Y_test, clf_rf.predict(X_test))\n",
        "roc_auc = auc(fpr,tpr)\n",
        "ax2.plot(fpr,tpr, label = \" AUROC = {:0.2f}\".format(roc_auc))\n",
        "ax2.plot([0,1], [0,1], 'r', linestyle = \"--\", lw = 2)\n",
        "ax2.set_xlabel(\"False Positive Rate\", fontsize = 14)\n",
        "ax2.set_ylabel(\"True Positive Rate\", fontsize = 14)\n",
        "ax2.set_title(\"ROC Curve\", fontsize = 18)\n",
        "ax2.legend(loc = 'best')\n",
        "plt.title('ROC curve for  Classifier ')\n",
        "plt.xlabel('False Positive Rate (1 - Specificity)')\n",
        "plt.ylabel('True Positive Rate (Sensitivity)')\n",
        "        #find default threshold\n",
        "close_default = np.argmin(np.abs(thresholds_roc - 0.5))\n",
        "ax2.plot(fpr[close_default], tpr[close_default], 'o', markersize = 8)\n",
        "plt.tight_layout()"
      ]
    },
    {
      "cell_type": "markdown",
      "metadata": {
        "id": "xW1_bhEChism"
      },
      "source": [
        "#XGBoost Classifer"
      ]
    },
    {
      "cell_type": "code",
      "execution_count": null,
      "metadata": {
        "colab": {
          "base_uri": "https://localhost:8080/",
          "height": 248
        },
        "id": "eBX-dp8jhhoA",
        "outputId": "59db918b-3cf7-4d37-f7b5-9281aabf7b0c"
      },
      "outputs": [
        {
          "output_type": "execute_result",
          "data": {
            "text/plain": [
              "XGBClassifier(base_score=None, booster=None, callbacks=None,\n",
              "              colsample_bylevel=None, colsample_bynode=None,\n",
              "              colsample_bytree=None, early_stopping_rounds=None,\n",
              "              enable_categorical=False, eval_metric=None, feature_types=None,\n",
              "              gamma=None, gpu_id=None, grow_policy=None, importance_type=None,\n",
              "              interaction_constraints=None, learning_rate=None, max_bin=None,\n",
              "              max_cat_threshold=None, max_cat_to_onehot=None,\n",
              "              max_delta_step=None, max_depth=None, max_leaves=None,\n",
              "              min_child_weight=None, missing=nan, monotone_constraints=None,\n",
              "              n_estimators=100, n_jobs=None, num_parallel_tree=None,\n",
              "              predictor=None, random_state=None, ...)"
            ],
            "text/html": [
              "<style>#sk-container-id-5 {color: black;background-color: white;}#sk-container-id-5 pre{padding: 0;}#sk-container-id-5 div.sk-toggleable {background-color: white;}#sk-container-id-5 label.sk-toggleable__label {cursor: pointer;display: block;width: 100%;margin-bottom: 0;padding: 0.3em;box-sizing: border-box;text-align: center;}#sk-container-id-5 label.sk-toggleable__label-arrow:before {content: \"▸\";float: left;margin-right: 0.25em;color: #696969;}#sk-container-id-5 label.sk-toggleable__label-arrow:hover:before {color: black;}#sk-container-id-5 div.sk-estimator:hover label.sk-toggleable__label-arrow:before {color: black;}#sk-container-id-5 div.sk-toggleable__content {max-height: 0;max-width: 0;overflow: hidden;text-align: left;background-color: #f0f8ff;}#sk-container-id-5 div.sk-toggleable__content pre {margin: 0.2em;color: black;border-radius: 0.25em;background-color: #f0f8ff;}#sk-container-id-5 input.sk-toggleable__control:checked~div.sk-toggleable__content {max-height: 200px;max-width: 100%;overflow: auto;}#sk-container-id-5 input.sk-toggleable__control:checked~label.sk-toggleable__label-arrow:before {content: \"▾\";}#sk-container-id-5 div.sk-estimator input.sk-toggleable__control:checked~label.sk-toggleable__label {background-color: #d4ebff;}#sk-container-id-5 div.sk-label input.sk-toggleable__control:checked~label.sk-toggleable__label {background-color: #d4ebff;}#sk-container-id-5 input.sk-hidden--visually {border: 0;clip: rect(1px 1px 1px 1px);clip: rect(1px, 1px, 1px, 1px);height: 1px;margin: -1px;overflow: hidden;padding: 0;position: absolute;width: 1px;}#sk-container-id-5 div.sk-estimator {font-family: monospace;background-color: #f0f8ff;border: 1px dotted black;border-radius: 0.25em;box-sizing: border-box;margin-bottom: 0.5em;}#sk-container-id-5 div.sk-estimator:hover {background-color: #d4ebff;}#sk-container-id-5 div.sk-parallel-item::after {content: \"\";width: 100%;border-bottom: 1px solid gray;flex-grow: 1;}#sk-container-id-5 div.sk-label:hover label.sk-toggleable__label {background-color: #d4ebff;}#sk-container-id-5 div.sk-serial::before {content: \"\";position: absolute;border-left: 1px solid gray;box-sizing: border-box;top: 0;bottom: 0;left: 50%;z-index: 0;}#sk-container-id-5 div.sk-serial {display: flex;flex-direction: column;align-items: center;background-color: white;padding-right: 0.2em;padding-left: 0.2em;position: relative;}#sk-container-id-5 div.sk-item {position: relative;z-index: 1;}#sk-container-id-5 div.sk-parallel {display: flex;align-items: stretch;justify-content: center;background-color: white;position: relative;}#sk-container-id-5 div.sk-item::before, #sk-container-id-5 div.sk-parallel-item::before {content: \"\";position: absolute;border-left: 1px solid gray;box-sizing: border-box;top: 0;bottom: 0;left: 50%;z-index: -1;}#sk-container-id-5 div.sk-parallel-item {display: flex;flex-direction: column;z-index: 1;position: relative;background-color: white;}#sk-container-id-5 div.sk-parallel-item:first-child::after {align-self: flex-end;width: 50%;}#sk-container-id-5 div.sk-parallel-item:last-child::after {align-self: flex-start;width: 50%;}#sk-container-id-5 div.sk-parallel-item:only-child::after {width: 0;}#sk-container-id-5 div.sk-dashed-wrapped {border: 1px dashed gray;margin: 0 0.4em 0.5em 0.4em;box-sizing: border-box;padding-bottom: 0.4em;background-color: white;}#sk-container-id-5 div.sk-label label {font-family: monospace;font-weight: bold;display: inline-block;line-height: 1.2em;}#sk-container-id-5 div.sk-label-container {text-align: center;}#sk-container-id-5 div.sk-container {/* jupyter's `normalize.less` sets `[hidden] { display: none; }` but bootstrap.min.css set `[hidden] { display: none !important; }` so we also need the `!important` here to be able to override the default hidden behavior on the sphinx rendered scikit-learn.org. See: https://github.com/scikit-learn/scikit-learn/issues/21755 */display: inline-block !important;position: relative;}#sk-container-id-5 div.sk-text-repr-fallback {display: none;}</style><div id=\"sk-container-id-5\" class=\"sk-top-container\"><div class=\"sk-text-repr-fallback\"><pre>XGBClassifier(base_score=None, booster=None, callbacks=None,\n",
              "              colsample_bylevel=None, colsample_bynode=None,\n",
              "              colsample_bytree=None, early_stopping_rounds=None,\n",
              "              enable_categorical=False, eval_metric=None, feature_types=None,\n",
              "              gamma=None, gpu_id=None, grow_policy=None, importance_type=None,\n",
              "              interaction_constraints=None, learning_rate=None, max_bin=None,\n",
              "              max_cat_threshold=None, max_cat_to_onehot=None,\n",
              "              max_delta_step=None, max_depth=None, max_leaves=None,\n",
              "              min_child_weight=None, missing=nan, monotone_constraints=None,\n",
              "              n_estimators=100, n_jobs=None, num_parallel_tree=None,\n",
              "              predictor=None, random_state=None, ...)</pre><b>In a Jupyter environment, please rerun this cell to show the HTML representation or trust the notebook. <br />On GitHub, the HTML representation is unable to render, please try loading this page with nbviewer.org.</b></div><div class=\"sk-container\" hidden><div class=\"sk-item\"><div class=\"sk-estimator sk-toggleable\"><input class=\"sk-toggleable__control sk-hidden--visually\" id=\"sk-estimator-id-5\" type=\"checkbox\" checked><label for=\"sk-estimator-id-5\" class=\"sk-toggleable__label sk-toggleable__label-arrow\">XGBClassifier</label><div class=\"sk-toggleable__content\"><pre>XGBClassifier(base_score=None, booster=None, callbacks=None,\n",
              "              colsample_bylevel=None, colsample_bynode=None,\n",
              "              colsample_bytree=None, early_stopping_rounds=None,\n",
              "              enable_categorical=False, eval_metric=None, feature_types=None,\n",
              "              gamma=None, gpu_id=None, grow_policy=None, importance_type=None,\n",
              "              interaction_constraints=None, learning_rate=None, max_bin=None,\n",
              "              max_cat_threshold=None, max_cat_to_onehot=None,\n",
              "              max_delta_step=None, max_depth=None, max_leaves=None,\n",
              "              min_child_weight=None, missing=nan, monotone_constraints=None,\n",
              "              n_estimators=100, n_jobs=None, num_parallel_tree=None,\n",
              "              predictor=None, random_state=None, ...)</pre></div></div></div></div></div>"
            ]
          },
          "metadata": {},
          "execution_count": 172
        }
      ],
      "source": [
        "from xgboost import XGBClassifier\n",
        "\n",
        "xgb_clf = XGBClassifier(use_label_encoder=False)\n",
        "xgb_clf.fit(X_train,Y_train)"
      ]
    },
    {
      "cell_type": "code",
      "execution_count": null,
      "metadata": {
        "colab": {
          "base_uri": "https://localhost:8080/"
        },
        "id": "U4t0z_ORh6qy",
        "outputId": "4ccd4a20-7ba2-40f1-84e0-71c16f07b9a4"
      },
      "outputs": [
        {
          "output_type": "stream",
          "name": "stdout",
          "text": [
            "              precision    recall  f1-score   support\n",
            "\n",
            "           0       0.76      0.50      0.60      4877\n",
            "           1       0.63      0.84      0.72      4878\n",
            "\n",
            "    accuracy                           0.67      9755\n",
            "   macro avg       0.69      0.67      0.66      9755\n",
            "weighted avg       0.69      0.67      0.66      9755\n",
            "\n"
          ]
        }
      ],
      "source": [
        "from sklearn.metrics import classification_report\n",
        "\n",
        "print(classification_report(Y_test, xgb_clf.predict(X_test)))\n"
      ]
    },
    {
      "cell_type": "code",
      "execution_count": null,
      "metadata": {
        "colab": {
          "base_uri": "https://localhost:8080/",
          "height": 607
        },
        "id": "10dNtD2giBPX",
        "outputId": "c72384ae-b4dc-4cd0-fecc-422457daf69a"
      },
      "outputs": [
        {
          "output_type": "display_data",
          "data": {
            "text/plain": [
              "<Figure size 800x600 with 1 Axes>"
            ],
            "image/png": "[encoded data removed]"
          },
          "metadata": {}
        }
      ],
      "source": [
        "from sklearn.metrics import roc_curve, auc\n",
        "\n",
        "fig, (ax2) = plt.subplots(figsize = (8,6))\n",
        "        #roc-curve\n",
        "fpr, tpr, thresholds_roc = roc_curve(Y_test, xgb_clf.predict(X_test))\n",
        "roc_auc = auc(fpr,tpr)\n",
        "ax2.plot(fpr,tpr, label = \" AUROC = {:0.2f}\".format(roc_auc))\n",
        "ax2.plot([0,1], [0,1], 'r', linestyle = \"--\", lw = 2)\n",
        "ax2.set_xlabel(\"False Positive Rate\", fontsize = 14)\n",
        "ax2.set_ylabel(\"True Positive Rate\", fontsize = 14)\n",
        "ax2.set_title(\"ROC Curve\", fontsize = 18)\n",
        "ax2.legend(loc = 'best')\n",
        "\n",
        "\n",
        "\n",
        "plt.title('ROC curve for  Classifier ')\n",
        "plt.xlabel('False Positive Rate (1 - Specificity)')\n",
        "plt.ylabel('True Positive Rate (Sensitivity)')\n",
        "        #find default threshold\n",
        "close_default = np.argmin(np.abs(thresholds_roc - 0.5))\n",
        "ax2.plot(fpr[close_default], tpr[close_default], 'o', markersize = 8)\n",
        "plt.tight_layout()"
      ]
    },
    {
      "cell_type": "code",
      "source": [],
      "metadata": {
        "id": "p_slzIwPX5ai"
      },
      "execution_count": null,
      "outputs": []
    },
    {
      "cell_type": "markdown",
      "metadata": {
        "id": "MHHOU2ygiRFX"
      },
      "source": [
        "#KNN"
      ]
    },
    {
      "cell_type": "code",
      "execution_count": null,
      "metadata": {
        "id": "UXw10rHHiQHB"
      },
      "outputs": [],
      "source": [
        "from sklearn.neighbors import KNeighborsClassifier\n",
        "from sklearn.metrics import accuracy_score, confusion_matrix, classification_report\n",
        "\n",
        "train_score = []\n",
        "test_score = []\n",
        "neighbors = range(1, 30)\n",
        "\n",
        "for k in neighbors:\n",
        "    model = KNeighborsClassifier(n_neighbors=k)\n",
        "    model.fit(X_train,Y_train)\n",
        "    train_score.append(accuracy_score(Y_test, model.predict(X_test)))\n",
        "#     test_score.append(accuracy_score(y_test, model.predict(X_test)))"
      ]
    },
    {
      "cell_type": "code",
      "execution_count": null,
      "metadata": {
        "colab": {
          "base_uri": "https://localhost:8080/",
          "height": 641
        },
        "id": "MYsz7jFokyC5",
        "outputId": "76d860b7-d703-4f33-a504-a50b6f04f489"
      },
      "outputs": [
        {
          "output_type": "stream",
          "name": "stdout",
          "text": [
            "Maximum KNN score on the test data: 64.61%\n"
          ]
        },
        {
          "output_type": "display_data",
          "data": {
            "text/plain": [
              "<Figure size 1000x700 with 1 Axes>"
            ],
            "image/png": "[encoded data removed]"
          },
          "metadata": {}
        }
      ],
      "source": [
        "plt.figure(figsize=(10, 7))\n",
        "\n",
        "plt.plot(neighbors, train_score, label=\"Train score\")\n",
        "# plt.plot(neighbors, test_score, label=\"Test score\")\n",
        "plt.xticks(np.arange(1, 21, 1))\n",
        "plt.xlabel(\"Number of neighbors\")\n",
        "plt.ylabel(\"Model score\")\n",
        "plt.legend()\n",
        "\n",
        "print(f\"Maximum KNN score on the test data: {max(train_score)*100:.2f}%\")"
      ]
    },
    {
      "cell_type": "code",
      "execution_count": null,
      "metadata": {
        "id": "FGEz8xJbk21s"
      },
      "outputs": [],
      "source": [
        "knn_clf = KNeighborsClassifier(n_neighbors=26)\n"
      ]
    },
    {
      "cell_type": "code",
      "execution_count": null,
      "metadata": {
        "colab": {
          "base_uri": "https://localhost:8080/",
          "height": 74
        },
        "id": "XEBFpkLyluya",
        "outputId": "d6df40e7-5e7b-4f2f-8dfc-59d43808cb46"
      },
      "outputs": [
        {
          "output_type": "execute_result",
          "data": {
            "text/plain": [
              "KNeighborsClassifier(n_neighbors=26)"
            ],
            "text/html": [
              "<style>#sk-container-id-6 {color: black;background-color: white;}#sk-container-id-6 pre{padding: 0;}#sk-container-id-6 div.sk-toggleable {background-color: white;}#sk-container-id-6 label.sk-toggleable__label {cursor: pointer;display: block;width: 100%;margin-bottom: 0;padding: 0.3em;box-sizing: border-box;text-align: center;}#sk-container-id-6 label.sk-toggleable__label-arrow:before {content: \"▸\";float: left;margin-right: 0.25em;color: #696969;}#sk-container-id-6 label.sk-toggleable__label-arrow:hover:before {color: black;}#sk-container-id-6 div.sk-estimator:hover label.sk-toggleable__label-arrow:before {color: black;}#sk-container-id-6 div.sk-toggleable__content {max-height: 0;max-width: 0;overflow: hidden;text-align: left;background-color: #f0f8ff;}#sk-container-id-6 div.sk-toggleable__content pre {margin: 0.2em;color: black;border-radius: 0.25em;background-color: #f0f8ff;}#sk-container-id-6 input.sk-toggleable__control:checked~div.sk-toggleable__content {max-height: 200px;max-width: 100%;overflow: auto;}#sk-container-id-6 input.sk-toggleable__control:checked~label.sk-toggleable__label-arrow:before {content: \"▾\";}#sk-container-id-6 div.sk-estimator input.sk-toggleable__control:checked~label.sk-toggleable__label {background-color: #d4ebff;}#sk-container-id-6 div.sk-label input.sk-toggleable__control:checked~label.sk-toggleable__label {background-color: #d4ebff;}#sk-container-id-6 input.sk-hidden--visually {border: 0;clip: rect(1px 1px 1px 1px);clip: rect(1px, 1px, 1px, 1px);height: 1px;margin: -1px;overflow: hidden;padding: 0;position: absolute;width: 1px;}#sk-container-id-6 div.sk-estimator {font-family: monospace;background-color: #f0f8ff;border: 1px dotted black;border-radius: 0.25em;box-sizing: border-box;margin-bottom: 0.5em;}#sk-container-id-6 div.sk-estimator:hover {background-color: #d4ebff;}#sk-container-id-6 div.sk-parallel-item::after {content: \"\";width: 100%;border-bottom: 1px solid gray;flex-grow: 1;}#sk-container-id-6 div.sk-label:hover label.sk-toggleable__label {background-color: #d4ebff;}#sk-container-id-6 div.sk-serial::before {content: \"\";position: absolute;border-left: 1px solid gray;box-sizing: border-box;top: 0;bottom: 0;left: 50%;z-index: 0;}#sk-container-id-6 div.sk-serial {display: flex;flex-direction: column;align-items: center;background-color: white;padding-right: 0.2em;padding-left: 0.2em;position: relative;}#sk-container-id-6 div.sk-item {position: relative;z-index: 1;}#sk-container-id-6 div.sk-parallel {display: flex;align-items: stretch;justify-content: center;background-color: white;position: relative;}#sk-container-id-6 div.sk-item::before, #sk-container-id-6 div.sk-parallel-item::before {content: \"\";position: absolute;border-left: 1px solid gray;box-sizing: border-box;top: 0;bottom: 0;left: 50%;z-index: -1;}#sk-container-id-6 div.sk-parallel-item {display: flex;flex-direction: column;z-index: 1;position: relative;background-color: white;}#sk-container-id-6 div.sk-parallel-item:first-child::after {align-self: flex-end;width: 50%;}#sk-container-id-6 div.sk-parallel-item:last-child::after {align-self: flex-start;width: 50%;}#sk-container-id-6 div.sk-parallel-item:only-child::after {width: 0;}#sk-container-id-6 div.sk-dashed-wrapped {border: 1px dashed gray;margin: 0 0.4em 0.5em 0.4em;box-sizing: border-box;padding-bottom: 0.4em;background-color: white;}#sk-container-id-6 div.sk-label label {font-family: monospace;font-weight: bold;display: inline-block;line-height: 1.2em;}#sk-container-id-6 div.sk-label-container {text-align: center;}#sk-container-id-6 div.sk-container {/* jupyter's `normalize.less` sets `[hidden] { display: none; }` but bootstrap.min.css set `[hidden] { display: none !important; }` so we also need the `!important` here to be able to override the default hidden behavior on the sphinx rendered scikit-learn.org. See: https://github.com/scikit-learn/scikit-learn/issues/21755 */display: inline-block !important;position: relative;}#sk-container-id-6 div.sk-text-repr-fallback {display: none;}</style><div id=\"sk-container-id-6\" class=\"sk-top-container\"><div class=\"sk-text-repr-fallback\"><pre>KNeighborsClassifier(n_neighbors=26)</pre><b>In a Jupyter environment, please rerun this cell to show the HTML representation or trust the notebook. <br />On GitHub, the HTML representation is unable to render, please try loading this page with nbviewer.org.</b></div><div class=\"sk-container\" hidden><div class=\"sk-item\"><div class=\"sk-estimator sk-toggleable\"><input class=\"sk-toggleable__control sk-hidden--visually\" id=\"sk-estimator-id-6\" type=\"checkbox\" checked><label for=\"sk-estimator-id-6\" class=\"sk-toggleable__label sk-toggleable__label-arrow\">KNeighborsClassifier</label><div class=\"sk-toggleable__content\"><pre>KNeighborsClassifier(n_neighbors=26)</pre></div></div></div></div></div>"
            ]
          },
          "metadata": {},
          "execution_count": 178
        }
      ],
      "source": [
        "knn_clf.fit(X_train,Y_train)"
      ]
    },
    {
      "cell_type": "code",
      "execution_count": null,
      "metadata": {
        "colab": {
          "base_uri": "https://localhost:8080/"
        },
        "id": "rIJGwjz2l4Qb",
        "outputId": "74ce3823-6654-476d-ca8b-f4204a9c350e"
      },
      "outputs": [
        {
          "output_type": "stream",
          "name": "stdout",
          "text": [
            "              precision    recall  f1-score   support\n",
            "\n",
            "           0       0.67      0.56      0.61      4877\n",
            "           1       0.62      0.73      0.67      4878\n",
            "\n",
            "    accuracy                           0.64      9755\n",
            "   macro avg       0.65      0.64      0.64      9755\n",
            "weighted avg       0.65      0.64      0.64      9755\n",
            "\n"
          ]
        }
      ],
      "source": [
        "print(classification_report(Y_test, knn_clf.predict(X_test)))\n"
      ]
    },
    {
      "cell_type": "code",
      "execution_count": null,
      "metadata": {
        "colab": {
          "base_uri": "https://localhost:8080/",
          "height": 607
        },
        "id": "UruFOxs9l920",
        "outputId": "f78eeb88-7172-4022-b386-adce3e813a76"
      },
      "outputs": [
        {
          "output_type": "display_data",
          "data": {
            "text/plain": [
              "<Figure size 800x600 with 1 Axes>"
            ],
            "image/png": "[encoded data removed]"
          },
          "metadata": {}
        }
      ],
      "source": [
        "from sklearn.metrics import roc_curve, auc\n",
        "\n",
        "fig, (ax2) = plt.subplots(figsize = (8,6))\n",
        "        #roc-curve\n",
        "fpr, tpr, thresholds_roc = roc_curve(Y_test, knn_clf.predict(X_test))\n",
        "roc_auc = auc(fpr,tpr)\n",
        "ax2.plot(fpr,tpr, label = \" AUROC = {:0.2f}\".format(roc_auc))\n",
        "ax2.plot([0,1], [0,1], 'r', linestyle = \"--\", lw = 2)\n",
        "ax2.set_xlabel(\"False Positive Rate\", fontsize = 14)\n",
        "ax2.set_ylabel(\"True Positive Rate\", fontsize = 14)\n",
        "ax2.set_title(\"ROC Curve\", fontsize = 18)\n",
        "ax2.legend(loc = 'best')\n",
        "plt.title('ROC curve for  Classifier ')\n",
        "plt.xlabel('False Positive Rate (1 - Specificity)')\n",
        "plt.ylabel('True Positive Rate (Sensitivity)')\n",
        "        #find default threshold\n",
        "close_default = np.argmin(np.abs(thresholds_roc - 0.5))\n",
        "ax2.plot(fpr[close_default], tpr[close_default], 'o', markersize = 8)\n",
        "plt.tight_layout()"
      ]
    },
    {
      "cell_type": "markdown",
      "metadata": {
        "id": "wRl6OejxnlEY"
      },
      "source": [
        "#SVM"
      ]
    },
    {
      "cell_type": "code",
      "execution_count": null,
      "metadata": {
        "colab": {
          "base_uri": "https://localhost:8080/",
          "height": 74
        },
        "id": "OVNd_q3znnRo",
        "outputId": "9b4d525f-7f5b-48cf-fc3b-d4b307724b2f"
      },
      "outputs": [
        {
          "output_type": "execute_result",
          "data": {
            "text/plain": [
              "SVC(gamma=0.1)"
            ],
            "text/html": [
              "<style>#sk-container-id-7 {color: black;background-color: white;}#sk-container-id-7 pre{padding: 0;}#sk-container-id-7 div.sk-toggleable {background-color: white;}#sk-container-id-7 label.sk-toggleable__label {cursor: pointer;display: block;width: 100%;margin-bottom: 0;padding: 0.3em;box-sizing: border-box;text-align: center;}#sk-container-id-7 label.sk-toggleable__label-arrow:before {content: \"▸\";float: left;margin-right: 0.25em;color: #696969;}#sk-container-id-7 label.sk-toggleable__label-arrow:hover:before {color: black;}#sk-container-id-7 div.sk-estimator:hover label.sk-toggleable__label-arrow:before {color: black;}#sk-container-id-7 div.sk-toggleable__content {max-height: 0;max-width: 0;overflow: hidden;text-align: left;background-color: #f0f8ff;}#sk-container-id-7 div.sk-toggleable__content pre {margin: 0.2em;color: black;border-radius: 0.25em;background-color: #f0f8ff;}#sk-container-id-7 input.sk-toggleable__control:checked~div.sk-toggleable__content {max-height: 200px;max-width: 100%;overflow: auto;}#sk-container-id-7 input.sk-toggleable__control:checked~label.sk-toggleable__label-arrow:before {content: \"▾\";}#sk-container-id-7 div.sk-estimator input.sk-toggleable__control:checked~label.sk-toggleable__label {background-color: #d4ebff;}#sk-container-id-7 div.sk-label input.sk-toggleable__control:checked~label.sk-toggleable__label {background-color: #d4ebff;}#sk-container-id-7 input.sk-hidden--visually {border: 0;clip: rect(1px 1px 1px 1px);clip: rect(1px, 1px, 1px, 1px);height: 1px;margin: -1px;overflow: hidden;padding: 0;position: absolute;width: 1px;}#sk-container-id-7 div.sk-estimator {font-family: monospace;background-color: #f0f8ff;border: 1px dotted black;border-radius: 0.25em;box-sizing: border-box;margin-bottom: 0.5em;}#sk-container-id-7 div.sk-estimator:hover {background-color: #d4ebff;}#sk-container-id-7 div.sk-parallel-item::after {content: \"\";width: 100%;border-bottom: 1px solid gray;flex-grow: 1;}#sk-container-id-7 div.sk-label:hover label.sk-toggleable__label {background-color: #d4ebff;}#sk-container-id-7 div.sk-serial::before {content: \"\";position: absolute;border-left: 1px solid gray;box-sizing: border-box;top: 0;bottom: 0;left: 50%;z-index: 0;}#sk-container-id-7 div.sk-serial {display: flex;flex-direction: column;align-items: center;background-color: white;padding-right: 0.2em;padding-left: 0.2em;position: relative;}#sk-container-id-7 div.sk-item {position: relative;z-index: 1;}#sk-container-id-7 div.sk-parallel {display: flex;align-items: stretch;justify-content: center;background-color: white;position: relative;}#sk-container-id-7 div.sk-item::before, #sk-container-id-7 div.sk-parallel-item::before {content: \"\";position: absolute;border-left: 1px solid gray;box-sizing: border-box;top: 0;bottom: 0;left: 50%;z-index: -1;}#sk-container-id-7 div.sk-parallel-item {display: flex;flex-direction: column;z-index: 1;position: relative;background-color: white;}#sk-container-id-7 div.sk-parallel-item:first-child::after {align-self: flex-end;width: 50%;}#sk-container-id-7 div.sk-parallel-item:last-child::after {align-self: flex-start;width: 50%;}#sk-container-id-7 div.sk-parallel-item:only-child::after {width: 0;}#sk-container-id-7 div.sk-dashed-wrapped {border: 1px dashed gray;margin: 0 0.4em 0.5em 0.4em;box-sizing: border-box;padding-bottom: 0.4em;background-color: white;}#sk-container-id-7 div.sk-label label {font-family: monospace;font-weight: bold;display: inline-block;line-height: 1.2em;}#sk-container-id-7 div.sk-label-container {text-align: center;}#sk-container-id-7 div.sk-container {/* jupyter's `normalize.less` sets `[hidden] { display: none; }` but bootstrap.min.css set `[hidden] { display: none !important; }` so we also need the `!important` here to be able to override the default hidden behavior on the sphinx rendered scikit-learn.org. See: https://github.com/scikit-learn/scikit-learn/issues/21755 */display: inline-block !important;position: relative;}#sk-container-id-7 div.sk-text-repr-fallback {display: none;}</style><div id=\"sk-container-id-7\" class=\"sk-top-container\"><div class=\"sk-text-repr-fallback\"><pre>SVC(gamma=0.1)</pre><b>In a Jupyter environment, please rerun this cell to show the HTML representation or trust the notebook. <br />On GitHub, the HTML representation is unable to render, please try loading this page with nbviewer.org.</b></div><div class=\"sk-container\" hidden><div class=\"sk-item\"><div class=\"sk-estimator sk-toggleable\"><input class=\"sk-toggleable__control sk-hidden--visually\" id=\"sk-estimator-id-7\" type=\"checkbox\" checked><label for=\"sk-estimator-id-7\" class=\"sk-toggleable__label sk-toggleable__label-arrow\">SVC</label><div class=\"sk-toggleable__content\"><pre>SVC(gamma=0.1)</pre></div></div></div></div></div>"
            ]
          },
          "metadata": {},
          "execution_count": 181
        }
      ],
      "source": [
        "from sklearn.svm import SVC\n",
        "from sklearn.model_selection import GridSearchCV\n",
        "\n",
        "svm_clf = SVC(kernel='rbf', gamma=0.1, C=1.0)\n",
        "svm_clf.fit(X_train, Y_train)"
      ]
    },
    {
      "cell_type": "code",
      "execution_count": null,
      "metadata": {
        "colab": {
          "base_uri": "https://localhost:8080/"
        },
        "id": "2nqhcafUn-H3",
        "outputId": "93b07a64-f896-4dc8-aacd-0470e0204407"
      },
      "outputs": [
        {
          "output_type": "stream",
          "name": "stdout",
          "text": [
            "              precision    recall  f1-score   support\n",
            "\n",
            "           0       0.80      0.42      0.55      4877\n",
            "           1       0.61      0.90      0.72      4878\n",
            "\n",
            "    accuracy                           0.66      9755\n",
            "   macro avg       0.71      0.66      0.64      9755\n",
            "weighted avg       0.71      0.66      0.64      9755\n",
            "\n"
          ]
        }
      ],
      "source": [
        "print(classification_report(Y_test, svm_clf.predict(X_test)))\n"
      ]
    },
    {
      "cell_type": "code",
      "execution_count": null,
      "metadata": {
        "colab": {
          "base_uri": "https://localhost:8080/",
          "height": 607
        },
        "id": "y0n56DBmoJMc",
        "outputId": "4c148406-64df-4bb1-f621-ca9413b1b194"
      },
      "outputs": [
        {
          "output_type": "display_data",
          "data": {
            "text/plain": [
              "<Figure size 800x600 with 1 Axes>"
            ],
            "image/png": "[encoded data removed]"
          },
          "metadata": {}
        }
      ],
      "source": [
        "from sklearn.metrics import roc_curve, auc\n",
        "\n",
        "fig, (ax2) = plt.subplots(figsize = (8,6))\n",
        "        #roc-curve\n",
        "fpr, tpr, thresholds_roc = roc_curve(Y_test, svm_clf.predict(X_test))\n",
        "roc_auc = auc(fpr,tpr)\n",
        "ax2.plot(fpr,tpr, label = \" AUROC = {:0.2f}\".format(roc_auc))\n",
        "ax2.plot([0,1], [0,1], 'r', linestyle = \"--\", lw = 2)\n",
        "ax2.set_xlabel(\"False Positive Rate\", fontsize = 14)\n",
        "ax2.set_ylabel(\"True Positive Rate\", fontsize = 14)\n",
        "ax2.set_title(\"ROC Curve\", fontsize = 18)\n",
        "ax2.legend(loc = 'best')\n",
        "plt.title('ROC curve for  Classifier ')\n",
        "plt.xlabel('False Positive Rate (1 - Specificity)')\n",
        "plt.ylabel('True Positive Rate (Sensitivity)')\n",
        "        #find default threshold\n",
        "close_default = np.argmin(np.abs(thresholds_roc - 0.5))\n",
        "ax2.plot(fpr[close_default], tpr[close_default], 'o', markersize = 8)\n",
        "plt.tight_layout()"
      ]
    },
    {
      "cell_type": "markdown",
      "source": [
        "#Feature Importance"
      ],
      "metadata": {
        "id": "CsjmiQhA_LJR"
      }
    },
    {
      "cell_type": "code",
      "source": [
        "def feature_imp(df, model):\n",
        "    fi = pd.DataFrame()\n",
        "    fi[\"feature\"] = df.columns\n",
        "    fi[\"importance\"] = model.feature_importances_\n",
        "    return fi.sort_values(by=\"importance\", ascending=False)"
      ],
      "metadata": {
        "id": "8Y49lHfs_KcO"
      },
      "execution_count": null,
      "outputs": []
    },
    {
      "cell_type": "code",
      "source": [
        "feature_imp(X,clf_rf).plot(kind='barh', figsize=(12,7), legend=False)\n"
      ],
      "metadata": {
        "colab": {
          "base_uri": "https://localhost:8080/",
          "height": 616
        },
        "id": "xEl1FJCg_UFl",
        "outputId": "53cc7591-bffd-49c2-ffea-930739286437"
      },
      "execution_count": null,
      "outputs": [
        {
          "output_type": "execute_result",
          "data": {
            "text/plain": [
              "<Axes: >"
            ]
          },
          "metadata": {},
          "execution_count": 212
        },
        {
          "output_type": "display_data",
          "data": {
            "text/plain": [
              "<Figure size 1200x700 with 1 Axes>"
            ],
            "image/png": "[encoded data removed]"
          },
          "metadata": {}
        }
      ]
    },
    {
      "cell_type": "code",
      "source": [
        "X.info()"
      ],
      "metadata": {
        "colab": {
          "base_uri": "https://localhost:8080/"
        },
        "id": "IqaM9IDPAzXy",
        "outputId": "65e7f40e-14bd-43b3-ea99-85ef0411b2d1"
      },
      "execution_count": null,
      "outputs": [
        {
          "output_type": "stream",
          "name": "stdout",
          "text": [
            "<class 'pandas.core.frame.DataFrame'>\n",
            "RangeIndex: 64442 entries, 0 to 64441\n",
            "Data columns (total 25 columns):\n",
            " #   Column                                               Non-Null Count  Dtype  \n",
            "---  ------                                               --------------  -----  \n",
            " 0   Patient Age at Treatment                             64442 non-null  float64\n",
            " 1   Total Number of Previous IVF cycles                  64442 non-null  float64\n",
            " 2   Total number of IVF pregnancies                      64442 non-null  float64\n",
            " 3   Total number of live births - conceived through IVF  64442 non-null  float64\n",
            " 4   Type of Infertility - Female Primary                 64442 non-null  float64\n",
            " 5   Type of Infertility - Female Secondary               64442 non-null  float64\n",
            " 6   Type of Infertility - Male Primary                   64442 non-null  float64\n",
            " 7   Type of Infertility - Male Secondary                 64442 non-null  float64\n",
            " 8   Type of Infertility -Couple Primary                  64442 non-null  float64\n",
            " 9   Type of Infertility -Couple Secondary                64442 non-null  float64\n",
            " 10  Cause  of Infertility - Tubal disease                64442 non-null  float64\n",
            " 11  Cause of Infertility - Ovulatory Disorder            64442 non-null  float64\n",
            " 12  Cause of Infertility - Male Factor                   64442 non-null  float64\n",
            " 13  Cause of Infertility - Patient Unexplained           64442 non-null  float64\n",
            " 14  Cause of Infertility - Endometriosis                 64442 non-null  float64\n",
            " 15  Cause of Infertility - Cervical factors              64442 non-null  float64\n",
            " 16  Cause of Infertility - Partner Sperm Concentration   64442 non-null  float64\n",
            " 17  Cause of Infertility -  Partner Sperm Morphology     64442 non-null  float64\n",
            " 18  Causes of Infertility - Partner Sperm Motility       64442 non-null  float64\n",
            " 19  Fresh Cycle                                          64442 non-null  float64\n",
            " 20  Frozen Cycle                                         64442 non-null  float64\n",
            " 21  Eggs Thawed                                          64442 non-null  float64\n",
            " 22  Fresh Eggs Collected                                 64442 non-null  float64\n",
            " 23  Eggs Mixed With Partner Sperm                        64442 non-null  float64\n",
            " 24  Embryos Transfered                                   64442 non-null  float64\n",
            "dtypes: float64(25)\n",
            "memory usage: 12.3 MB\n"
          ]
        }
      ]
    }
  ],
  "metadata": {
    "colab": {
      "provenance": [],
      "include_colab_link": true
    },
    "kernelspec": {
      "display_name": "Python 3 (ipykernel)",
      "language": "python",
      "name": "python3"
    },
    "language_info": {
      "codemirror_mode": {
        "name": "ipython",
        "version": 3
      },
      "file_extension": ".py",
      "mimetype": "text/x-python",
      "name": "python",
      "nbconvert_exporter": "python",
      "pygments_lexer": "ipython3",
      "version": "3.9.13"
    }
  },
  "nbformat": 4,
  "nbformat_minor": 0
}