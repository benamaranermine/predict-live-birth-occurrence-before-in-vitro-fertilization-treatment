{
  "cells": [
    {
      "cell_type": "markdown",
      "metadata": {
        "id": "view-in-github",
        "colab_type": "text"
      },
      "source": [
        "<a href=\"https://colab.research.google.com/github/benamaranermine/predict-live-birth-occurrence-before-in-vitro-fertilization-treatment/blob/main/predict_live%E2%80%91birth_with_databalancing.ipynb\" target=\"_parent\"><img src=\"https://colab.research.google.com/assets/colab-badge.svg\" alt=\"Open In Colab\"/></a>"
      ]
    },
    {
      "cell_type": "code",
      "execution_count": null,
      "metadata": {
        "id": "hgbZDHUj669c"
      },
      "outputs": [],
      "source": [
        "import numpy as np\n",
        "import pandas as pd\n",
        "import matplotlib.pyplot as plt\n",
        "import seaborn as sns\n",
        "import warnings\n",
        "warnings.filterwarnings('ignore') # filter the warnings\n",
        "\n",
        "from sklearn.model_selection import train_test_split\n",
        "from sklearn.preprocessing import StandardScaler\n",
        "from sklearn.linear_model import LinearRegression\n",
        "from sklearn.ensemble import RandomForestRegressor\n",
        "from sklearn.svm import SVR\n",
        "from sklearn import metrics\n",
        "from sklearn.model_selection import RandomizedSearchCV\n",
        "\n",
        "import pandas as pd\n",
        "import numpy as np\n",
        "from numpy import genfromtxt\n",
        "import csv\n",
        "from sklearn import model_selection\n",
        "from sklearn.model_selection import StratifiedKFold, StratifiedShuffleSplit\n",
        "from sklearn.feature_selection import RFECV,SelectFromModel\n",
        "from sklearn.linear_model import LogisticRegression\n",
        "from sklearn.svm import SVR, SVC, LinearSVC\n",
        "from google.colab import drive\n",
        "\n"
      ]
    },
    {
      "cell_type": "code",
      "execution_count": null,
      "metadata": {
        "colab": {
          "base_uri": "https://localhost:8080/"
        },
        "id": "B4kIu7uU63Ac",
        "outputId": "8d6c352c-75c6-4bba-9929-3293cd79089a"
      },
      "outputs": [
        {
          "output_type": "stream",
          "name": "stdout",
          "text": [
            "Mounted at /content/drive\n"
          ]
        }
      ],
      "source": [
        "drive.mount('/content/drive')\n"
      ]
    },
    {
      "cell_type": "code",
      "execution_count": null,
      "metadata": {
        "id": "OzCtrMA1VtD9"
      },
      "outputs": [],
      "source": [
        "file_path = '/content/drive/MyDrive/ar-2015-2016-xlsb.xlsx'\n",
        "data = pd.read_excel(file_path)"
      ]
    },
    {
      "cell_type": "code",
      "execution_count": null,
      "metadata": {
        "colab": {
          "base_uri": "https://localhost:8080/"
        },
        "id": "B15PO3-3Fb44",
        "outputId": "67fb8acd-3224-4039-be42-2573db2249c2"
      },
      "outputs": [
        {
          "output_type": "stream",
          "name": "stdout",
          "text": [
            "Patient Age at Treatment has : ['40-42' '45-50' '35-37' '18 - 34' '43-44' '38-39' '999'] unique values\n",
            "\n",
            "Date patient started trying to become pregnant OR date of last pregnancy has : [nan 13. 11. 10. 15. 16. 17. 14. 19. 12. 18. 20.  6.  9.  5.  8.  3.] unique values\n",
            "\n",
            "Total Number of Previous cycles, Both IVF and DI has : ['2' '3' '0' '5' '>=5' '1' '4'] unique values\n",
            "\n",
            "Total Number of Previous treatments, Both IVF and DI at clinic has : ['2' '3' '0' '5' '1' '>=5' '4'] unique values\n",
            "\n",
            "Total Number of Previous IVF cycles has : ['2' '3' '0' '5' '4' '1' '>=5'] unique values\n",
            "\n",
            "Total Number of Previous DI cycles has : ['0' '3' '>=5' '1' '2' '4' '5'] unique values\n",
            "\n",
            "Total number of previous pregnancies, Both IVF and DI has : ['0' '1' '2' '4' '3' '5' '>=5'] unique values\n",
            "\n",
            "Total number of IVF pregnancies has : ['0' '1' '2' '4' '3' '5' '>=5'] unique values\n",
            "\n",
            "Total number of DI pregnancies has : [0 1 3 2 4] unique values\n",
            "\n",
            "Total number of live births - conceived through IVF or DI has : [0 1 2 3 5 4] unique values\n",
            "\n",
            "Total number of live births - conceived through IVF has : [0 1 2 3 5 4] unique values\n",
            "\n",
            "Total number of live births - conceived through DI has : [0 1 2 3] unique values\n",
            "\n",
            "Type of Infertility - Female Primary has : [0 1] unique values\n",
            "\n",
            "Type of Infertility - Female Secondary has : [0 1] unique values\n",
            "\n",
            "Type of Infertility - Male Primary has : [0 1] unique values\n",
            "\n",
            "Type of Infertility - Male Secondary has : [0 1] unique values\n",
            "\n",
            "Type of Infertility -Couple Primary has : [0 1] unique values\n",
            "\n",
            "Type of Infertility -Couple Secondary has : [0 1] unique values\n",
            "\n",
            "Cause  of Infertility - Tubal disease has : [0 1] unique values\n",
            "\n",
            "Cause of Infertility - Ovulatory Disorder has : [0 1] unique values\n",
            "\n",
            "Cause of Infertility - Male Factor has : [0 1] unique values\n",
            "\n",
            "Cause of Infertility - Patient Unexplained has : [1 0] unique values\n",
            "\n",
            "Cause of Infertility - Endometriosis has : [0 1] unique values\n",
            "\n",
            "Cause of Infertility - Cervical factors has : [0 1] unique values\n",
            "\n",
            "Cause of Infertility - Female Factors has : [0] unique values\n",
            "\n",
            "Cause of Infertility - Partner Sperm Concentration has : [0 1] unique values\n",
            "\n",
            "Cause of Infertility -  Partner Sperm Morphology has : [0 1] unique values\n",
            "\n",
            "Causes of Infertility - Partner Sperm Motility has : [0 1] unique values\n",
            "\n",
            "Cause of Infertility -  Partner Sperm Immunological factors has : [0] unique values\n",
            "\n",
            "Main Reason for Producing Embroys Storing Eggs has : ['Treatment Now ' 'For Storing Eggs ' 'For Storing Embryos '\n",
            " 'For Donation ' 'Treatment Now ,For Donation '\n",
            " 'For Donation ,For Storing Eggs ' 'Treatment Now ,For Storing Embryos '\n",
            " 'For Donation ,For Storing Embryos '\n",
            " 'Treatment Now ,For Donation ,For Storing Embryos '\n",
            " 'For Storing Embryos ,For Storing Eggs ,For Research '\n",
            " 'For Storing Embryos ,For Storing Eggs '] unique values\n",
            "\n",
            "Stimulation used has : [0 1] unique values\n",
            "\n",
            "Type of Ovulation Induction has : [nan 'Yes but not recorded' 'Cetrotide '] unique values\n",
            "\n",
            "Egg Donor Age at Registration has : [nan 'Between 21 and 25' 'Between 26 and 30' 'Between 31 and 35' '999'\n",
            " '<= 20'] unique values\n",
            "\n",
            "Sperm Donor Age at Registration has : [nan 'Between 26 and 30' 'Between 21 and 25' 'Between 41 and 45'\n",
            " 'Between 31 and 35' '999' '<= 20' 'Between 36 and 40'] unique values\n",
            "\n",
            "Donated embryo has : [0 1] unique values\n",
            "\n",
            "Patient acting as Surrogate has : [0 1] unique values\n",
            "\n",
            "Type of treatment - IVF or DI has : ['IVF'] unique values\n",
            "\n",
            "Specific treatment type has : ['IVF' 'ICSI' 'Unknown' 'IVF:IVF' 'ICSI:ICSI' 'IVF:Unknown' 'ICSI:Unknown'\n",
            " 'ICSI:IVF' 'ICSI / BLASTOCYST ' 'IVF:ICSI' 'ICSI / AH' 'FER' 'IVF / AH'\n",
            " 'IVF / BLASTOCYST'] unique values\n",
            "\n",
            "PGD has : [0 1] unique values\n",
            "\n",
            "PGD treatment has : [nan  1.] unique values\n",
            "\n",
            "PGS has : [nan  1.] unique values\n",
            "\n",
            "PGS Treatment has : [nan  1.] unique values\n",
            "\n",
            "Elective Single Embryo Transfer has : [1 0] unique values\n",
            "\n",
            "Egg Source has : ['Patient' 'Donor'] unique values\n",
            "\n",
            "Sperm From has : ['Partner' 'Donor' 'not assigned' 'Partner & Donor'] unique values\n",
            "\n",
            "Fresh Cycle has : [0 1] unique values\n",
            "\n",
            "Frozen Cycle has : [1 0] unique values\n",
            "\n",
            "Eggs Thawed has : [ 0  3  6  9  8 12  5 10  7 11  4 13 14 16 18  2 15  1 33 17 21 24 19 26\n",
            " 20 25] unique values\n",
            "\n",
            "Fresh Eggs Collected has : ['0' '4' '12' '6' '1' '31' '8' '11' '34' '10' '3' '2' '14' '7' '15' '30'\n",
            " '17' '16' '5' '13' '21' '33' '9' '22' '19' '37' '24' '23' '27' '18' '40'\n",
            " '20' '26' '38' '25' '46' '32' '29' '> 50' '28' '42' '35' '44' '43' '36'\n",
            " '39' '47' '45' '41' '48' '49'] unique values\n",
            "\n",
            "Fresh Eggs Stored has : [ 0  6  4 34 10 17 13  9  1 12 11  5  7  3 27  8 28  2 14 21 18 15 20 16\n",
            " 30 44 24 19 25 35 23 26 22 33] unique values\n",
            "\n",
            "Total Eggs Mixed has : ['0' '3' '4' '6' '1' '13' '8' '11' '10' '7' '15' '9' '21' '2' '17' '12'\n",
            " '5' '16' '33' '14' '24' '20' '23' '19' '18' '22' '27' '25' '26' '47'\n",
            " '> 50' '28' '36' '29' '38' '34' '30' '32' '37' '31' '43' '42' '35' '46'\n",
            " '45' '41' '48' '39' '40' '49' '44'] unique values\n",
            "\n",
            "Eggs Mixed With Partner Sperm has : ['0' '3' '4' '1' '13' '8' '11' '10' '7' '15' '9' '6' '2' '17' '12' '5'\n",
            " '16' '33' '14' '24' '21' '23' '19' '18' '20' '22' '25' '26' '27' '47'\n",
            " '> 50' '28' '36' '29' '38' '34' '30' '37' '31' '43' '32' '42' '35' '46'\n",
            " '45' '41' '48' '39' '40' '49' '44'] unique values\n",
            "\n",
            "Eggs Mixed With Donor sperm has : ['0' '6' '4' '3' '20' '17' '12' '1' '9' '5' '10' '13' '8' '7' '22' '11'\n",
            " '19' '16' '15' '21' '25' '18' '14' '2' '47' '23' '27' '31' '29' '28' '32'\n",
            " '33' '26' '37' '30' '24' '35' '45' '42' '36' '34' '> 50'] unique values\n",
            "\n",
            "Total Embryos Created has : ['0' '3' '4' '1' '8' '6' '2' '9' '7' '5' '12' '17' '13' '10' '11' '24'\n",
            " '14' '15' '16' '18' '19' '20' '26' '43' '28' '23' '21' '> 50' '22' '27'\n",
            " '25' '30' '31' '32' '33' '34' '29' '37' '35' '36' '39'] unique values\n",
            "\n",
            "Eggs Micro-injected has : ['0' '3' '4' '6' '1' '13' '10' '9' '2' '7' '12' '11' '14' '8' '15' '24'\n",
            " '17' '21' '5' '20' '19' '18' '16' '33' '27' '47' '31' '26' '36' '22' '34'\n",
            " '23' '30' '28' '37' '25' '35' '45' '38' '29' '32' '42' '41' '39' '40'\n",
            " '46' '43' '> 50'] unique values\n",
            "\n",
            "Embryos from Eggs Micro-injected has : [ 0  3  4  1  8  6  9  7  5  2 11 14 15 16 10 12 18 13 17 26 20 27 28 22\n",
            " 23 25 21 19 31 24 30 37 32 29 34 39 36] unique values\n",
            "\n",
            "Total Embryos Thawed has : [ 1  0  2  4  3  5  6 10  8 11  7 15  9 14 16 12 13 21 18 19 17 23 22 26\n",
            " 24] unique values\n",
            "\n",
            "Embryos Transfered has : [1 2 0 3] unique values\n",
            "\n",
            "Embryos Transfered from Eggs Micro-injected has : [0 2 3 1] unique values\n",
            "\n",
            "Embryos Stored For Use By Patient has : [ 0  1  2  5  3  8  4  7 10  6  9 11 14 12 20 15 13 22 16 17 23 18 21 19\n",
            " 28 25 24 30 32 34 31 26] unique values\n",
            "\n",
            "Embryos (from Eggs Micro-injected) Stored For Use By Patient has : [ 0  1  3  2  5  7 10  6  4  9 12 11  8 20 15 13 16 17 23 21 14 28 18 25\n",
            " 24 19 30 34 22] unique values\n",
            "\n",
            "Date of Egg Collection has : [nan  0.] unique values\n",
            "\n",
            "Date of Egg Thawing has : [ nan   0. 999.] unique values\n",
            "\n",
            "Date of Egg Mixing has : [ nan   0.   6.   1.   2. 999.   5.   3.   4.] unique values\n",
            "\n",
            "Date of Embryo Thawing has : [  0.  nan   5. 999.   1.   3.   6.   4.   2.   7.] unique values\n",
            "\n",
            "Date of Embryo Transfer has : [  0.   5.  nan   3.   1.   2.   6. 999.   4.   7.] unique values\n",
            "\n",
            "Year of Treatment has : [2016 2015] unique values\n",
            "\n",
            "Live Birth Occurrence has : [ 1. nan] unique values\n",
            "\n",
            "Number of Live Births has : [1 0 2 3] unique values\n",
            "\n",
            "Early Outcome has : ['Intrauterine Fetal Pulsation Seen ' 'None ' nan\n",
            " 'Biochemical Pregnancy Only ' 'Misscarriage '\n",
            " 'Misscarriage ,Intrauterine Fetal Pulsation Seen ' 'Ectopic '\n",
            " 'None ,Intrauterine Fetal Pulsation Seen ' 'Hetrotopic '\n",
            " 'Hetrotopic ,Intrauterine Fetal Pulsation Seen ' 'None ,Misscarriage '\n",
            " 'None ,Biochemical Pregnancy Only '\n",
            " 'Biochemical Pregnancy Only ,Misscarriage ' 'Molar '\n",
            " 'Biochemical Pregnancy Only ,Intrauterine Fetal Pulsation Seen '\n",
            " 'Ectopic ,Hetrotopic '] unique values\n",
            "\n",
            "Number of foetal sacs with fetal pulsation has : [ 1  0  2  3 40] unique values\n",
            "\n",
            "Heart One Weeks Gestation has : ['39' nan '35' '38' 'Greater than 40 weeks' '40' '37' '36'\n",
            " 'Less than 30 weeks' '31' '30' '34' '32' '33'] unique values\n",
            "\n",
            "Heart One Birth Outcome has : ['Live  Birth' nan 'Miscarriage' 'Still Birth' 'Lost to Follow Up'\n",
            " 'Termination' 'Embryo Reduction' 'Ectotopic/Hetrotopic Pregnancy'] unique values\n",
            "\n",
            "Heart One Birth Weight has : ['Between 3.5kg and 3.99Kg' nan 'Between 2.5kg and 2.99Kg'\n",
            " 'Between 3.0kg and 3.49Kg' 'Between 4.5kg and 4.99Kg'\n",
            " 'Between 2.0kg and 2.49Kg' 'Between 4.0kg and 4.49Kg'\n",
            " 'Between 1.5kg and 1.99Kg' 'Between 1kg and 1.49Kg'\n",
            " 'Between 5.0kg and 5.49Kg' 'Less than 1kg' '6kg or greater'\n",
            " 'Between 5.5kg and 5.99Kg'] unique values\n",
            "\n",
            "Heart OneSex has : ['F' nan 'M'] unique values\n",
            "\n",
            "Heart One Delivery Date has : [ 999.   nan 2016. 2015. 2014. 2013.] unique values\n",
            "\n",
            "Heart One Birth Congenital Abnormalities has : [nan] unique values\n",
            "\n",
            "Heart Two Weeks Gestation has : [nan '37' '38' '36' '35' 'Greater than 40 weeks' 'Less than 30 weeks' '39'\n",
            " '33' '34' '40' '31' '32' '30'] unique values\n",
            "\n",
            "Heart Two Birth Outcome has : [nan 'Live  Birth' 'Miscarriage' 'Still Birth' 'Embryo Reduction'\n",
            " 'Ectotopic/Hetrotopic Pregnancy'] unique values\n",
            "\n",
            "Heart Two Birth Weight has : [nan 'Between 1.5kg and 1.99Kg' 'Between 2.5kg and 2.99Kg'\n",
            " 'Between 2.0kg and 2.49Kg' 'Between 3.0kg and 3.49Kg' 'Less than 1kg'\n",
            " 'Between 3.5kg and 3.99Kg' 'Between 4.0kg and 4.49Kg'\n",
            " 'Between 1kg and 1.49Kg' 'Between 4.5kg and 4.99Kg'\n",
            " 'Between 5.5kg and 5.99Kg' 'Between 5.0kg and 5.49Kg' '6kg or greater'] unique values\n",
            "\n",
            "Heart Two Sex has : [nan 'F' 'M'] unique values\n",
            "\n",
            "Heart Two Delivery Date has : [  nan  999. 2016. 2015.] unique values\n",
            "\n",
            "Heart Two Birth Congenital Abnormalities has : [nan] unique values\n",
            "\n",
            "Heart Three Weeks Gestation has : [nan 'Less than 30 weeks' '31' '32' '34' '36' '38' '37' '33' '40' '30'\n",
            " '35'] unique values\n",
            "\n",
            "Heart Three Birth Outcome has : [nan 'Live  Birth' 'Miscarriage' 'Embryo Reduction' 'Still Birth'] unique values\n",
            "\n",
            "Heart Three Birth Weight has : [nan 'Between 1kg and 1.49Kg' 'Between 2.0kg and 2.49Kg'\n",
            " 'Between 1.5kg and 1.99Kg' 'Between 3.5kg and 3.99Kg'\n",
            " 'Between 3.0kg and 3.49Kg' 'Less than 1kg' 'Between 2.5kg and 2.99Kg'] unique values\n",
            "\n",
            "Heart Three Sex has : [nan 'M' 'F'] unique values\n",
            "\n",
            "Heart Three Delivery Date has : [  nan  999. 2016. 2015.] unique values\n",
            "\n",
            "Heart Three Birth Congenital Abnormalities has : [nan] unique values\n",
            "\n",
            "Heart Four Weeks Gestation has : [nan] unique values\n",
            "\n",
            "Heart Four Birth Outcome has : [nan] unique values\n",
            "\n",
            "Heart Four Birth Weight has : [nan] unique values\n",
            "\n",
            "Heart Four Sex has : [nan] unique values\n",
            "\n",
            "Heart Four Delivery Date has : [nan] unique values\n",
            "\n",
            "Heart Four Birth Congenital Abnormalities has : [nan] unique values\n",
            "\n"
          ]
        }
      ],
      "source": [
        "for col in data:\n",
        "    print(f\"{col} has : {data[col].unique()} unique values\\n\")"
      ]
    },
    {
      "cell_type": "code",
      "execution_count": null,
      "metadata": {
        "id": "bfskz115hvot"
      },
      "outputs": [],
      "source": [
        "selected_features = [\n",
        "    \"Patient Age at Treatment\",\n",
        "    \"Total Number of Previous IVF cycles\",\n",
        "    \"Total number of IVF pregnancies\",\n",
        "    \"Total number of live births - conceived through IVF\",\n",
        "    \"Type of Infertility - Female Primary\",\n",
        "    \"Type of Infertility - Female Secondary\",\n",
        "    \"Type of Infertility - Male Primary\",\n",
        "    \"Type of Infertility - Male Secondary\",\n",
        "    \"Type of Infertility -Couple Primary\",\n",
        "    \"Type of Infertility -Couple Secondary\",\n",
        "    \"Cause  of Infertility - Tubal disease\",\n",
        "    \"Cause of Infertility - Ovulatory Disorder\",\n",
        "    \"Cause of Infertility - Male Factor\",\n",
        "    \"Cause of Infertility - Patient Unexplained\",\n",
        "    \"Cause of Infertility - Endometriosis\",\n",
        "    \"Cause of Infertility - Cervical factors\",\n",
        "    \"Cause of Infertility - Female Factors\",\n",
        "    \"Cause of Infertility - Partner Sperm Concentration\",\n",
        "    \"Cause of Infertility -  Partner Sperm Morphology\",\n",
        "    \"Causes of Infertility - Partner Sperm Motility\",\n",
        "    \"Cause of Infertility -  Partner Sperm Immunological factors\",\n",
        "    \"Stimulation used\",\n",
        "    \"Egg Source\",\n",
        "    \"Sperm From\",\n",
        "    \"Fresh Cycle\",\n",
        "    \"Frozen Cycle\",\n",
        "    \"Eggs Thawed\",\n",
        "    \"Fresh Eggs Collected\",\n",
        "    \"Eggs Mixed With Partner Sperm\",\n",
        "    \"Embryos Transfered\",\n",
        "    \"Number of Live Births\"\n",
        "]\n",
        "\n",
        "# Keep only the selected features\n",
        "df_selected = data[selected_features]\n",
        "\n"
      ]
    },
    {
      "cell_type": "code",
      "execution_count": null,
      "metadata": {
        "colab": {
          "base_uri": "https://localhost:8080/"
        },
        "id": "hosUEMmhr7yJ",
        "outputId": "4d33d9cf-edc9-4130-ca0b-8e96b02656d5"
      },
      "outputs": [
        {
          "output_type": "stream",
          "name": "stdout",
          "text": [
            "0        1\n",
            "1        0\n",
            "2        0\n",
            "3        0\n",
            "4        0\n",
            "        ..\n",
            "65530    1\n",
            "65531    0\n",
            "65532    1\n",
            "65533    1\n",
            "65534    0\n",
            "Name: Number of Live Births, Length: 65535, dtype: int64\n"
          ]
        }
      ],
      "source": [
        "# Keep only the selected features\n",
        "df_selected = data[selected_features]\n",
        "\n",
        "\n",
        "\n",
        "\n",
        "def convert_to_binary_classification(df):\n",
        "    # Copy the original DataFrame\n",
        "    df_selected = df.copy()\n",
        "\n",
        "\n",
        "    # Set values greater than 1 to 1, and the rest to 0\n",
        "    df_selected[\"Number of Live Births\"] = df_selected[\"Number of Live Births\"].apply(lambda x: 1 if x >= 1 else 0)\n",
        "\n",
        "\n",
        "    return df_selected\n",
        "\n",
        "\n",
        "# Assume `df` is your original DataFrame\n",
        "\n",
        "\n",
        "# Convert the \"Live-birth Occurrence\" column to binary classification\n",
        "df_selected = convert_to_binary_classification(df_selected)\n",
        "\n",
        "\n",
        "# Display the result\n",
        "print(df_selected[\"Number of Live Births\"])\n",
        "\n",
        "\n",
        "\n"
      ]
    },
    {
      "cell_type": "code",
      "execution_count": null,
      "metadata": {
        "colab": {
          "base_uri": "https://localhost:8080/"
        },
        "id": "oWZ6-F0Zir-a",
        "outputId": "0eb2d80a-38e2-494b-b928-9404b2362fc9"
      },
      "outputs": [
        {
          "output_type": "stream",
          "name": "stdout",
          "text": [
            "Patient Age at Treatment has : ['40-42' '45-50' '35-37' '18 - 34' '43-44' '38-39' '999'] unique values\n",
            "\n",
            "Total Number of Previous IVF cycles has : ['2' '3' '0' '5' '4' '1' '>=5'] unique values\n",
            "\n",
            "Total number of IVF pregnancies has : ['0' '1' '2' '4' '3' '5' '>=5'] unique values\n",
            "\n",
            "Total number of live births - conceived through IVF has : [0 1 2 3 5 4] unique values\n",
            "\n",
            "Type of Infertility - Female Primary has : [0 1] unique values\n",
            "\n",
            "Type of Infertility - Female Secondary has : [0 1] unique values\n",
            "\n",
            "Type of Infertility - Male Primary has : [0 1] unique values\n",
            "\n",
            "Type of Infertility - Male Secondary has : [0 1] unique values\n",
            "\n",
            "Type of Infertility -Couple Primary has : [0 1] unique values\n",
            "\n",
            "Type of Infertility -Couple Secondary has : [0 1] unique values\n",
            "\n",
            "Cause  of Infertility - Tubal disease has : [0 1] unique values\n",
            "\n",
            "Cause of Infertility - Ovulatory Disorder has : [0 1] unique values\n",
            "\n",
            "Cause of Infertility - Male Factor has : [0 1] unique values\n",
            "\n",
            "Cause of Infertility - Patient Unexplained has : [1 0] unique values\n",
            "\n",
            "Cause of Infertility - Endometriosis has : [0 1] unique values\n",
            "\n",
            "Cause of Infertility - Cervical factors has : [0 1] unique values\n",
            "\n",
            "Cause of Infertility - Female Factors has : [0] unique values\n",
            "\n",
            "Cause of Infertility - Partner Sperm Concentration has : [0 1] unique values\n",
            "\n",
            "Cause of Infertility -  Partner Sperm Morphology has : [0 1] unique values\n",
            "\n",
            "Causes of Infertility - Partner Sperm Motility has : [0 1] unique values\n",
            "\n",
            "Cause of Infertility -  Partner Sperm Immunological factors has : [0] unique values\n",
            "\n",
            "Stimulation used has : [0 1] unique values\n",
            "\n",
            "Egg Source has : ['Patient' 'Donor'] unique values\n",
            "\n",
            "Sperm From has : ['Partner' 'Donor' 'not assigned' 'Partner & Donor'] unique values\n",
            "\n",
            "Fresh Cycle has : [0 1] unique values\n",
            "\n",
            "Frozen Cycle has : [1 0] unique values\n",
            "\n",
            "Eggs Thawed has : [ 0  3  6  9  8 12  5 10  7 11  4 13 14 16 18  2 15  1 33 17 21 24 19 26\n",
            " 20 25] unique values\n",
            "\n",
            "Fresh Eggs Collected has : ['0' '4' '12' '6' '1' '31' '8' '11' '34' '10' '3' '2' '14' '7' '15' '30'\n",
            " '17' '16' '5' '13' '21' '33' '9' '22' '19' '37' '24' '23' '27' '18' '40'\n",
            " '20' '26' '38' '25' '46' '32' '29' '> 50' '28' '42' '35' '44' '43' '36'\n",
            " '39' '47' '45' '41' '48' '49'] unique values\n",
            "\n",
            "Eggs Mixed With Partner Sperm has : ['0' '3' '4' '1' '13' '8' '11' '10' '7' '15' '9' '6' '2' '17' '12' '5'\n",
            " '16' '33' '14' '24' '21' '23' '19' '18' '20' '22' '25' '26' '27' '47'\n",
            " '> 50' '28' '36' '29' '38' '34' '30' '37' '31' '43' '32' '42' '35' '46'\n",
            " '45' '41' '48' '39' '40' '49' '44'] unique values\n",
            "\n",
            "Embryos Transfered has : [1 2 0 3] unique values\n",
            "\n",
            "Number of Live Births has : [1 0] unique values\n",
            "\n"
          ]
        }
      ],
      "source": [
        "for col in df_selected:\n",
        "    print(f\"{col} has : {df_selected[col].unique()} unique values\\n\")"
      ]
    },
    {
      "cell_type": "code",
      "execution_count": null,
      "metadata": {
        "colab": {
          "base_uri": "https://localhost:8080/",
          "height": 465
        },
        "id": "ctNajfcyno7U",
        "outputId": "825725f5-6c28-4809-9342-cbdd76a0671c"
      },
      "outputs": [
        {
          "output_type": "display_data",
          "data": {
            "text/plain": [
              "<Figure size 500x500 with 1 Axes>"
            ],
            "image/png": "[encoded data removed]"
          },
          "metadata": {}
        }
      ],
      "source": [
        "plt.figure(figsize=(5, 5))\n",
        "ax = sns.countplot(x = df_selected[\"Number of Live Births\"], palette=\"GnBu\")\n",
        "for p in ax.patches:\n",
        "    ax.annotate('{:.1f}'.format(p.get_height()), (p.get_x()+0.25, p.get_height()+0.01))\n",
        "plt.show()"
      ]
    },
    {
      "cell_type": "code",
      "execution_count": null,
      "metadata": {
        "colab": {
          "base_uri": "https://localhost:8080/"
        },
        "id": "YgnYOqr3oDN5",
        "outputId": "c86c4af8-b1d7-417b-fdfc-d7808f9a4ad9"
      },
      "outputs": [
        {
          "output_type": "stream",
          "name": "stdout",
          "text": [
            "No Live birth occurrence 75.19 % of the dataset\n",
            "Live birth occurrence 24.81 % of the dataset\n"
          ]
        }
      ],
      "source": [
        "# The classes are heavily skewed we need to solve this issue later.\n",
        "print('No Live birth occurrence', round(df_selected[\"Number of Live Births\"].value_counts()[0]/len(data) * 100,2), '% of the dataset')\n",
        "print('Live birth occurrence', round(df_selected[\"Number of Live Births\"].value_counts()[1]/len(data) * 100,2), '% of the dataset')"
      ]
    },
    {
      "cell_type": "code",
      "execution_count": null,
      "metadata": {
        "id": "fgWR3ciXtI_r"
      },
      "outputs": [],
      "source": [
        "df_selected.rename(columns={\"Number of Live Births\": \"Live birth occurrence\"}, inplace=True)\n"
      ]
    },
    {
      "cell_type": "code",
      "execution_count": null,
      "metadata": {
        "id": "jF4_KM4FizTA"
      },
      "outputs": [],
      "source": [
        "# Delete rows with Patient Age at Treatment = 999\n",
        "df = df_selected[df_selected[\"Patient Age at Treatment\"] != '999']\n"
      ]
    },
    {
      "cell_type": "code",
      "execution_count": null,
      "metadata": {
        "id": "8I9tcgpqjCF3"
      },
      "outputs": [],
      "source": [
        "def convert_age_range(age_range):\n",
        "    if age_range == \"18 - 34\":\n",
        "        return 0\n",
        "    elif age_range ==  \"35-37\":\n",
        "        return 1\n",
        "    elif age_range == \"38-39\":\n",
        "        return 2\n",
        "    elif age_range == \"40-42\":\n",
        "        return 3\n",
        "    elif age_range ==  \"43-44\":\n",
        "        return 4\n",
        "    elif age_range ==  \"45-50\":\n",
        "        return 5\n",
        "    else:\n",
        "        return None\n"
      ]
    },
    {
      "cell_type": "code",
      "execution_count": null,
      "metadata": {
        "id": "kZwJKHwGjV4t"
      },
      "outputs": [],
      "source": [
        "# Assume `df` is your DataFrame with the \"Age Range\" column\n",
        "\n",
        "# Apply the conversion function to the \"Age Range\" column\n",
        "df[\"Patient Age at Treatment\"] = df[\"Patient Age at Treatment\"].apply(convert_age_range).astype('Int64')\n",
        "\n"
      ]
    },
    {
      "cell_type": "code",
      "execution_count": null,
      "metadata": {
        "colab": {
          "base_uri": "https://localhost:8080/"
        },
        "id": "_jSVsvBzxNK5",
        "outputId": "7ac6f508-673b-48e1-e244-8179756e9f6d"
      },
      "outputs": [
        {
          "output_type": "stream",
          "name": "stdout",
          "text": [
            "Patient Age at Treatment has : <IntegerArray>\n",
            "[3, 5, 1, 0, 4, 2]\n",
            "Length: 6, dtype: Int64 unique values\n",
            "\n",
            "Total Number of Previous IVF cycles has : ['2' '3' '0' '5' '4' '1' '>=5'] unique values\n",
            "\n",
            "Total number of IVF pregnancies has : ['0' '1' '2' '4' '3' '5' '>=5'] unique values\n",
            "\n",
            "Total number of live births - conceived through IVF has : [0 1 2 3 5 4] unique values\n",
            "\n",
            "Type of Infertility - Female Primary has : [0 1] unique values\n",
            "\n",
            "Type of Infertility - Female Secondary has : [0 1] unique values\n",
            "\n",
            "Type of Infertility - Male Primary has : [0 1] unique values\n",
            "\n",
            "Type of Infertility - Male Secondary has : [0 1] unique values\n",
            "\n",
            "Type of Infertility -Couple Primary has : [0 1] unique values\n",
            "\n",
            "Type of Infertility -Couple Secondary has : [0 1] unique values\n",
            "\n",
            "Cause  of Infertility - Tubal disease has : [0 1] unique values\n",
            "\n",
            "Cause of Infertility - Ovulatory Disorder has : [0 1] unique values\n",
            "\n",
            "Cause of Infertility - Male Factor has : [0 1] unique values\n",
            "\n",
            "Cause of Infertility - Patient Unexplained has : [1 0] unique values\n",
            "\n",
            "Cause of Infertility - Endometriosis has : [0 1] unique values\n",
            "\n",
            "Cause of Infertility - Cervical factors has : [0 1] unique values\n",
            "\n",
            "Cause of Infertility - Female Factors has : [0] unique values\n",
            "\n",
            "Cause of Infertility - Partner Sperm Concentration has : [0 1] unique values\n",
            "\n",
            "Cause of Infertility -  Partner Sperm Morphology has : [0 1] unique values\n",
            "\n",
            "Causes of Infertility - Partner Sperm Motility has : [0 1] unique values\n",
            "\n",
            "Cause of Infertility -  Partner Sperm Immunological factors has : [0] unique values\n",
            "\n",
            "Stimulation used has : [0 1] unique values\n",
            "\n",
            "Egg Source has : ['Patient' 'Donor'] unique values\n",
            "\n",
            "Sperm From has : ['Partner' 'Donor' 'not assigned' 'Partner & Donor'] unique values\n",
            "\n",
            "Fresh Cycle has : [0 1] unique values\n",
            "\n",
            "Frozen Cycle has : [1 0] unique values\n",
            "\n",
            "Eggs Thawed has : [ 0  3  6  9  8 12  5 10  7 11  4 13 14 16 18  2 15  1 33 17 21 24 19 26\n",
            " 20 25] unique values\n",
            "\n",
            "Fresh Eggs Collected has : ['0' '4' '12' '6' '1' '31' '8' '11' '34' '10' '3' '2' '14' '7' '15' '30'\n",
            " '17' '16' '5' '13' '21' '33' '9' '22' '19' '37' '24' '23' '27' '18' '20'\n",
            " '26' '38' '25' '46' '29' '> 50' '40' '28' '42' '35' '36' '32' '39' '47'\n",
            " '43' '41' '48' '49' '44' '45'] unique values\n",
            "\n",
            "Eggs Mixed With Partner Sperm has : ['0' '3' '4' '1' '13' '8' '11' '10' '7' '15' '9' '6' '2' '17' '12' '5'\n",
            " '16' '33' '14' '24' '21' '23' '19' '18' '20' '22' '25' '26' '27' '47'\n",
            " '> 50' '28' '36' '29' '38' '34' '30' '37' '31' '43' '32' '42' '35' '46'\n",
            " '45' '41' '48' '39' '40' '49' '44'] unique values\n",
            "\n",
            "Embryos Transfered has : [1 2 0 3] unique values\n",
            "\n",
            "Live birth occurrence has : [1 0] unique values\n",
            "\n"
          ]
        }
      ],
      "source": [
        "for col in df:\n",
        "    print(f\"{col} has : {df[col].unique()} unique values\\n\")"
      ]
    },
    {
      "cell_type": "code",
      "execution_count": null,
      "metadata": {
        "colab": {
          "base_uri": "https://localhost:8080/"
        },
        "id": "rBO6Yx5rl_bz",
        "outputId": "612f028c-5f79-41a7-eebe-e17d5605d31d"
      },
      "outputs": [
        {
          "output_type": "execute_result",
          "data": {
            "text/plain": [
              "Patient Age at Treatment                                       0\n",
              "Total Number of Previous IVF cycles                            0\n",
              "Total number of IVF pregnancies                                0\n",
              "Total number of live births - conceived through IVF            0\n",
              "Type of Infertility - Female Primary                           0\n",
              "Type of Infertility - Female Secondary                         0\n",
              "Type of Infertility - Male Primary                             0\n",
              "Type of Infertility - Male Secondary                           0\n",
              "Type of Infertility -Couple Primary                            0\n",
              "Type of Infertility -Couple Secondary                          0\n",
              "Cause  of Infertility - Tubal disease                          0\n",
              "Cause of Infertility - Ovulatory Disorder                      0\n",
              "Cause of Infertility - Male Factor                             0\n",
              "Cause of Infertility - Patient Unexplained                     0\n",
              "Cause of Infertility - Endometriosis                           0\n",
              "Cause of Infertility - Cervical factors                        0\n",
              "Cause of Infertility - Female Factors                          0\n",
              "Cause of Infertility - Partner Sperm Concentration             0\n",
              "Cause of Infertility -  Partner Sperm Morphology               0\n",
              "Causes of Infertility - Partner Sperm Motility                 0\n",
              "Cause of Infertility -  Partner Sperm Immunological factors    0\n",
              "Stimulation used                                               0\n",
              "Egg Source                                                     0\n",
              "Sperm From                                                     0\n",
              "Fresh Cycle                                                    0\n",
              "Frozen Cycle                                                   0\n",
              "Eggs Thawed                                                    0\n",
              "Fresh Eggs Collected                                           0\n",
              "Eggs Mixed With Partner Sperm                                  0\n",
              "Embryos Transfered                                             0\n",
              "Live birth occurrence                                          0\n",
              "dtype: int64"
            ]
          },
          "metadata": {},
          "execution_count": 136
        }
      ],
      "source": [
        "df.isnull().sum()\n"
      ]
    },
    {
      "cell_type": "code",
      "execution_count": null,
      "metadata": {
        "id": "E6WzqOQqvdAf"
      },
      "outputs": [],
      "source": [
        "# Drop rows with NaN values\n",
        "#df.dropna(inplace=True)\n",
        "\n",
        "\n"
      ]
    },
    {
      "cell_type": "code",
      "execution_count": null,
      "metadata": {
        "id": "UdaPT9TkfnlG"
      },
      "outputs": [],
      "source": [
        "#X = df.loc[:, df.columns != 'Live birth occurrence']\n",
        "#X = X.apply(pd.to_numeric, errors='coerce')\n",
        "#df1=X.fillna(X.median())\n"
      ]
    },
    {
      "cell_type": "code",
      "execution_count": null,
      "metadata": {
        "id": "LoN1RDWJkQ0T"
      },
      "outputs": [],
      "source": [
        "#Y = df['Live birth occurrence']"
      ]
    },
    {
      "cell_type": "code",
      "execution_count": null,
      "metadata": {
        "id": "ripEQKqBkDzM"
      },
      "outputs": [],
      "source": [
        "#df=pd.concat([df1, Y], axis=1, join='inner')\n"
      ]
    },
    {
      "cell_type": "code",
      "execution_count": null,
      "metadata": {
        "id": "iiiwLjzhXqIG"
      },
      "outputs": [],
      "source": [
        "df.loc[df['Total Number of Previous IVF cycles'] == '>=5', 'Total Number of Previous IVF cycles'] = 6\n",
        "df['Total Number of Previous IVF cycles'] = df['Total Number of Previous IVF cycles'].astype(int)\n"
      ]
    },
    {
      "cell_type": "code",
      "execution_count": null,
      "metadata": {
        "id": "dJJNm860aFxt"
      },
      "outputs": [],
      "source": [
        "df.loc[df['Fresh Eggs Collected'] == '> 50', 'Fresh Eggs Collected'] = 60\n",
        "df['Fresh Eggs Collected'] = df['Fresh Eggs Collected'].astype(int)"
      ]
    },
    {
      "cell_type": "code",
      "execution_count": null,
      "metadata": {
        "id": "NcoayLc_afws"
      },
      "outputs": [],
      "source": [
        "df.loc[df['Eggs Mixed With Partner Sperm'] == '> 50', 'Eggs Mixed With Partner Sperm'] = 60\n",
        "df['Eggs Mixed With Partner Sperm'] = df['Eggs Mixed With Partner Sperm'].astype(int)"
      ]
    },
    {
      "cell_type": "code",
      "execution_count": null,
      "metadata": {
        "id": "dOg-nWebmZ2S"
      },
      "outputs": [],
      "source": [
        "df.loc[df['Total number of IVF pregnancies'] == '>=5', 'Total number of IVF pregnancies'] = 6\n",
        "df['Total number of IVF pregnancies'] = df['Total number of IVF pregnancies'].astype(int)\n"
      ]
    },
    {
      "cell_type": "code",
      "execution_count": null,
      "metadata": {
        "id": "rThnDoiGYkx-"
      },
      "outputs": [],
      "source": [
        "df=df.drop(['Egg Source','Sperm From','Cause of Infertility -  Partner Sperm Immunological factors','Stimulation used'], axis=1)"
      ]
    },
    {
      "cell_type": "code",
      "execution_count": null,
      "metadata": {
        "id": "xlklWAQVlmim"
      },
      "outputs": [],
      "source": [
        "df=df.drop(['Cause of Infertility - Female Factors'], axis=1)"
      ]
    },
    {
      "cell_type": "code",
      "execution_count": null,
      "metadata": {
        "colab": {
          "base_uri": "https://localhost:8080/"
        },
        "id": "jBQhgQ3evnnP",
        "outputId": "d6159f5a-bda3-4b07-97bd-a74c30d2fe07"
      },
      "outputs": [
        {
          "output_type": "stream",
          "name": "stdout",
          "text": [
            "<class 'pandas.core.frame.DataFrame'>\n",
            "Int64Index: 64442 entries, 0 to 65534\n",
            "Data columns (total 26 columns):\n",
            " #   Column                                               Non-Null Count  Dtype\n",
            "---  ------                                               --------------  -----\n",
            " 0   Patient Age at Treatment                             64442 non-null  Int64\n",
            " 1   Total Number of Previous IVF cycles                  64442 non-null  int64\n",
            " 2   Total number of IVF pregnancies                      64442 non-null  int64\n",
            " 3   Total number of live births - conceived through IVF  64442 non-null  int64\n",
            " 4   Type of Infertility - Female Primary                 64442 non-null  int64\n",
            " 5   Type of Infertility - Female Secondary               64442 non-null  int64\n",
            " 6   Type of Infertility - Male Primary                   64442 non-null  int64\n",
            " 7   Type of Infertility - Male Secondary                 64442 non-null  int64\n",
            " 8   Type of Infertility -Couple Primary                  64442 non-null  int64\n",
            " 9   Type of Infertility -Couple Secondary                64442 non-null  int64\n",
            " 10  Cause  of Infertility - Tubal disease                64442 non-null  int64\n",
            " 11  Cause of Infertility - Ovulatory Disorder            64442 non-null  int64\n",
            " 12  Cause of Infertility - Male Factor                   64442 non-null  int64\n",
            " 13  Cause of Infertility - Patient Unexplained           64442 non-null  int64\n",
            " 14  Cause of Infertility - Endometriosis                 64442 non-null  int64\n",
            " 15  Cause of Infertility - Cervical factors              64442 non-null  int64\n",
            " 16  Cause of Infertility - Partner Sperm Concentration   64442 non-null  int64\n",
            " 17  Cause of Infertility -  Partner Sperm Morphology     64442 non-null  int64\n",
            " 18  Causes of Infertility - Partner Sperm Motility       64442 non-null  int64\n",
            " 19  Fresh Cycle                                          64442 non-null  int64\n",
            " 20  Frozen Cycle                                         64442 non-null  int64\n",
            " 21  Eggs Thawed                                          64442 non-null  int64\n",
            " 22  Fresh Eggs Collected                                 64442 non-null  int64\n",
            " 23  Eggs Mixed With Partner Sperm                        64442 non-null  int64\n",
            " 24  Embryos Transfered                                   64442 non-null  int64\n",
            " 25  Live birth occurrence                                64442 non-null  int64\n",
            "dtypes: Int64(1), int64(25)\n",
            "memory usage: 13.3 MB\n"
          ]
        }
      ],
      "source": [
        "df.info()"
      ]
    },
    {
      "cell_type": "code",
      "execution_count": null,
      "metadata": {
        "id": "pC-_-wIN1Rql"
      },
      "outputs": [],
      "source": [
        "shape = df.shape\n"
      ]
    },
    {
      "cell_type": "code",
      "execution_count": null,
      "metadata": {
        "colab": {
          "base_uri": "https://localhost:8080/"
        },
        "id": "bYdHyuSq1fel",
        "outputId": "b2b4dcd5-ea00-42e1-9844-fda65fc7f8fc"
      },
      "outputs": [
        {
          "output_type": "execute_result",
          "data": {
            "text/plain": [
              "(64442, 26)"
            ]
          },
          "metadata": {},
          "execution_count": 52
        }
      ],
      "source": [
        "shape"
      ]
    },
    {
      "cell_type": "code",
      "execution_count": null,
      "metadata": {
        "colab": {
          "base_uri": "https://localhost:8080/",
          "height": 466
        },
        "id": "gQnxs9vimm9D",
        "outputId": "05d11d86-2b50-4e2b-d299-4aeb8c29f834"
      },
      "outputs": [
        {
          "output_type": "display_data",
          "data": {
            "text/plain": [
              "<Figure size 500x500 with 1 Axes>"
            ],
            "image/png": "[encoded data removed]"
          },
          "metadata": {}
        }
      ],
      "source": [
        "plt.figure(figsize=(5, 5))\n",
        "ax = sns.countplot(x = df[\"Live birth occurrence\"], palette=\"GnBu\")\n",
        "for p in ax.patches:\n",
        "    ax.annotate('{:.1f}'.format(p.get_height()), (p.get_x()+0.25, p.get_height()+0.01))\n",
        "plt.show()"
      ]
    },
    {
      "cell_type": "markdown",
      "metadata": {
        "id": "LMpSjUImJZoq"
      },
      "source": [
        "#Scale Data"
      ]
    },
    {
      "cell_type": "code",
      "source": [
        "from sklearn.utils import resample\n",
        "\n",
        "# Separate the majority and minority classes\n",
        "df_majority = df[df['Live birth occurrence'] == 0]\n",
        "df_minority = df[df['Live birth occurrence'] == 1]\n",
        "\n",
        "# Downsample the majority class\n",
        "df_majority_downsampled = resample(df_majority,\n",
        "                                   replace=False,  # Set to False for undersampling\n",
        "                                   n_samples=16257,  # Specify the desired number of samples\n",
        "                                   random_state=42)  # Set a random state for reproducibility\n",
        "\n",
        "# Combine the downsampled majority class with the minority class\n",
        "df_downsampled = pd.concat([df_majority_downsampled, df_minority])\n",
        "\n",
        "# Shuffle the DataFrame if needed\n",
        "df_downsampled = df_downsampled.sample(frac=1, random_state=42).reset_index(drop=True)\n"
      ],
      "metadata": {
        "id": "mFHS3FAv24Ap"
      },
      "execution_count": null,
      "outputs": []
    },
    {
      "cell_type": "code",
      "source": [
        "plt.figure(figsize=(5, 5))\n",
        "ax = sns.countplot(x = df_downsampled[\"Live birth occurrence\"], palette=\"GnBu\")\n",
        "for p in ax.patches:\n",
        "    ax.annotate('{:.1f}'.format(p.get_height()), (p.get_x()+0.25, p.get_height()+0.01))\n",
        "plt.show()"
      ],
      "metadata": {
        "colab": {
          "base_uri": "https://localhost:8080/",
          "height": 465
        },
        "id": "eUAEs6Sl3AEJ",
        "outputId": "0cf37e60-d8e2-495f-ea50-c71349740763"
      },
      "execution_count": null,
      "outputs": [
        {
          "output_type": "display_data",
          "data": {
            "text/plain": [
              "<Figure size 500x500 with 1 Axes>"
            ],
            "image/png": "[encoded data removed]"
          },
          "metadata": {}
        }
      ]
    },
    {
      "cell_type": "code",
      "execution_count": null,
      "metadata": {
        "id": "Qs74JZmSv7u4"
      },
      "outputs": [],
      "source": [
        "X = df_downsampled.drop(['Live birth occurrence'], axis=1)\n"
      ]
    },
    {
      "cell_type": "code",
      "execution_count": null,
      "metadata": {
        "id": "xrp7c_sWv-gU"
      },
      "outputs": [],
      "source": [
        "Y = df_downsampled['Live birth occurrence']\n"
      ]
    },
    {
      "cell_type": "code",
      "execution_count": null,
      "metadata": {
        "id": "Q0d3Z0cSTtsO"
      },
      "outputs": [],
      "source": [
        "from sklearn.preprocessing import StandardScaler\n",
        "\n",
        "# Select the columns from the DataFrame\n",
        "cols = X.columns\n",
        "\n",
        "# Initialize the scaler\n",
        "scaler = StandardScaler()\n",
        "\n",
        "# Scale the features\n",
        "scaled_features = scaler.fit_transform(X)\n",
        "\n",
        "# Create new DataFrames for scaled features\n",
        "X = pd.DataFrame(scaled_features, columns=cols)\n"
      ]
    },
    {
      "cell_type": "code",
      "source": [
        "X.shape"
      ],
      "metadata": {
        "colab": {
          "base_uri": "https://localhost:8080/"
        },
        "id": "AkMCkIieOF0s",
        "outputId": "d870084b-4350-4c8b-f9b5-e2284cf10d04"
      },
      "execution_count": null,
      "outputs": [
        {
          "output_type": "execute_result",
          "data": {
            "text/plain": [
              "(32514, 25)"
            ]
          },
          "metadata": {},
          "execution_count": 33
        }
      ]
    },
    {
      "cell_type": "code",
      "source": [
        "Y.shape"
      ],
      "metadata": {
        "id": "fjorJSvTOJhE",
        "outputId": "9fde7da3-5cd9-44f1-c96c-144145e46ceb",
        "colab": {
          "base_uri": "https://localhost:8080/"
        }
      },
      "execution_count": null,
      "outputs": [
        {
          "output_type": "execute_result",
          "data": {
            "text/plain": [
              "(32514,)"
            ]
          },
          "metadata": {},
          "execution_count": 34
        }
      ]
    },
    {
      "cell_type": "code",
      "execution_count": null,
      "metadata": {
        "id": "qNTBPb87UUg9"
      },
      "outputs": [],
      "source": [
        "new_df=pd.concat([X, Y], axis=1, join='inner')\n"
      ]
    },
    {
      "cell_type": "markdown",
      "metadata": {
        "id": "qTH3qD53I1KJ"
      },
      "source": [
        "#Split Data into test and train"
      ]
    },
    {
      "cell_type": "code",
      "source": [
        "# split the dataset\n",
        "SEED=23\n",
        "X_train, X_test, Y_train, Y_test = train_test_split(X, Y, test_size=0.3,shuffle=True, stratify=Y, random_state=SEED)\n",
        "#With random_state=0 , we get the same train and test sets across different executions\n"
      ],
      "metadata": {
        "id": "aKfTc1923LbL"
      },
      "execution_count": null,
      "outputs": []
    },
    {
      "cell_type": "markdown",
      "metadata": {
        "id": "ct1jQR7BMejf"
      },
      "source": [
        "#Modeling"
      ]
    },
    {
      "cell_type": "code",
      "source": [
        "from keras.models import Sequential\n",
        "from keras.layers import Dense\n",
        "# Step 3: Design the deep learning model\n",
        "model = Sequential()\n",
        "model.add(Dense(64, activation='relu', input_dim=X_train.shape[1]))\n",
        "model.add(Dense(64, activation='relu'))\n",
        "model.add(Dense(1, activation='sigmoid'))\n"
      ],
      "metadata": {
        "id": "wXZfo0AQWivU"
      },
      "execution_count": null,
      "outputs": []
    },
    {
      "cell_type": "code",
      "source": [
        "model.compile(loss='binary_crossentropy', optimizer='adam', metrics=['accuracy'])\n"
      ],
      "metadata": {
        "id": "vxwPMHz_WrkF"
      },
      "execution_count": null,
      "outputs": []
    },
    {
      "cell_type": "code",
      "source": [
        "model.fit(X_train, Y_train, epochs=10, batch_size=32, validation_data=(X_test, Y_test))\n"
      ],
      "metadata": {
        "colab": {
          "base_uri": "https://localhost:8080/"
        },
        "id": "Zj0aMesaW0ad",
        "outputId": "e4debc3d-7b10-4c6d-d736-3b3897ff17d4"
      },
      "execution_count": null,
      "outputs": [
        {
          "output_type": "stream",
          "name": "stdout",
          "text": [
            "Epoch 1/10\n",
            "712/712 [==============================] - 2s 2ms/step - loss: 0.5998 - accuracy: 0.6500 - val_loss: 0.5797 - val_accuracy: 0.6613\n",
            "Epoch 2/10\n",
            "712/712 [==============================] - 1s 1ms/step - loss: 0.5747 - accuracy: 0.6660 - val_loss: 0.5732 - val_accuracy: 0.6655\n",
            "Epoch 3/10\n",
            "712/712 [==============================] - 1s 1ms/step - loss: 0.5716 - accuracy: 0.6705 - val_loss: 0.5726 - val_accuracy: 0.6662\n",
            "Epoch 4/10\n",
            "712/712 [==============================] - 1s 2ms/step - loss: 0.5695 - accuracy: 0.6705 - val_loss: 0.5707 - val_accuracy: 0.6655\n",
            "Epoch 5/10\n",
            "712/712 [==============================] - 2s 3ms/step - loss: 0.5681 - accuracy: 0.6713 - val_loss: 0.5730 - val_accuracy: 0.6685\n",
            "Epoch 6/10\n",
            "712/712 [==============================] - 3s 4ms/step - loss: 0.5673 - accuracy: 0.6741 - val_loss: 0.5713 - val_accuracy: 0.6665\n",
            "Epoch 7/10\n",
            "712/712 [==============================] - 1s 2ms/step - loss: 0.5666 - accuracy: 0.6735 - val_loss: 0.5707 - val_accuracy: 0.6651\n",
            "Epoch 8/10\n",
            "712/712 [==============================] - 2s 2ms/step - loss: 0.5649 - accuracy: 0.6764 - val_loss: 0.5730 - val_accuracy: 0.6637\n",
            "Epoch 9/10\n",
            "712/712 [==============================] - 1s 2ms/step - loss: 0.5646 - accuracy: 0.6752 - val_loss: 0.5704 - val_accuracy: 0.6704\n",
            "Epoch 10/10\n",
            "712/712 [==============================] - 2s 2ms/step - loss: 0.5636 - accuracy: 0.6756 - val_loss: 0.5768 - val_accuracy: 0.6639\n"
          ]
        },
        {
          "output_type": "execute_result",
          "data": {
            "text/plain": [
              "<keras.callbacks.History at 0x7fc0a61c3e80>"
            ]
          },
          "metadata": {},
          "execution_count": 56
        }
      ]
    },
    {
      "cell_type": "code",
      "source": [
        "# Step 6: Evaluate the model\n",
        "loss, accuracy = model.evaluate(X_test, Y_test)\n",
        "print('Validation loss:', loss)\n",
        "print('Validation accuracy:', accuracy)"
      ],
      "metadata": {
        "colab": {
          "base_uri": "https://localhost:8080/"
        },
        "id": "cbu-aLV_XAuV",
        "outputId": "e63993ad-2af7-4038-847b-36a1891b2f2e"
      },
      "execution_count": null,
      "outputs": [
        {
          "output_type": "stream",
          "name": "stdout",
          "text": [
            "305/305 [==============================] - 0s 1ms/step - loss: 0.5768 - accuracy: 0.6639\n",
            "Validation loss: 0.5767509937286377\n",
            "Validation accuracy: 0.6638646721839905\n"
          ]
        }
      ]
    },
    {
      "cell_type": "code",
      "source": [
        "from sklearn.metrics import roc_auc_score\n",
        "\n",
        "# Assuming you have predictions and true labels for the validation set\n",
        "y_pred = model.predict(X_test)\n",
        "auc = roc_auc_score(Y_test, y_pred)\n",
        "\n",
        "print(\"AUC:\", auc)"
      ],
      "metadata": {
        "colab": {
          "base_uri": "https://localhost:8080/"
        },
        "id": "F9BM8z4MXSjj",
        "outputId": "15d82107-531b-4c4c-a58e-8672003cb514"
      },
      "execution_count": null,
      "outputs": [
        {
          "output_type": "stream",
          "name": "stdout",
          "text": [
            "305/305 [==============================] - 0s 773us/step\n",
            "AUC: 0.7172665908533189\n"
          ]
        }
      ]
    },
    {
      "cell_type": "code",
      "source": [
        "from sklearn.metrics import precision_score, recall_score, f1_score\n",
        "\n",
        "# Assuming you have predictions and true labels for the validation set\n",
        "y_pred = model.predict(X_test)\n",
        "y_pred_binary = np.round(y_pred).astype(int)  # Convert predicted probabilities to binary labels\n",
        "\n",
        "precision = precision_score(Y_test, y_pred_binary)\n",
        "recall = recall_score(Y_test, y_pred_binary)\n",
        "f1 = f1_score(Y_test, y_pred_binary)\n",
        "\n",
        "print(\"Precision:\", precision)\n",
        "print(\"Recall:\", recall)\n",
        "print(\"F1 Score:\", f1)\n"
      ],
      "metadata": {
        "colab": {
          "base_uri": "https://localhost:8080/"
        },
        "id": "QijZfrKNYJIQ",
        "outputId": "0a3c3ccc-d191-43b1-ee84-2c9ad3a5fc30"
      },
      "execution_count": null,
      "outputs": [
        {
          "output_type": "stream",
          "name": "stdout",
          "text": [
            "305/305 [==============================] - 0s 1ms/step\n",
            "Precision: 0.6070711128967456\n",
            "Recall: 0.9292742927429274\n",
            "F1 Score: 0.7343863912515188\n"
          ]
        }
      ]
    },
    {
      "cell_type": "code",
      "source": [
        "model.save('/content/drive/MyDrive/my_model.h5')\n"
      ],
      "metadata": {
        "id": "i8k0exU3Xxni"
      },
      "execution_count": null,
      "outputs": []
    },
    {
      "cell_type": "markdown",
      "source": [
        "#Model2"
      ],
      "metadata": {
        "id": "TwzCz2wYyiqk"
      }
    },
    {
      "cell_type": "code",
      "source": [
        "from keras.models import Model\n",
        "from keras.layers import Input, Dense\n",
        "\n",
        "def create_model(input_shape):\n",
        "    inputs = Input(shape=input_shape)\n",
        "    hidden = Dense(64, activation='relu')(inputs)\n",
        "    hidden = Dense(64, activation='relu')(hidden)\n",
        "    outputs = Dense(1, activation='sigmoid')(hidden)\n",
        "    model = Model(inputs=inputs, outputs=outputs)\n",
        "    return model\n"
      ],
      "metadata": {
        "id": "Jc1ywe4Jylpy"
      },
      "execution_count": null,
      "outputs": []
    },
    {
      "cell_type": "code",
      "source": [
        "# Define the input shape based on the number of features\n",
        "input_shape = (25,)\n",
        "\n",
        "# Create the model\n",
        "model = create_model(input_shape)\n"
      ],
      "metadata": {
        "id": "2BNULzUQypJz"
      },
      "execution_count": null,
      "outputs": []
    },
    {
      "cell_type": "code",
      "source": [
        "# Create the model\n",
        "pretrained_model = create_model(input_shape)"
      ],
      "metadata": {
        "id": "idw0IKND0FbE"
      },
      "execution_count": null,
      "outputs": []
    },
    {
      "cell_type": "code",
      "source": [
        "pretrained_model.compile(loss='binary_crossentropy', optimizer='adam', metrics=['accuracy'])"
      ],
      "metadata": {
        "id": "NWA2xDT40Jjy"
      },
      "execution_count": null,
      "outputs": []
    },
    {
      "cell_type": "code",
      "source": [
        "pretrained_model.fit(X_train, Y_train, epochs=10, batch_size=32, validation_data=(X_test, Y_test))\n"
      ],
      "metadata": {
        "colab": {
          "base_uri": "https://localhost:8080/"
        },
        "id": "TJDN2yfs0g1D",
        "outputId": "0ca1532a-66a2-4aa4-e301-548b2bd07b4e"
      },
      "execution_count": null,
      "outputs": [
        {
          "output_type": "stream",
          "name": "stdout",
          "text": [
            "Epoch 1/10\n",
            "712/712 [==============================] - 2s 2ms/step - loss: 0.6000 - accuracy: 0.6499 - val_loss: 0.5805 - val_accuracy: 0.6610\n",
            "Epoch 2/10\n",
            "712/712 [==============================] - 1s 2ms/step - loss: 0.5753 - accuracy: 0.6663 - val_loss: 0.5749 - val_accuracy: 0.6612\n",
            "Epoch 3/10\n",
            "712/712 [==============================] - 1s 1ms/step - loss: 0.5719 - accuracy: 0.6679 - val_loss: 0.5768 - val_accuracy: 0.6599\n",
            "Epoch 4/10\n",
            "712/712 [==============================] - 1s 2ms/step - loss: 0.5706 - accuracy: 0.6690 - val_loss: 0.5754 - val_accuracy: 0.6678\n",
            "Epoch 5/10\n",
            "712/712 [==============================] - 1s 2ms/step - loss: 0.5692 - accuracy: 0.6722 - val_loss: 0.5741 - val_accuracy: 0.6628\n",
            "Epoch 6/10\n",
            "712/712 [==============================] - 1s 2ms/step - loss: 0.5677 - accuracy: 0.6723 - val_loss: 0.5737 - val_accuracy: 0.6661\n",
            "Epoch 7/10\n",
            "712/712 [==============================] - 1s 2ms/step - loss: 0.5665 - accuracy: 0.6739 - val_loss: 0.5729 - val_accuracy: 0.6705\n",
            "Epoch 8/10\n",
            "712/712 [==============================] - 1s 2ms/step - loss: 0.5658 - accuracy: 0.6751 - val_loss: 0.5729 - val_accuracy: 0.6636\n",
            "Epoch 9/10\n",
            "712/712 [==============================] - 1s 1ms/step - loss: 0.5646 - accuracy: 0.6750 - val_loss: 0.5729 - val_accuracy: 0.6659\n",
            "Epoch 10/10\n",
            "712/712 [==============================] - 1s 2ms/step - loss: 0.5635 - accuracy: 0.6752 - val_loss: 0.5743 - val_accuracy: 0.6676\n"
          ]
        },
        {
          "output_type": "execute_result",
          "data": {
            "text/plain": [
              "<keras.callbacks.History at 0x7f14e98e3c70>"
            ]
          },
          "metadata": {},
          "execution_count": 42
        }
      ]
    },
    {
      "cell_type": "code",
      "source": [
        "from sklearn.metrics import roc_auc_score\n",
        "\n",
        "# Assuming you have predictions and true labels for the validation set\n",
        "y_pred = pretrained_model.predict(X_test)\n",
        "auc = roc_auc_score(Y_test, y_pred)\n",
        "\n",
        "print(\"AUC:\", auc)"
      ],
      "metadata": {
        "colab": {
          "base_uri": "https://localhost:8080/"
        },
        "id": "mKRqeuEa00xX",
        "outputId": "7c8ba57d-ee0d-4d8d-c8da-54539469f568"
      },
      "execution_count": null,
      "outputs": [
        {
          "output_type": "stream",
          "name": "stdout",
          "text": [
            "305/305 [==============================] - 0s 761us/step\n",
            "AUC: 0.7159545062746095\n"
          ]
        }
      ]
    },
    {
      "cell_type": "code",
      "source": [
        "from sklearn.metrics import precision_score, recall_score, f1_score\n",
        "\n",
        "# Assuming you have predictions and true labels for the validation set\n",
        "y_pred = pretrained_model.predict(X_test)\n",
        "y_pred_binary = np.round(y_pred).astype(int)  # Convert predicted probabilities to binary labels\n",
        "\n",
        "precision = precision_score(Y_test, y_pred_binary)\n",
        "recall = recall_score(Y_test, y_pred_binary)\n",
        "f1 = f1_score(Y_test, y_pred_binary)\n",
        "\n",
        "print(\"Precision:\", precision)\n",
        "print(\"Recall:\", recall)\n",
        "print(\"F1 Score:\", f1)\n"
      ],
      "metadata": {
        "colab": {
          "base_uri": "https://localhost:8080/"
        },
        "id": "hSbXZE6A0-Dh",
        "outputId": "9f36ac22-74e8-4a06-d2ec-fb9090f0cfba"
      },
      "execution_count": null,
      "outputs": [
        {
          "output_type": "stream",
          "name": "stdout",
          "text": [
            "305/305 [==============================] - 0s 710us/step\n",
            "Precision: 0.6225675064112234\n",
            "Recall: 0.8460434604346043\n",
            "F1 Score: 0.7173025115147301\n"
          ]
        }
      ]
    },
    {
      "cell_type": "code",
      "source": [
        "pretrained_model.save('/content/drive/MyDrive/my_model2.h5')\n"
      ],
      "metadata": {
        "id": "GHrA6M1h1HvD"
      },
      "execution_count": null,
      "outputs": []
    },
    {
      "cell_type": "markdown",
      "source": [
        "#Model3"
      ],
      "metadata": {
        "id": "4drZY02Nv4rR"
      }
    },
    {
      "cell_type": "code",
      "source": [
        "import tensorflow as tf\n",
        "from tensorflow.keras.models import Model\n",
        "from tensorflow.keras.layers import Input, Dense\n",
        "def create_pretrained_model(input_shape, num_classes):\n",
        "    # Define the architecture of your pretrained model\n",
        "    input_layer = Input(shape=input_shape)\n",
        "    hidden_layer = Dense(64, activation='relu')(input_layer)\n",
        "    output_layer = Dense(num_classes, activation='softmax')(hidden_layer)\n",
        "    pretrained_model = Model(inputs=input_layer, outputs=output_layer)\n",
        "    return pretrained_model\n",
        "\n",
        "# Create the pretrained model with a specific input shape and number of classes\n",
        "input_shape = (25,)  # Change this to the desired input shape\n",
        "num_classes = 2  # Change this to the appropriate number of output classes\n",
        "pretrained_model = create_pretrained_model(input_shape, num_classes)"
      ],
      "metadata": {
        "id": "6NqEQnq3v3lO"
      },
      "execution_count": null,
      "outputs": []
    },
    {
      "cell_type": "code",
      "source": [
        "# Assuming you have a binary classification problem\n",
        "num_classes = 2\n",
        "\n",
        "# Convert the true labels to one-hot encoding if they are not already\n",
        "y_train_one_hot = tf.keras.utils.to_categorical(Y_train, num_classes)\n",
        "y_val_one_hot = tf.keras.utils.to_categorical(Y_test, num_classes)\n",
        "\n",
        "# Compile and train the new model\n",
        "pretrained_model.compile(optimizer='adam', loss='categorical_crossentropy', metrics=['accuracy'])\n",
        "pretrained_model.fit(X_train, y_train_one_hot, epochs=10, batch_size=32, validation_data=(X_test, y_val_one_hot))\n"
      ],
      "metadata": {
        "colab": {
          "base_uri": "https://localhost:8080/"
        },
        "id": "vw44RmRMwdRO",
        "outputId": "ed794079-159e-4221-d997-68e4c05a90a6"
      },
      "execution_count": null,
      "outputs": [
        {
          "output_type": "stream",
          "name": "stdout",
          "text": [
            "Epoch 1/10\n",
            "712/712 [==============================] - 3s 3ms/step - loss: 0.6254 - accuracy: 0.6318 - val_loss: 0.5963 - val_accuracy: 0.6518\n",
            "Epoch 2/10\n",
            "712/712 [==============================] - 2s 3ms/step - loss: 0.5865 - accuracy: 0.6599 - val_loss: 0.5826 - val_accuracy: 0.6644\n",
            "Epoch 3/10\n",
            "712/712 [==============================] - 2s 3ms/step - loss: 0.5789 - accuracy: 0.6652 - val_loss: 0.5782 - val_accuracy: 0.6674\n",
            "Epoch 4/10\n",
            "712/712 [==============================] - 2s 3ms/step - loss: 0.5755 - accuracy: 0.6655 - val_loss: 0.5794 - val_accuracy: 0.6653\n",
            "Epoch 5/10\n",
            "712/712 [==============================] - 2s 3ms/step - loss: 0.5737 - accuracy: 0.6685 - val_loss: 0.5748 - val_accuracy: 0.6646\n",
            "Epoch 6/10\n",
            "712/712 [==============================] - 2s 3ms/step - loss: 0.5727 - accuracy: 0.6663 - val_loss: 0.5755 - val_accuracy: 0.6679\n",
            "Epoch 7/10\n",
            "712/712 [==============================] - 2s 2ms/step - loss: 0.5720 - accuracy: 0.6676 - val_loss: 0.5726 - val_accuracy: 0.6665\n",
            "Epoch 8/10\n",
            "712/712 [==============================] - 2s 3ms/step - loss: 0.5712 - accuracy: 0.6698 - val_loss: 0.5739 - val_accuracy: 0.6654\n",
            "Epoch 9/10\n",
            "712/712 [==============================] - 3s 4ms/step - loss: 0.5704 - accuracy: 0.6688 - val_loss: 0.5726 - val_accuracy: 0.6669\n",
            "Epoch 10/10\n",
            "712/712 [==============================] - 2s 3ms/step - loss: 0.5705 - accuracy: 0.6691 - val_loss: 0.5768 - val_accuracy: 0.6666\n"
          ]
        },
        {
          "output_type": "execute_result",
          "data": {
            "text/plain": [
              "<keras.callbacks.History at 0x7fd95f40efe0>"
            ]
          },
          "metadata": {},
          "execution_count": 26
        }
      ]
    },
    {
      "cell_type": "code",
      "source": [
        "from sklearn.metrics import roc_auc_score\n",
        "\n",
        "# Assuming you have predictions and true labels for the validation set\n",
        "y_pred = pretrained_model.predict(X_test)\n",
        "auc = roc_auc_score(y_val_one_hot, y_pred)\n",
        "\n",
        "print(\"AUC:\", auc)"
      ],
      "metadata": {
        "colab": {
          "base_uri": "https://localhost:8080/"
        },
        "id": "o1t43Pv9w0bC",
        "outputId": "5511773b-8e9c-4e98-820a-fcfab8880c31"
      },
      "execution_count": null,
      "outputs": [
        {
          "output_type": "stream",
          "name": "stdout",
          "text": [
            "305/305 [==============================] - 1s 2ms/step\n",
            "AUC: 0.7141155092604852\n"
          ]
        }
      ]
    },
    {
      "cell_type": "code",
      "source": [
        "pretrained_model.save('/content/drive/MyDrive/my_model3.h5')\n"
      ],
      "metadata": {
        "id": "vQ7dRkHgyRG0"
      },
      "execution_count": null,
      "outputs": []
    },
    {
      "cell_type": "markdown",
      "source": [
        "#Model 4"
      ],
      "metadata": {
        "id": "oM0--S84PK6W"
      }
    },
    {
      "cell_type": "code",
      "source": [
        "from sklearn.ensemble import RandomForestClassifier\n",
        "# Train a random forest classifier on the original dataset\n",
        "clf = RandomForestClassifier(n_estimators=100, random_state=42)\n",
        "clf.fit(X_train, Y_train)"
      ],
      "metadata": {
        "colab": {
          "base_uri": "https://localhost:8080/",
          "height": 74
        },
        "id": "smrxjvb4PHUl",
        "outputId": "b221cd26-96ca-4f0e-dc67-0ecbf6510e25"
      },
      "execution_count": null,
      "outputs": [
        {
          "output_type": "execute_result",
          "data": {
            "text/plain": [
              "RandomForestClassifier(random_state=42)"
            ],
            "text/html": [
              "<style>#sk-container-id-2 {color: black;background-color: white;}#sk-container-id-2 pre{padding: 0;}#sk-container-id-2 div.sk-toggleable {background-color: white;}#sk-container-id-2 label.sk-toggleable__label {cursor: pointer;display: block;width: 100%;margin-bottom: 0;padding: 0.3em;box-sizing: border-box;text-align: center;}#sk-container-id-2 label.sk-toggleable__label-arrow:before {content: \"▸\";float: left;margin-right: 0.25em;color: #696969;}#sk-container-id-2 label.sk-toggleable__label-arrow:hover:before {color: black;}#sk-container-id-2 div.sk-estimator:hover label.sk-toggleable__label-arrow:before {color: black;}#sk-container-id-2 div.sk-toggleable__content {max-height: 0;max-width: 0;overflow: hidden;text-align: left;background-color: #f0f8ff;}#sk-container-id-2 div.sk-toggleable__content pre {margin: 0.2em;color: black;border-radius: 0.25em;background-color: #f0f8ff;}#sk-container-id-2 input.sk-toggleable__control:checked~div.sk-toggleable__content {max-height: 200px;max-width: 100%;overflow: auto;}#sk-container-id-2 input.sk-toggleable__control:checked~label.sk-toggleable__label-arrow:before {content: \"▾\";}#sk-container-id-2 div.sk-estimator input.sk-toggleable__control:checked~label.sk-toggleable__label {background-color: #d4ebff;}#sk-container-id-2 div.sk-label input.sk-toggleable__control:checked~label.sk-toggleable__label {background-color: #d4ebff;}#sk-container-id-2 input.sk-hidden--visually {border: 0;clip: rect(1px 1px 1px 1px);clip: rect(1px, 1px, 1px, 1px);height: 1px;margin: -1px;overflow: hidden;padding: 0;position: absolute;width: 1px;}#sk-container-id-2 div.sk-estimator {font-family: monospace;background-color: #f0f8ff;border: 1px dotted black;border-radius: 0.25em;box-sizing: border-box;margin-bottom: 0.5em;}#sk-container-id-2 div.sk-estimator:hover {background-color: #d4ebff;}#sk-container-id-2 div.sk-parallel-item::after {content: \"\";width: 100%;border-bottom: 1px solid gray;flex-grow: 1;}#sk-container-id-2 div.sk-label:hover label.sk-toggleable__label {background-color: #d4ebff;}#sk-container-id-2 div.sk-serial::before {content: \"\";position: absolute;border-left: 1px solid gray;box-sizing: border-box;top: 0;bottom: 0;left: 50%;z-index: 0;}#sk-container-id-2 div.sk-serial {display: flex;flex-direction: column;align-items: center;background-color: white;padding-right: 0.2em;padding-left: 0.2em;position: relative;}#sk-container-id-2 div.sk-item {position: relative;z-index: 1;}#sk-container-id-2 div.sk-parallel {display: flex;align-items: stretch;justify-content: center;background-color: white;position: relative;}#sk-container-id-2 div.sk-item::before, #sk-container-id-2 div.sk-parallel-item::before {content: \"\";position: absolute;border-left: 1px solid gray;box-sizing: border-box;top: 0;bottom: 0;left: 50%;z-index: -1;}#sk-container-id-2 div.sk-parallel-item {display: flex;flex-direction: column;z-index: 1;position: relative;background-color: white;}#sk-container-id-2 div.sk-parallel-item:first-child::after {align-self: flex-end;width: 50%;}#sk-container-id-2 div.sk-parallel-item:last-child::after {align-self: flex-start;width: 50%;}#sk-container-id-2 div.sk-parallel-item:only-child::after {width: 0;}#sk-container-id-2 div.sk-dashed-wrapped {border: 1px dashed gray;margin: 0 0.4em 0.5em 0.4em;box-sizing: border-box;padding-bottom: 0.4em;background-color: white;}#sk-container-id-2 div.sk-label label {font-family: monospace;font-weight: bold;display: inline-block;line-height: 1.2em;}#sk-container-id-2 div.sk-label-container {text-align: center;}#sk-container-id-2 div.sk-container {/* jupyter's `normalize.less` sets `[hidden] { display: none; }` but bootstrap.min.css set `[hidden] { display: none !important; }` so we also need the `!important` here to be able to override the default hidden behavior on the sphinx rendered scikit-learn.org. See: https://github.com/scikit-learn/scikit-learn/issues/21755 */display: inline-block !important;position: relative;}#sk-container-id-2 div.sk-text-repr-fallback {display: none;}</style><div id=\"sk-container-id-2\" class=\"sk-top-container\"><div class=\"sk-text-repr-fallback\"><pre>RandomForestClassifier(random_state=42)</pre><b>In a Jupyter environment, please rerun this cell to show the HTML representation or trust the notebook. <br />On GitHub, the HTML representation is unable to render, please try loading this page with nbviewer.org.</b></div><div class=\"sk-container\" hidden><div class=\"sk-item\"><div class=\"sk-estimator sk-toggleable\"><input class=\"sk-toggleable__control sk-hidden--visually\" id=\"sk-estimator-id-2\" type=\"checkbox\" checked><label for=\"sk-estimator-id-2\" class=\"sk-toggleable__label sk-toggleable__label-arrow\">RandomForestClassifier</label><div class=\"sk-toggleable__content\"><pre>RandomForestClassifier(random_state=42)</pre></div></div></div></div></div>"
            ]
          },
          "metadata": {},
          "execution_count": 47
        }
      ]
    },
    {
      "cell_type": "code",
      "source": [
        "# Evaluate the accuracy of the random forest model on the test set\n",
        "accuracy = clf.score(X_test, Y_test)\n",
        "print(\"Accuracy on original dataset:\", accuracy)"
      ],
      "metadata": {
        "colab": {
          "base_uri": "https://localhost:8080/"
        },
        "id": "TGZXxGvdb141",
        "outputId": "19638d87-5ed6-4057-c74f-aa829d6b8275"
      },
      "execution_count": null,
      "outputs": [
        {
          "output_type": "stream",
          "name": "stdout",
          "text": [
            "Accuracy on original dataset: 0.6385443362378268\n"
          ]
        }
      ]
    },
    {
      "cell_type": "code",
      "source": [
        "import joblib\n",
        "\n",
        "# Save the pretrained model to a file\n",
        "joblib.dump(clf, '/content/drive/MyDrive/pretrained_model4.pkl')\n"
      ],
      "metadata": {
        "colab": {
          "base_uri": "https://localhost:8080/"
        },
        "id": "vohB9GRATaOo",
        "outputId": "7c713249-4a17-4940-eca8-bd96f0786bcd"
      },
      "execution_count": null,
      "outputs": [
        {
          "output_type": "execute_result",
          "data": {
            "text/plain": [
              "['/content/drive/MyDrive/pretrained_model4.pkl']"
            ]
          },
          "metadata": {},
          "execution_count": 49
        }
      ]
    },
    {
      "cell_type": "markdown",
      "metadata": {
        "id": "VwooE1tVfX61"
      },
      "source": [
        "#  random forest"
      ]
    },
    {
      "cell_type": "code",
      "execution_count": null,
      "metadata": {
        "colab": {
          "base_uri": "https://localhost:8080/",
          "height": 74
        },
        "id": "Q1WL_Cpif6-B",
        "outputId": "d7232920-c3ab-474d-f9f7-f35d6f281e0a"
      },
      "outputs": [
        {
          "output_type": "execute_result",
          "data": {
            "text/plain": [
              "RandomForestClassifier(n_estimators=25, random_state=12)"
            ],
            "text/html": [
              "<style>#sk-container-id-1 {color: black;background-color: white;}#sk-container-id-1 pre{padding: 0;}#sk-container-id-1 div.sk-toggleable {background-color: white;}#sk-container-id-1 label.sk-toggleable__label {cursor: pointer;display: block;width: 100%;margin-bottom: 0;padding: 0.3em;box-sizing: border-box;text-align: center;}#sk-container-id-1 label.sk-toggleable__label-arrow:before {content: \"▸\";float: left;margin-right: 0.25em;color: #696969;}#sk-container-id-1 label.sk-toggleable__label-arrow:hover:before {color: black;}#sk-container-id-1 div.sk-estimator:hover label.sk-toggleable__label-arrow:before {color: black;}#sk-container-id-1 div.sk-toggleable__content {max-height: 0;max-width: 0;overflow: hidden;text-align: left;background-color: #f0f8ff;}#sk-container-id-1 div.sk-toggleable__content pre {margin: 0.2em;color: black;border-radius: 0.25em;background-color: #f0f8ff;}#sk-container-id-1 input.sk-toggleable__control:checked~div.sk-toggleable__content {max-height: 200px;max-width: 100%;overflow: auto;}#sk-container-id-1 input.sk-toggleable__control:checked~label.sk-toggleable__label-arrow:before {content: \"▾\";}#sk-container-id-1 div.sk-estimator input.sk-toggleable__control:checked~label.sk-toggleable__label {background-color: #d4ebff;}#sk-container-id-1 div.sk-label input.sk-toggleable__control:checked~label.sk-toggleable__label {background-color: #d4ebff;}#sk-container-id-1 input.sk-hidden--visually {border: 0;clip: rect(1px 1px 1px 1px);clip: rect(1px, 1px, 1px, 1px);height: 1px;margin: -1px;overflow: hidden;padding: 0;position: absolute;width: 1px;}#sk-container-id-1 div.sk-estimator {font-family: monospace;background-color: #f0f8ff;border: 1px dotted black;border-radius: 0.25em;box-sizing: border-box;margin-bottom: 0.5em;}#sk-container-id-1 div.sk-estimator:hover {background-color: #d4ebff;}#sk-container-id-1 div.sk-parallel-item::after {content: \"\";width: 100%;border-bottom: 1px solid gray;flex-grow: 1;}#sk-container-id-1 div.sk-label:hover label.sk-toggleable__label {background-color: #d4ebff;}#sk-container-id-1 div.sk-serial::before {content: \"\";position: absolute;border-left: 1px solid gray;box-sizing: border-box;top: 0;bottom: 0;left: 50%;z-index: 0;}#sk-container-id-1 div.sk-serial {display: flex;flex-direction: column;align-items: center;background-color: white;padding-right: 0.2em;padding-left: 0.2em;position: relative;}#sk-container-id-1 div.sk-item {position: relative;z-index: 1;}#sk-container-id-1 div.sk-parallel {display: flex;align-items: stretch;justify-content: center;background-color: white;position: relative;}#sk-container-id-1 div.sk-item::before, #sk-container-id-1 div.sk-parallel-item::before {content: \"\";position: absolute;border-left: 1px solid gray;box-sizing: border-box;top: 0;bottom: 0;left: 50%;z-index: -1;}#sk-container-id-1 div.sk-parallel-item {display: flex;flex-direction: column;z-index: 1;position: relative;background-color: white;}#sk-container-id-1 div.sk-parallel-item:first-child::after {align-self: flex-end;width: 50%;}#sk-container-id-1 div.sk-parallel-item:last-child::after {align-self: flex-start;width: 50%;}#sk-container-id-1 div.sk-parallel-item:only-child::after {width: 0;}#sk-container-id-1 div.sk-dashed-wrapped {border: 1px dashed gray;margin: 0 0.4em 0.5em 0.4em;box-sizing: border-box;padding-bottom: 0.4em;background-color: white;}#sk-container-id-1 div.sk-label label {font-family: monospace;font-weight: bold;display: inline-block;line-height: 1.2em;}#sk-container-id-1 div.sk-label-container {text-align: center;}#sk-container-id-1 div.sk-container {/* jupyter's `normalize.less` sets `[hidden] { display: none; }` but bootstrap.min.css set `[hidden] { display: none !important; }` so we also need the `!important` here to be able to override the default hidden behavior on the sphinx rendered scikit-learn.org. See: https://github.com/scikit-learn/scikit-learn/issues/21755 */display: inline-block !important;position: relative;}#sk-container-id-1 div.sk-text-repr-fallback {display: none;}</style><div id=\"sk-container-id-1\" class=\"sk-top-container\"><div class=\"sk-text-repr-fallback\"><pre>RandomForestClassifier(n_estimators=25, random_state=12)</pre><b>In a Jupyter environment, please rerun this cell to show the HTML representation or trust the notebook. <br />On GitHub, the HTML representation is unable to render, please try loading this page with nbviewer.org.</b></div><div class=\"sk-container\" hidden><div class=\"sk-item\"><div class=\"sk-estimator sk-toggleable\"><input class=\"sk-toggleable__control sk-hidden--visually\" id=\"sk-estimator-id-1\" type=\"checkbox\" checked><label for=\"sk-estimator-id-1\" class=\"sk-toggleable__label sk-toggleable__label-arrow\">RandomForestClassifier</label><div class=\"sk-toggleable__content\"><pre>RandomForestClassifier(n_estimators=25, random_state=12)</pre></div></div></div></div></div>"
            ]
          },
          "metadata": {},
          "execution_count": 28
        }
      ],
      "source": [
        "from sklearn.ensemble import RandomForestClassifier\n",
        "\n",
        "clf_rf = RandomForestClassifier(n_estimators=25, random_state=12)\n",
        "clf_rf.fit(X_train,Y_train)"
      ]
    },
    {
      "cell_type": "code",
      "execution_count": null,
      "metadata": {
        "colab": {
          "base_uri": "https://localhost:8080/"
        },
        "id": "rEKtm3zOgCUy",
        "outputId": "d127971a-40b6-40ec-9cff-434c7c8bffea"
      },
      "outputs": [
        {
          "output_type": "stream",
          "name": "stdout",
          "text": [
            "              precision    recall  f1-score   support\n",
            "\n",
            "           0       0.67      0.55      0.60      4877\n",
            "           1       0.62      0.72      0.67      4878\n",
            "\n",
            "    accuracy                           0.64      9755\n",
            "   macro avg       0.64      0.64      0.63      9755\n",
            "weighted avg       0.64      0.64      0.63      9755\n",
            "\n"
          ]
        }
      ],
      "source": [
        "from sklearn.metrics import classification_report\n",
        "\n",
        "print(classification_report(Y_test, clf_rf.predict(X_test)))\n"
      ]
    },
    {
      "cell_type": "code",
      "execution_count": null,
      "metadata": {
        "colab": {
          "base_uri": "https://localhost:8080/",
          "height": 607
        },
        "id": "WhL_mlFcghNa",
        "outputId": "ffd0a801-a4f2-4df4-c173-f738f3f820a6"
      },
      "outputs": [
        {
          "output_type": "display_data",
          "data": {
            "text/plain": [
              "<Figure size 800x600 with 1 Axes>"
            ],
            "image/png": "[encoded data removed]"
          },
          "metadata": {}
        }
      ],
      "source": [
        "from sklearn.metrics import roc_curve, auc\n",
        "\n",
        "fig, (ax2) = plt.subplots(figsize = (8,6))\n",
        "        #roc-curve\n",
        "fpr, tpr, thresholds_roc = roc_curve(Y_test, clf_rf.predict(X_test))\n",
        "roc_auc = auc(fpr,tpr)\n",
        "ax2.plot(fpr,tpr, label = \" AUROC = {:0.2f}\".format(roc_auc))\n",
        "ax2.plot([0,1], [0,1], 'r', linestyle = \"--\", lw = 2)\n",
        "ax2.set_xlabel(\"False Positive Rate\", fontsize = 14)\n",
        "ax2.set_ylabel(\"True Positive Rate\", fontsize = 14)\n",
        "ax2.set_title(\"ROC Curve\", fontsize = 18)\n",
        "ax2.legend(loc = 'best')\n",
        "plt.title('ROC curve for  Classifier ')\n",
        "plt.xlabel('False Positive Rate (1 - Specificity)')\n",
        "plt.ylabel('True Positive Rate (Sensitivity)')\n",
        "        #find default threshold\n",
        "close_default = np.argmin(np.abs(thresholds_roc - 0.5))\n",
        "ax2.plot(fpr[close_default], tpr[close_default], 'o', markersize = 8)\n",
        "plt.tight_layout()"
      ]
    },
    {
      "cell_type": "markdown",
      "metadata": {
        "id": "xW1_bhEChism"
      },
      "source": [
        "#XGBoost Classifer"
      ]
    },
    {
      "cell_type": "code",
      "execution_count": null,
      "metadata": {
        "colab": {
          "base_uri": "https://localhost:8080/",
          "height": 248
        },
        "id": "eBX-dp8jhhoA",
        "outputId": "ef905682-5c19-4eda-e54b-634cc54c36ad"
      },
      "outputs": [
        {
          "output_type": "execute_result",
          "data": {
            "text/plain": [
              "XGBClassifier(base_score=None, booster=None, callbacks=None,\n",
              "              colsample_bylevel=None, colsample_bynode=None,\n",
              "              colsample_bytree=None, early_stopping_rounds=None,\n",
              "              enable_categorical=False, eval_metric=None, feature_types=None,\n",
              "              gamma=None, gpu_id=None, grow_policy=None, importance_type=None,\n",
              "              interaction_constraints=None, learning_rate=None, max_bin=None,\n",
              "              max_cat_threshold=None, max_cat_to_onehot=None,\n",
              "              max_delta_step=None, max_depth=None, max_leaves=None,\n",
              "              min_child_weight=None, missing=nan, monotone_constraints=None,\n",
              "              n_estimators=100, n_jobs=None, num_parallel_tree=None,\n",
              "              predictor=None, random_state=None, ...)"
            ],
            "text/html": [
              "<style>#sk-container-id-3 {color: black;background-color: white;}#sk-container-id-3 pre{padding: 0;}#sk-container-id-3 div.sk-toggleable {background-color: white;}#sk-container-id-3 label.sk-toggleable__label {cursor: pointer;display: block;width: 100%;margin-bottom: 0;padding: 0.3em;box-sizing: border-box;text-align: center;}#sk-container-id-3 label.sk-toggleable__label-arrow:before {content: \"▸\";float: left;margin-right: 0.25em;color: #696969;}#sk-container-id-3 label.sk-toggleable__label-arrow:hover:before {color: black;}#sk-container-id-3 div.sk-estimator:hover label.sk-toggleable__label-arrow:before {color: black;}#sk-container-id-3 div.sk-toggleable__content {max-height: 0;max-width: 0;overflow: hidden;text-align: left;background-color: #f0f8ff;}#sk-container-id-3 div.sk-toggleable__content pre {margin: 0.2em;color: black;border-radius: 0.25em;background-color: #f0f8ff;}#sk-container-id-3 input.sk-toggleable__control:checked~div.sk-toggleable__content {max-height: 200px;max-width: 100%;overflow: auto;}#sk-container-id-3 input.sk-toggleable__control:checked~label.sk-toggleable__label-arrow:before {content: \"▾\";}#sk-container-id-3 div.sk-estimator input.sk-toggleable__control:checked~label.sk-toggleable__label {background-color: #d4ebff;}#sk-container-id-3 div.sk-label input.sk-toggleable__control:checked~label.sk-toggleable__label {background-color: #d4ebff;}#sk-container-id-3 input.sk-hidden--visually {border: 0;clip: rect(1px 1px 1px 1px);clip: rect(1px, 1px, 1px, 1px);height: 1px;margin: -1px;overflow: hidden;padding: 0;position: absolute;width: 1px;}#sk-container-id-3 div.sk-estimator {font-family: monospace;background-color: #f0f8ff;border: 1px dotted black;border-radius: 0.25em;box-sizing: border-box;margin-bottom: 0.5em;}#sk-container-id-3 div.sk-estimator:hover {background-color: #d4ebff;}#sk-container-id-3 div.sk-parallel-item::after {content: \"\";width: 100%;border-bottom: 1px solid gray;flex-grow: 1;}#sk-container-id-3 div.sk-label:hover label.sk-toggleable__label {background-color: #d4ebff;}#sk-container-id-3 div.sk-serial::before {content: \"\";position: absolute;border-left: 1px solid gray;box-sizing: border-box;top: 0;bottom: 0;left: 50%;z-index: 0;}#sk-container-id-3 div.sk-serial {display: flex;flex-direction: column;align-items: center;background-color: white;padding-right: 0.2em;padding-left: 0.2em;position: relative;}#sk-container-id-3 div.sk-item {position: relative;z-index: 1;}#sk-container-id-3 div.sk-parallel {display: flex;align-items: stretch;justify-content: center;background-color: white;position: relative;}#sk-container-id-3 div.sk-item::before, #sk-container-id-3 div.sk-parallel-item::before {content: \"\";position: absolute;border-left: 1px solid gray;box-sizing: border-box;top: 0;bottom: 0;left: 50%;z-index: -1;}#sk-container-id-3 div.sk-parallel-item {display: flex;flex-direction: column;z-index: 1;position: relative;background-color: white;}#sk-container-id-3 div.sk-parallel-item:first-child::after {align-self: flex-end;width: 50%;}#sk-container-id-3 div.sk-parallel-item:last-child::after {align-self: flex-start;width: 50%;}#sk-container-id-3 div.sk-parallel-item:only-child::after {width: 0;}#sk-container-id-3 div.sk-dashed-wrapped {border: 1px dashed gray;margin: 0 0.4em 0.5em 0.4em;box-sizing: border-box;padding-bottom: 0.4em;background-color: white;}#sk-container-id-3 div.sk-label label {font-family: monospace;font-weight: bold;display: inline-block;line-height: 1.2em;}#sk-container-id-3 div.sk-label-container {text-align: center;}#sk-container-id-3 div.sk-container {/* jupyter's `normalize.less` sets `[hidden] { display: none; }` but bootstrap.min.css set `[hidden] { display: none !important; }` so we also need the `!important` here to be able to override the default hidden behavior on the sphinx rendered scikit-learn.org. See: https://github.com/scikit-learn/scikit-learn/issues/21755 */display: inline-block !important;position: relative;}#sk-container-id-3 div.sk-text-repr-fallback {display: none;}</style><div id=\"sk-container-id-3\" class=\"sk-top-container\"><div class=\"sk-text-repr-fallback\"><pre>XGBClassifier(base_score=None, booster=None, callbacks=None,\n",
              "              colsample_bylevel=None, colsample_bynode=None,\n",
              "              colsample_bytree=None, early_stopping_rounds=None,\n",
              "              enable_categorical=False, eval_metric=None, feature_types=None,\n",
              "              gamma=None, gpu_id=None, grow_policy=None, importance_type=None,\n",
              "              interaction_constraints=None, learning_rate=None, max_bin=None,\n",
              "              max_cat_threshold=None, max_cat_to_onehot=None,\n",
              "              max_delta_step=None, max_depth=None, max_leaves=None,\n",
              "              min_child_weight=None, missing=nan, monotone_constraints=None,\n",
              "              n_estimators=100, n_jobs=None, num_parallel_tree=None,\n",
              "              predictor=None, random_state=None, ...)</pre><b>In a Jupyter environment, please rerun this cell to show the HTML representation or trust the notebook. <br />On GitHub, the HTML representation is unable to render, please try loading this page with nbviewer.org.</b></div><div class=\"sk-container\" hidden><div class=\"sk-item\"><div class=\"sk-estimator sk-toggleable\"><input class=\"sk-toggleable__control sk-hidden--visually\" id=\"sk-estimator-id-8\" type=\"checkbox\" checked><label for=\"sk-estimator-id-8\" class=\"sk-toggleable__label sk-toggleable__label-arrow\">XGBClassifier</label><div class=\"sk-toggleable__content\"><pre>XGBClassifier(base_score=None, booster=None, callbacks=None,\n",
              "              colsample_bylevel=None, colsample_bynode=None,\n",
              "              colsample_bytree=None, early_stopping_rounds=None,\n",
              "              enable_categorical=False, eval_metric=None, feature_types=None,\n",
              "              gamma=None, gpu_id=None, grow_policy=None, importance_type=None,\n",
              "              interaction_constraints=None, learning_rate=None, max_bin=None,\n",
              "              max_cat_threshold=None, max_cat_to_onehot=None,\n",
              "              max_delta_step=None, max_depth=None, max_leaves=None,\n",
              "              min_child_weight=None, missing=nan, monotone_constraints=None,\n",
              "              n_estimators=100, n_jobs=None, num_parallel_tree=None,\n",
              "              predictor=None, random_state=None, ...)</pre></div></div></div></div></div>"
            ]
          },
          "metadata": {},
          "execution_count": 82
        }
      ],
      "source": [
        "from xgboost import XGBClassifier\n",
        "\n",
        "xgb_clf = XGBClassifier(use_label_encoder=False)\n",
        "xgb_clf.fit(X_train,Y_train)"
      ]
    },
    {
      "cell_type": "code",
      "execution_count": null,
      "metadata": {
        "colab": {
          "base_uri": "https://localhost:8080/"
        },
        "id": "U4t0z_ORh6qy",
        "outputId": "956d75fc-8efc-4189-9b26-da7fd59fd92b"
      },
      "outputs": [
        {
          "output_type": "stream",
          "name": "stdout",
          "text": [
            "              precision    recall  f1-score   support\n",
            "\n",
            "           0       0.76      0.50      0.60      4877\n",
            "           1       0.63      0.84      0.72      4878\n",
            "\n",
            "    accuracy                           0.67      9755\n",
            "   macro avg       0.69      0.67      0.66      9755\n",
            "weighted avg       0.69      0.67      0.66      9755\n",
            "\n"
          ]
        }
      ],
      "source": [
        "from sklearn.metrics import classification_report\n",
        "\n",
        "print(classification_report(Y_test, xgb_clf.predict(X_test)))\n"
      ]
    },
    {
      "cell_type": "code",
      "execution_count": null,
      "metadata": {
        "colab": {
          "base_uri": "https://localhost:8080/",
          "height": 607
        },
        "id": "10dNtD2giBPX",
        "outputId": "7b030c2f-9faf-4800-e23b-a0e2fb6995e7"
      },
      "outputs": [
        {
          "output_type": "display_data",
          "data": {
            "text/plain": [
              "<Figure size 800x600 with 1 Axes>"
            ],
            "image/png": "[encoded data removed]"
          },
          "metadata": {}
        }
      ],
      "source": [
        "from sklearn.metrics import roc_curve, auc\n",
        "\n",
        "fig, (ax2) = plt.subplots(figsize = (8,6))\n",
        "        #roc-curve\n",
        "fpr, tpr, thresholds_roc = roc_curve(Y_test, xgb_clf.predict(X_test))\n",
        "roc_auc = auc(fpr,tpr)\n",
        "ax2.plot(fpr,tpr, label = \" AUROC = {:0.2f}\".format(roc_auc))\n",
        "ax2.plot([0,1], [0,1], 'r', linestyle = \"--\", lw = 2)\n",
        "ax2.set_xlabel(\"False Positive Rate\", fontsize = 14)\n",
        "ax2.set_ylabel(\"True Positive Rate\", fontsize = 14)\n",
        "ax2.set_title(\"ROC Curve\", fontsize = 18)\n",
        "ax2.legend(loc = 'best')\n",
        "\n",
        "\n",
        "\n",
        "plt.title('ROC curve for  Classifier ')\n",
        "plt.xlabel('False Positive Rate (1 - Specificity)')\n",
        "plt.ylabel('True Positive Rate (Sensitivity)')\n",
        "        #find default threshold\n",
        "close_default = np.argmin(np.abs(thresholds_roc - 0.5))\n",
        "ax2.plot(fpr[close_default], tpr[close_default], 'o', markersize = 8)\n",
        "plt.tight_layout()"
      ]
    },
    {
      "cell_type": "code",
      "source": [],
      "metadata": {
        "id": "p_slzIwPX5ai"
      },
      "execution_count": null,
      "outputs": []
    },
    {
      "cell_type": "markdown",
      "metadata": {
        "id": "MHHOU2ygiRFX"
      },
      "source": [
        "#KNN"
      ]
    },
    {
      "cell_type": "code",
      "execution_count": null,
      "metadata": {
        "id": "UXw10rHHiQHB"
      },
      "outputs": [],
      "source": [
        "from sklearn.neighbors import KNeighborsClassifier\n",
        "from sklearn.metrics import accuracy_score, confusion_matrix, classification_report\n",
        "\n",
        "train_score = []\n",
        "test_score = []\n",
        "neighbors = range(1, 30)\n",
        "\n",
        "for k in neighbors:\n",
        "    model = KNeighborsClassifier(n_neighbors=k)\n",
        "    model.fit(X_train,Y_train)\n",
        "    train_score.append(accuracy_score(Y_test, model.predict(X_test)))\n",
        "#     test_score.append(accuracy_score(y_test, model.predict(X_test)))"
      ]
    },
    {
      "cell_type": "code",
      "execution_count": null,
      "metadata": {
        "colab": {
          "base_uri": "https://localhost:8080/",
          "height": 636
        },
        "id": "MYsz7jFokyC5",
        "outputId": "207d82b7-11ac-4851-ed32-45afeec7dd1f"
      },
      "outputs": [
        {
          "output_type": "stream",
          "name": "stdout",
          "text": [
            "Maximum KNN score on the test data: 64.92%\n"
          ]
        },
        {
          "output_type": "display_data",
          "data": {
            "text/plain": [
              "<Figure size 1000x700 with 1 Axes>"
            ],
            "image/png": "[encoded data removed]"
          },
          "metadata": {}
        }
      ],
      "source": [
        "plt.figure(figsize=(10, 7))\n",
        "\n",
        "plt.plot(neighbors, train_score, label=\"Train score\")\n",
        "# plt.plot(neighbors, test_score, label=\"Test score\")\n",
        "plt.xticks(np.arange(1, 21, 1))\n",
        "plt.xlabel(\"Number of neighbors\")\n",
        "plt.ylabel(\"Model score\")\n",
        "plt.legend()\n",
        "\n",
        "print(f\"Maximum KNN score on the test data: {max(train_score)*100:.2f}%\")"
      ]
    },
    {
      "cell_type": "code",
      "execution_count": null,
      "metadata": {
        "id": "FGEz8xJbk21s"
      },
      "outputs": [],
      "source": [
        "knn_clf = KNeighborsClassifier(n_neighbors=26)\n"
      ]
    },
    {
      "cell_type": "code",
      "execution_count": null,
      "metadata": {
        "colab": {
          "base_uri": "https://localhost:8080/",
          "height": 74
        },
        "id": "XEBFpkLyluya",
        "outputId": "d1974aef-a0ee-465d-af2a-b9d5b0753739"
      },
      "outputs": [
        {
          "output_type": "execute_result",
          "data": {
            "text/plain": [
              "KNeighborsClassifier(n_neighbors=26)"
            ],
            "text/html": [
              "<style>#sk-container-id-24 {color: black;background-color: white;}#sk-container-id-24 pre{padding: 0;}#sk-container-id-24 div.sk-toggleable {background-color: white;}#sk-container-id-24 label.sk-toggleable__label {cursor: pointer;display: block;width: 100%;margin-bottom: 0;padding: 0.3em;box-sizing: border-box;text-align: center;}#sk-container-id-24 label.sk-toggleable__label-arrow:before {content: \"▸\";float: left;margin-right: 0.25em;color: #696969;}#sk-container-id-24 label.sk-toggleable__label-arrow:hover:before {color: black;}#sk-container-id-24 div.sk-estimator:hover label.sk-toggleable__label-arrow:before {color: black;}#sk-container-id-24 div.sk-toggleable__content {max-height: 0;max-width: 0;overflow: hidden;text-align: left;background-color: #f0f8ff;}#sk-container-id-24 div.sk-toggleable__content pre {margin: 0.2em;color: black;border-radius: 0.25em;background-color: #f0f8ff;}#sk-container-id-24 input.sk-toggleable__control:checked~div.sk-toggleable__content {max-height: 200px;max-width: 100%;overflow: auto;}#sk-container-id-24 input.sk-toggleable__control:checked~label.sk-toggleable__label-arrow:before {content: \"▾\";}#sk-container-id-24 div.sk-estimator input.sk-toggleable__control:checked~label.sk-toggleable__label {background-color: #d4ebff;}#sk-container-id-24 div.sk-label input.sk-toggleable__control:checked~label.sk-toggleable__label {background-color: #d4ebff;}#sk-container-id-24 input.sk-hidden--visually {border: 0;clip: rect(1px 1px 1px 1px);clip: rect(1px, 1px, 1px, 1px);height: 1px;margin: -1px;overflow: hidden;padding: 0;position: absolute;width: 1px;}#sk-container-id-24 div.sk-estimator {font-family: monospace;background-color: #f0f8ff;border: 1px dotted black;border-radius: 0.25em;box-sizing: border-box;margin-bottom: 0.5em;}#sk-container-id-24 div.sk-estimator:hover {background-color: #d4ebff;}#sk-container-id-24 div.sk-parallel-item::after {content: \"\";width: 100%;border-bottom: 1px solid gray;flex-grow: 1;}#sk-container-id-24 div.sk-label:hover label.sk-toggleable__label {background-color: #d4ebff;}#sk-container-id-24 div.sk-serial::before {content: \"\";position: absolute;border-left: 1px solid gray;box-sizing: border-box;top: 0;bottom: 0;left: 50%;z-index: 0;}#sk-container-id-24 div.sk-serial {display: flex;flex-direction: column;align-items: center;background-color: white;padding-right: 0.2em;padding-left: 0.2em;position: relative;}#sk-container-id-24 div.sk-item {position: relative;z-index: 1;}#sk-container-id-24 div.sk-parallel {display: flex;align-items: stretch;justify-content: center;background-color: white;position: relative;}#sk-container-id-24 div.sk-item::before, #sk-container-id-24 div.sk-parallel-item::before {content: \"\";position: absolute;border-left: 1px solid gray;box-sizing: border-box;top: 0;bottom: 0;left: 50%;z-index: -1;}#sk-container-id-24 div.sk-parallel-item {display: flex;flex-direction: column;z-index: 1;position: relative;background-color: white;}#sk-container-id-24 div.sk-parallel-item:first-child::after {align-self: flex-end;width: 50%;}#sk-container-id-24 div.sk-parallel-item:last-child::after {align-self: flex-start;width: 50%;}#sk-container-id-24 div.sk-parallel-item:only-child::after {width: 0;}#sk-container-id-24 div.sk-dashed-wrapped {border: 1px dashed gray;margin: 0 0.4em 0.5em 0.4em;box-sizing: border-box;padding-bottom: 0.4em;background-color: white;}#sk-container-id-24 div.sk-label label {font-family: monospace;font-weight: bold;display: inline-block;line-height: 1.2em;}#sk-container-id-24 div.sk-label-container {text-align: center;}#sk-container-id-24 div.sk-container {/* jupyter's `normalize.less` sets `[hidden] { display: none; }` but bootstrap.min.css set `[hidden] { display: none !important; }` so we also need the `!important` here to be able to override the default hidden behavior on the sphinx rendered scikit-learn.org. See: https://github.com/scikit-learn/scikit-learn/issues/21755 */display: inline-block !important;position: relative;}#sk-container-id-24 div.sk-text-repr-fallback {display: none;}</style><div id=\"sk-container-id-24\" class=\"sk-top-container\"><div class=\"sk-text-repr-fallback\"><pre>KNeighborsClassifier(n_neighbors=26)</pre><b>In a Jupyter environment, please rerun this cell to show the HTML representation or trust the notebook. <br />On GitHub, the HTML representation is unable to render, please try loading this page with nbviewer.org.</b></div><div class=\"sk-container\" hidden><div class=\"sk-item\"><div class=\"sk-estimator sk-toggleable\"><input class=\"sk-toggleable__control sk-hidden--visually\" id=\"sk-estimator-id-24\" type=\"checkbox\" checked><label for=\"sk-estimator-id-24\" class=\"sk-toggleable__label sk-toggleable__label-arrow\">KNeighborsClassifier</label><div class=\"sk-toggleable__content\"><pre>KNeighborsClassifier(n_neighbors=26)</pre></div></div></div></div></div>"
            ]
          },
          "metadata": {},
          "execution_count": 120
        }
      ],
      "source": [
        "knn_clf.fit(X_train,Y_train)"
      ]
    },
    {
      "cell_type": "code",
      "execution_count": null,
      "metadata": {
        "colab": {
          "base_uri": "https://localhost:8080/"
        },
        "id": "rIJGwjz2l4Qb",
        "outputId": "dcd27a7e-90de-408e-8936-3c109842f793"
      },
      "outputs": [
        {
          "output_type": "stream",
          "name": "stdout",
          "text": [
            "              precision    recall  f1-score   support\n",
            "\n",
            "           0       0.67      0.54      0.60      4877\n",
            "           1       0.62      0.74      0.67      4878\n",
            "\n",
            "    accuracy                           0.64      9755\n",
            "   macro avg       0.65      0.64      0.64      9755\n",
            "weighted avg       0.65      0.64      0.64      9755\n",
            "\n"
          ]
        }
      ],
      "source": [
        "print(classification_report(Y_test, knn_clf.predict(X_test)))\n"
      ]
    },
    {
      "cell_type": "code",
      "execution_count": null,
      "metadata": {
        "colab": {
          "base_uri": "https://localhost:8080/",
          "height": 607
        },
        "id": "UruFOxs9l920",
        "outputId": "c4ac4402-4300-4f8e-e58b-584ae55d7e79"
      },
      "outputs": [
        {
          "output_type": "display_data",
          "data": {
            "text/plain": [
              "<Figure size 800x600 with 1 Axes>"
            ],
            "image/png": "[encoded data removed]"
          },
          "metadata": {}
        }
      ],
      "source": [
        "from sklearn.metrics import roc_curve, auc\n",
        "\n",
        "fig, (ax2) = plt.subplots(figsize = (8,6))\n",
        "        #roc-curve\n",
        "fpr, tpr, thresholds_roc = roc_curve(Y_test, knn_clf.predict(X_test))\n",
        "roc_auc = auc(fpr,tpr)\n",
        "ax2.plot(fpr,tpr, label = \" AUROC = {:0.2f}\".format(roc_auc))\n",
        "ax2.plot([0,1], [0,1], 'r', linestyle = \"--\", lw = 2)\n",
        "ax2.set_xlabel(\"False Positive Rate\", fontsize = 14)\n",
        "ax2.set_ylabel(\"True Positive Rate\", fontsize = 14)\n",
        "ax2.set_title(\"ROC Curve\", fontsize = 18)\n",
        "ax2.legend(loc = 'best')\n",
        "plt.title('ROC curve for  Classifier ')\n",
        "plt.xlabel('False Positive Rate (1 - Specificity)')\n",
        "plt.ylabel('True Positive Rate (Sensitivity)')\n",
        "        #find default threshold\n",
        "close_default = np.argmin(np.abs(thresholds_roc - 0.5))\n",
        "ax2.plot(fpr[close_default], tpr[close_default], 'o', markersize = 8)\n",
        "plt.tight_layout()"
      ]
    },
    {
      "cell_type": "markdown",
      "metadata": {
        "id": "wRl6OejxnlEY"
      },
      "source": [
        "#SVM"
      ]
    },
    {
      "cell_type": "code",
      "execution_count": null,
      "metadata": {
        "colab": {
          "base_uri": "https://localhost:8080/",
          "height": 74
        },
        "id": "OVNd_q3znnRo",
        "outputId": "19bdd7f9-4872-4226-8469-61eb9e8a4622"
      },
      "outputs": [
        {
          "output_type": "execute_result",
          "data": {
            "text/plain": [
              "SVC(gamma=0.1)"
            ],
            "text/html": [
              "<style>#sk-container-id-6 {color: black;background-color: white;}#sk-container-id-6 pre{padding: 0;}#sk-container-id-6 div.sk-toggleable {background-color: white;}#sk-container-id-6 label.sk-toggleable__label {cursor: pointer;display: block;width: 100%;margin-bottom: 0;padding: 0.3em;box-sizing: border-box;text-align: center;}#sk-container-id-6 label.sk-toggleable__label-arrow:before {content: \"▸\";float: left;margin-right: 0.25em;color: #696969;}#sk-container-id-6 label.sk-toggleable__label-arrow:hover:before {color: black;}#sk-container-id-6 div.sk-estimator:hover label.sk-toggleable__label-arrow:before {color: black;}#sk-container-id-6 div.sk-toggleable__content {max-height: 0;max-width: 0;overflow: hidden;text-align: left;background-color: #f0f8ff;}#sk-container-id-6 div.sk-toggleable__content pre {margin: 0.2em;color: black;border-radius: 0.25em;background-color: #f0f8ff;}#sk-container-id-6 input.sk-toggleable__control:checked~div.sk-toggleable__content {max-height: 200px;max-width: 100%;overflow: auto;}#sk-container-id-6 input.sk-toggleable__control:checked~label.sk-toggleable__label-arrow:before {content: \"▾\";}#sk-container-id-6 div.sk-estimator input.sk-toggleable__control:checked~label.sk-toggleable__label {background-color: #d4ebff;}#sk-container-id-6 div.sk-label input.sk-toggleable__control:checked~label.sk-toggleable__label {background-color: #d4ebff;}#sk-container-id-6 input.sk-hidden--visually {border: 0;clip: rect(1px 1px 1px 1px);clip: rect(1px, 1px, 1px, 1px);height: 1px;margin: -1px;overflow: hidden;padding: 0;position: absolute;width: 1px;}#sk-container-id-6 div.sk-estimator {font-family: monospace;background-color: #f0f8ff;border: 1px dotted black;border-radius: 0.25em;box-sizing: border-box;margin-bottom: 0.5em;}#sk-container-id-6 div.sk-estimator:hover {background-color: #d4ebff;}#sk-container-id-6 div.sk-parallel-item::after {content: \"\";width: 100%;border-bottom: 1px solid gray;flex-grow: 1;}#sk-container-id-6 div.sk-label:hover label.sk-toggleable__label {background-color: #d4ebff;}#sk-container-id-6 div.sk-serial::before {content: \"\";position: absolute;border-left: 1px solid gray;box-sizing: border-box;top: 0;bottom: 0;left: 50%;z-index: 0;}#sk-container-id-6 div.sk-serial {display: flex;flex-direction: column;align-items: center;background-color: white;padding-right: 0.2em;padding-left: 0.2em;position: relative;}#sk-container-id-6 div.sk-item {position: relative;z-index: 1;}#sk-container-id-6 div.sk-parallel {display: flex;align-items: stretch;justify-content: center;background-color: white;position: relative;}#sk-container-id-6 div.sk-item::before, #sk-container-id-6 div.sk-parallel-item::before {content: \"\";position: absolute;border-left: 1px solid gray;box-sizing: border-box;top: 0;bottom: 0;left: 50%;z-index: -1;}#sk-container-id-6 div.sk-parallel-item {display: flex;flex-direction: column;z-index: 1;position: relative;background-color: white;}#sk-container-id-6 div.sk-parallel-item:first-child::after {align-self: flex-end;width: 50%;}#sk-container-id-6 div.sk-parallel-item:last-child::after {align-self: flex-start;width: 50%;}#sk-container-id-6 div.sk-parallel-item:only-child::after {width: 0;}#sk-container-id-6 div.sk-dashed-wrapped {border: 1px dashed gray;margin: 0 0.4em 0.5em 0.4em;box-sizing: border-box;padding-bottom: 0.4em;background-color: white;}#sk-container-id-6 div.sk-label label {font-family: monospace;font-weight: bold;display: inline-block;line-height: 1.2em;}#sk-container-id-6 div.sk-label-container {text-align: center;}#sk-container-id-6 div.sk-container {/* jupyter's `normalize.less` sets `[hidden] { display: none; }` but bootstrap.min.css set `[hidden] { display: none !important; }` so we also need the `!important` here to be able to override the default hidden behavior on the sphinx rendered scikit-learn.org. See: https://github.com/scikit-learn/scikit-learn/issues/21755 */display: inline-block !important;position: relative;}#sk-container-id-6 div.sk-text-repr-fallback {display: none;}</style><div id=\"sk-container-id-6\" class=\"sk-top-container\"><div class=\"sk-text-repr-fallback\"><pre>SVC(gamma=0.1)</pre><b>In a Jupyter environment, please rerun this cell to show the HTML representation or trust the notebook. <br />On GitHub, the HTML representation is unable to render, please try loading this page with nbviewer.org.</b></div><div class=\"sk-container\" hidden><div class=\"sk-item\"><div class=\"sk-estimator sk-toggleable\"><input class=\"sk-toggleable__control sk-hidden--visually\" id=\"sk-estimator-id-6\" type=\"checkbox\" checked><label for=\"sk-estimator-id-6\" class=\"sk-toggleable__label sk-toggleable__label-arrow\">SVC</label><div class=\"sk-toggleable__content\"><pre>SVC(gamma=0.1)</pre></div></div></div></div></div>"
            ]
          },
          "metadata": {},
          "execution_count": 75
        }
      ],
      "source": [
        "from sklearn.svm import SVC\n",
        "from sklearn.model_selection import GridSearchCV\n",
        "\n",
        "svm_clf = SVC(kernel='rbf', gamma=0.1, C=1.0)\n",
        "svm_clf.fit(X_train, Y_train)"
      ]
    },
    {
      "cell_type": "code",
      "execution_count": null,
      "metadata": {
        "colab": {
          "base_uri": "https://localhost:8080/"
        },
        "id": "2nqhcafUn-H3",
        "outputId": "8f372bb3-2754-4faa-ca8e-885d4fd147b3"
      },
      "outputs": [
        {
          "output_type": "stream",
          "name": "stdout",
          "text": [
            "              precision    recall  f1-score   support\n",
            "\n",
            "           0       0.79      0.45      0.57      4877\n",
            "           1       0.61      0.88      0.72      4878\n",
            "\n",
            "    accuracy                           0.66      9755\n",
            "   macro avg       0.70      0.66      0.65      9755\n",
            "weighted avg       0.70      0.66      0.65      9755\n",
            "\n"
          ]
        }
      ],
      "source": [
        "print(classification_report(Y_test, svm_clf.predict(X_test)))\n"
      ]
    },
    {
      "cell_type": "code",
      "execution_count": null,
      "metadata": {
        "colab": {
          "base_uri": "https://localhost:8080/",
          "height": 607
        },
        "id": "y0n56DBmoJMc",
        "outputId": "237c2672-0677-42db-e47a-2605e7f9bc6d"
      },
      "outputs": [
        {
          "output_type": "display_data",
          "data": {
            "text/plain": [
              "<Figure size 800x600 with 1 Axes>"
            ],
            "image/png": "[encoded data removed]"
          },
          "metadata": {}
        }
      ],
      "source": [
        "from sklearn.metrics import roc_curve, auc\n",
        "\n",
        "fig, (ax2) = plt.subplots(figsize = (8,6))\n",
        "        #roc-curve\n",
        "fpr, tpr, thresholds_roc = roc_curve(Y_test, svm_clf.predict(X_test))\n",
        "roc_auc = auc(fpr,tpr)\n",
        "ax2.plot(fpr,tpr, label = \" AUROC = {:0.2f}\".format(roc_auc))\n",
        "ax2.plot([0,1], [0,1], 'r', linestyle = \"--\", lw = 2)\n",
        "ax2.set_xlabel(\"False Positive Rate\", fontsize = 14)\n",
        "ax2.set_ylabel(\"True Positive Rate\", fontsize = 14)\n",
        "ax2.set_title(\"ROC Curve\", fontsize = 18)\n",
        "ax2.legend(loc = 'best')\n",
        "plt.title('ROC curve for  Classifier ')\n",
        "plt.xlabel('False Positive Rate (1 - Specificity)')\n",
        "plt.ylabel('True Positive Rate (Sensitivity)')\n",
        "        #find default threshold\n",
        "close_default = np.argmin(np.abs(thresholds_roc - 0.5))\n",
        "ax2.plot(fpr[close_default], tpr[close_default], 'o', markersize = 8)\n",
        "plt.tight_layout()"
      ]
    },
    {
      "cell_type": "markdown",
      "source": [
        "#Feature Importance"
      ],
      "metadata": {
        "id": "CsjmiQhA_LJR"
      }
    },
    {
      "cell_type": "code",
      "source": [
        "def feature_imp(df, model):\n",
        "    fi = pd.DataFrame()\n",
        "    fi[\"feature\"] = df.columns\n",
        "    fi[\"importance\"] = model.feature_importances_\n",
        "    return fi.sort_values(by=\"importance\", ascending=False)"
      ],
      "metadata": {
        "id": "8Y49lHfs_KcO"
      },
      "execution_count": null,
      "outputs": []
    },
    {
      "cell_type": "code",
      "source": [
        "feature_imp(X,clf_rf).plot(kind='barh', figsize=(12,7), legend=False)\n"
      ],
      "metadata": {
        "colab": {
          "base_uri": "https://localhost:8080/",
          "height": 616
        },
        "id": "xEl1FJCg_UFl",
        "outputId": "53cc7591-bffd-49c2-ffea-930739286437"
      },
      "execution_count": null,
      "outputs": [
        {
          "output_type": "execute_result",
          "data": {
            "text/plain": [
              "<Axes: >"
            ]
          },
          "metadata": {},
          "execution_count": 212
        },
        {
          "output_type": "display_data",
          "data": {
            "text/plain": [
              "<Figure size 1200x700 with 1 Axes>"
            ],
            "image/png": "[encoded data removed]"
          },
          "metadata": {}
        }
      ]
    },
    {
      "cell_type": "code",
      "source": [
        "X.info()"
      ],
      "metadata": {
        "colab": {
          "base_uri": "https://localhost:8080/"
        },
        "id": "IqaM9IDPAzXy",
        "outputId": "65e7f40e-14bd-43b3-ea99-85ef0411b2d1"
      },
      "execution_count": null,
      "outputs": [
        {
          "output_type": "stream",
          "name": "stdout",
          "text": [
            "<class 'pandas.core.frame.DataFrame'>\n",
            "RangeIndex: 64442 entries, 0 to 64441\n",
            "Data columns (total 25 columns):\n",
            " #   Column                                               Non-Null Count  Dtype  \n",
            "---  ------                                               --------------  -----  \n",
            " 0   Patient Age at Treatment                             64442 non-null  float64\n",
            " 1   Total Number of Previous IVF cycles                  64442 non-null  float64\n",
            " 2   Total number of IVF pregnancies                      64442 non-null  float64\n",
            " 3   Total number of live births - conceived through IVF  64442 non-null  float64\n",
            " 4   Type of Infertility - Female Primary                 64442 non-null  float64\n",
            " 5   Type of Infertility - Female Secondary               64442 non-null  float64\n",
            " 6   Type of Infertility - Male Primary                   64442 non-null  float64\n",
            " 7   Type of Infertility - Male Secondary                 64442 non-null  float64\n",
            " 8   Type of Infertility -Couple Primary                  64442 non-null  float64\n",
            " 9   Type of Infertility -Couple Secondary                64442 non-null  float64\n",
            " 10  Cause  of Infertility - Tubal disease                64442 non-null  float64\n",
            " 11  Cause of Infertility - Ovulatory Disorder            64442 non-null  float64\n",
            " 12  Cause of Infertility - Male Factor                   64442 non-null  float64\n",
            " 13  Cause of Infertility - Patient Unexplained           64442 non-null  float64\n",
            " 14  Cause of Infertility - Endometriosis                 64442 non-null  float64\n",
            " 15  Cause of Infertility - Cervical factors              64442 non-null  float64\n",
            " 16  Cause of Infertility - Partner Sperm Concentration   64442 non-null  float64\n",
            " 17  Cause of Infertility -  Partner Sperm Morphology     64442 non-null  float64\n",
            " 18  Causes of Infertility - Partner Sperm Motility       64442 non-null  float64\n",
            " 19  Fresh Cycle                                          64442 non-null  float64\n",
            " 20  Frozen Cycle                                         64442 non-null  float64\n",
            " 21  Eggs Thawed                                          64442 non-null  float64\n",
            " 22  Fresh Eggs Collected                                 64442 non-null  float64\n",
            " 23  Eggs Mixed With Partner Sperm                        64442 non-null  float64\n",
            " 24  Embryos Transfered                                   64442 non-null  float64\n",
            "dtypes: float64(25)\n",
            "memory usage: 12.3 MB\n"
          ]
        }
      ]
    }
  ],
  "metadata": {
    "colab": {
      "provenance": [],
      "include_colab_link": true
    },
    "kernelspec": {
      "display_name": "Python 3 (ipykernel)",
      "language": "python",
      "name": "python3"
    },
    "language_info": {
      "codemirror_mode": {
        "name": "ipython",
        "version": 3
      },
      "file_extension": ".py",
      "mimetype": "text/x-python",
      "name": "python",
      "nbconvert_exporter": "python",
      "pygments_lexer": "ipython3",
      "version": "3.9.13"
    }
  },
  "nbformat": 4,
  "nbformat_minor": 0
}