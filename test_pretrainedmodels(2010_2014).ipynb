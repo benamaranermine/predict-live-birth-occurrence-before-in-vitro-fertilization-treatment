{
  "cells": [
    {
      "cell_type": "markdown",
      "metadata": {
        "id": "view-in-github",
        "colab_type": "text"
      },
      "source": [
        "<a href=\"https://colab.research.google.com/github/benamaranermine/predict-live-birth-occurrence-before-in-vitro-fertilization-treatment/blob/main/test_pretrainedmodels(2010_2014).ipynb\" target=\"_parent\"><img src=\"https://colab.research.google.com/assets/colab-badge.svg\" alt=\"Open In Colab\"/></a>"
      ]
    },
    {
      "cell_type": "code",
      "execution_count": 49,
      "metadata": {
        "id": "hgbZDHUj669c"
      },
      "outputs": [],
      "source": [
        "import numpy as np\n",
        "import pandas as pd\n",
        "import matplotlib.pyplot as plt\n",
        "import seaborn as sns\n",
        "import warnings\n",
        "warnings.filterwarnings('ignore') # filter the warnings\n",
        "\n",
        "from sklearn.model_selection import train_test_split\n",
        "from sklearn.preprocessing import StandardScaler\n",
        "from sklearn.linear_model import LinearRegression\n",
        "from sklearn.ensemble import RandomForestRegressor\n",
        "from sklearn.svm import SVR\n",
        "from sklearn import metrics\n",
        "from sklearn.model_selection import RandomizedSearchCV\n",
        "\n",
        "import pandas as pd\n",
        "import numpy as np\n",
        "from numpy import genfromtxt\n",
        "import csv\n",
        "from sklearn import model_selection\n",
        "from sklearn.model_selection import StratifiedKFold, StratifiedShuffleSplit\n",
        "from sklearn.feature_selection import RFECV,SelectFromModel\n",
        "from sklearn.linear_model import LogisticRegression\n",
        "from sklearn.svm import SVR, SVC, LinearSVC\n",
        "from google.colab import drive\n",
        "\n"
      ]
    },
    {
      "cell_type": "code",
      "execution_count": 50,
      "metadata": {
        "colab": {
          "base_uri": "https://localhost:8080/"
        },
        "id": "B4kIu7uU63Ac",
        "outputId": "01d86405-b94d-496f-b886-30c101fdd622"
      },
      "outputs": [
        {
          "output_type": "stream",
          "name": "stdout",
          "text": [
            "Drive already mounted at /content/drive; to attempt to forcibly remount, call drive.mount(\"/content/drive\", force_remount=True).\n"
          ]
        }
      ],
      "source": [
        "drive.mount('/content/drive')\n"
      ]
    },
    {
      "cell_type": "code",
      "execution_count": 51,
      "metadata": {
        "id": "OzCtrMA1VtD9"
      },
      "outputs": [],
      "source": [
        "file_path = '/content/drive/MyDrive/ar-2010-2014.xlsx'\n",
        "data = pd.read_excel(file_path)"
      ]
    },
    {
      "cell_type": "code",
      "source": [
        "data"
      ],
      "metadata": {
        "id": "gEpfChqrx6yH",
        "outputId": "48d7aba9-7a62-4fd9-83d9-7d00064cd277",
        "colab": {
          "base_uri": "https://localhost:8080/",
          "height": 626
        }
      },
      "execution_count": null,
      "outputs": [
        {
          "output_type": "execute_result",
          "data": {
            "text/plain": [
              "      Patient Age at Treatment  \\\n",
              "0                        40-42   \n",
              "1                        45-50   \n",
              "2                        35-37   \n",
              "3                      18 - 34   \n",
              "4                      18 - 34   \n",
              "...                        ...   \n",
              "65530                    35-37   \n",
              "65531                  18 - 34   \n",
              "65532                    35-37   \n",
              "65533                  18 - 34   \n",
              "65534                  18 - 34   \n",
              "\n",
              "       Date patient started trying to become pregnant OR date of last pregnancy  \\\n",
              "0                                                    NaN                          \n",
              "1                                                    NaN                          \n",
              "2                                                    NaN                          \n",
              "3                                                    NaN                          \n",
              "4                                                    NaN                          \n",
              "...                                                  ...                          \n",
              "65530                                                NaN                          \n",
              "65531                                                NaN                          \n",
              "65532                                                NaN                          \n",
              "65533                                                NaN                          \n",
              "65534                                                NaN                          \n",
              "\n",
              "      Total Number of Previous cycles, Both IVF and DI  \\\n",
              "0                                                    2   \n",
              "1                                                    3   \n",
              "2                                                    0   \n",
              "3                                                    2   \n",
              "4                                                    5   \n",
              "...                                                ...   \n",
              "65530                                                0   \n",
              "65531                                                1   \n",
              "65532                                                3   \n",
              "65533                                                1   \n",
              "65534                                                2   \n",
              "\n",
              "      Total Number of Previous treatments, Both IVF and DI at clinic  \\\n",
              "0                                                      2               \n",
              "1                                                      3               \n",
              "2                                                      0               \n",
              "3                                                      2               \n",
              "4                                                      5               \n",
              "...                                                  ...               \n",
              "65530                                                  0               \n",
              "65531                                                  1               \n",
              "65532                                                  3               \n",
              "65533                                                  1               \n",
              "65534                                                  2               \n",
              "\n",
              "      Total Number of Previous IVF cycles Total Number of Previous DI cycles  \\\n",
              "0                                       2                                  0   \n",
              "1                                       3                                  0   \n",
              "2                                       0                                  0   \n",
              "3                                       2                                  0   \n",
              "4                                       5                                  0   \n",
              "...                                   ...                                ...   \n",
              "65530                                   0                                  0   \n",
              "65531                                   1                                  0   \n",
              "65532                                   3                                  0   \n",
              "65533                                   1                                  0   \n",
              "65534                                   2                                  0   \n",
              "\n",
              "      Total number of previous pregnancies, Both IVF and DI  \\\n",
              "0                                                      0      \n",
              "1                                                      0      \n",
              "2                                                      0      \n",
              "3                                                      0      \n",
              "4                                                      1      \n",
              "...                                                  ...      \n",
              "65530                                                  0      \n",
              "65531                                                  0      \n",
              "65532                                                  0      \n",
              "65533                                                  1      \n",
              "65534                                                  0      \n",
              "\n",
              "      Total number of IVF pregnancies  Total number of DI pregnancies  \\\n",
              "0                                   0                               0   \n",
              "1                                   0                               0   \n",
              "2                                   0                               0   \n",
              "3                                   0                               0   \n",
              "4                                   1                               0   \n",
              "...                               ...                             ...   \n",
              "65530                               0                               0   \n",
              "65531                               0                               0   \n",
              "65532                               0                               0   \n",
              "65533                               1                               0   \n",
              "65534                               0                               0   \n",
              "\n",
              "       Total number of live births - conceived through IVF or DI  ...  \\\n",
              "0                                                      0          ...   \n",
              "1                                                      0          ...   \n",
              "2                                                      0          ...   \n",
              "3                                                      0          ...   \n",
              "4                                                      1          ...   \n",
              "...                                                  ...          ...   \n",
              "65530                                                  0          ...   \n",
              "65531                                                  0          ...   \n",
              "65532                                                  0          ...   \n",
              "65533                                                  1          ...   \n",
              "65534                                                  0          ...   \n",
              "\n",
              "       Heart Three Birth Weight  Heart Three Sex  Heart Three Delivery Date  \\\n",
              "0                           NaN              NaN                        NaN   \n",
              "1                           NaN              NaN                        NaN   \n",
              "2                           NaN              NaN                        NaN   \n",
              "3                           NaN              NaN                        NaN   \n",
              "4                           NaN              NaN                        NaN   \n",
              "...                         ...              ...                        ...   \n",
              "65530                       NaN              NaN                        NaN   \n",
              "65531                       NaN              NaN                        NaN   \n",
              "65532                       NaN              NaN                        NaN   \n",
              "65533                       NaN              NaN                        NaN   \n",
              "65534                       NaN              NaN                        NaN   \n",
              "\n",
              "       Heart Three Birth Congenital Abnormalities  Heart Four Weeks Gestation  \\\n",
              "0                                             NaN                         NaN   \n",
              "1                                             NaN                         NaN   \n",
              "2                                             NaN                         NaN   \n",
              "3                                             NaN                         NaN   \n",
              "4                                             NaN                         NaN   \n",
              "...                                           ...                         ...   \n",
              "65530                                         NaN                         NaN   \n",
              "65531                                         NaN                         NaN   \n",
              "65532                                         NaN                         NaN   \n",
              "65533                                         NaN                         NaN   \n",
              "65534                                         NaN                         NaN   \n",
              "\n",
              "       Heart Four Birth Outcome  Heart Four Birth Weight  Heart Four Sex  \\\n",
              "0                           NaN                      NaN             NaN   \n",
              "1                           NaN                      NaN             NaN   \n",
              "2                           NaN                      NaN             NaN   \n",
              "3                           NaN                      NaN             NaN   \n",
              "4                           NaN                      NaN             NaN   \n",
              "...                         ...                      ...             ...   \n",
              "65530                       NaN                      NaN             NaN   \n",
              "65531                       NaN                      NaN             NaN   \n",
              "65532                       NaN                      NaN             NaN   \n",
              "65533                       NaN                      NaN             NaN   \n",
              "65534                       NaN                      NaN             NaN   \n",
              "\n",
              "       Heart Four Delivery Date  Heart Four Birth Congenital Abnormalities  \n",
              "0                           NaN                                        NaN  \n",
              "1                           NaN                                        NaN  \n",
              "2                           NaN                                        NaN  \n",
              "3                           NaN                                        NaN  \n",
              "4                           NaN                                        NaN  \n",
              "...                         ...                                        ...  \n",
              "65530                       NaN                                        NaN  \n",
              "65531                       NaN                                        NaN  \n",
              "65532                       NaN                                        NaN  \n",
              "65533                       NaN                                        NaN  \n",
              "65534                       NaN                                        NaN  \n",
              "\n",
              "[65535 rows x 95 columns]"
            ],
            "text/html": [
              "\n",
              "  <div id=\"df-d3aa5d9f-344d-4c01-a266-86834de384ee\">\n",
              "    <div class=\"colab-df-container\">\n",
              "      <div>\n",
              "<style scoped>\n",
              "    .dataframe tbody tr th:only-of-type {\n",
              "        vertical-align: middle;\n",
              "    }\n",
              "\n",
              "    .dataframe tbody tr th {\n",
              "        vertical-align: top;\n",
              "    }\n",
              "\n",
              "    .dataframe thead th {\n",
              "        text-align: right;\n",
              "    }\n",
              "</style>\n",
              "<table border=\"1\" class=\"dataframe\">\n",
              "  <thead>\n",
              "    <tr style=\"text-align: right;\">\n",
              "      <th></th>\n",
              "      <th>Patient Age at Treatment</th>\n",
              "      <th>Date patient started trying to become pregnant OR date of last pregnancy</th>\n",
              "      <th>Total Number of Previous cycles, Both IVF and DI</th>\n",
              "      <th>Total Number of Previous treatments, Both IVF and DI at clinic</th>\n",
              "      <th>Total Number of Previous IVF cycles</th>\n",
              "      <th>Total Number of Previous DI cycles</th>\n",
              "      <th>Total number of previous pregnancies, Both IVF and DI</th>\n",
              "      <th>Total number of IVF pregnancies</th>\n",
              "      <th>Total number of DI pregnancies</th>\n",
              "      <th>Total number of live births - conceived through IVF or DI</th>\n",
              "      <th>...</th>\n",
              "      <th>Heart Three Birth Weight</th>\n",
              "      <th>Heart Three Sex</th>\n",
              "      <th>Heart Three Delivery Date</th>\n",
              "      <th>Heart Three Birth Congenital Abnormalities</th>\n",
              "      <th>Heart Four Weeks Gestation</th>\n",
              "      <th>Heart Four Birth Outcome</th>\n",
              "      <th>Heart Four Birth Weight</th>\n",
              "      <th>Heart Four Sex</th>\n",
              "      <th>Heart Four Delivery Date</th>\n",
              "      <th>Heart Four Birth Congenital Abnormalities</th>\n",
              "    </tr>\n",
              "  </thead>\n",
              "  <tbody>\n",
              "    <tr>\n",
              "      <th>0</th>\n",
              "      <td>40-42</td>\n",
              "      <td>NaN</td>\n",
              "      <td>2</td>\n",
              "      <td>2</td>\n",
              "      <td>2</td>\n",
              "      <td>0</td>\n",
              "      <td>0</td>\n",
              "      <td>0</td>\n",
              "      <td>0</td>\n",
              "      <td>0</td>\n",
              "      <td>...</td>\n",
              "      <td>NaN</td>\n",
              "      <td>NaN</td>\n",
              "      <td>NaN</td>\n",
              "      <td>NaN</td>\n",
              "      <td>NaN</td>\n",
              "      <td>NaN</td>\n",
              "      <td>NaN</td>\n",
              "      <td>NaN</td>\n",
              "      <td>NaN</td>\n",
              "      <td>NaN</td>\n",
              "    </tr>\n",
              "    <tr>\n",
              "      <th>1</th>\n",
              "      <td>45-50</td>\n",
              "      <td>NaN</td>\n",
              "      <td>3</td>\n",
              "      <td>3</td>\n",
              "      <td>3</td>\n",
              "      <td>0</td>\n",
              "      <td>0</td>\n",
              "      <td>0</td>\n",
              "      <td>0</td>\n",
              "      <td>0</td>\n",
              "      <td>...</td>\n",
              "      <td>NaN</td>\n",
              "      <td>NaN</td>\n",
              "      <td>NaN</td>\n",
              "      <td>NaN</td>\n",
              "      <td>NaN</td>\n",
              "      <td>NaN</td>\n",
              "      <td>NaN</td>\n",
              "      <td>NaN</td>\n",
              "      <td>NaN</td>\n",
              "      <td>NaN</td>\n",
              "    </tr>\n",
              "    <tr>\n",
              "      <th>2</th>\n",
              "      <td>35-37</td>\n",
              "      <td>NaN</td>\n",
              "      <td>0</td>\n",
              "      <td>0</td>\n",
              "      <td>0</td>\n",
              "      <td>0</td>\n",
              "      <td>0</td>\n",
              "      <td>0</td>\n",
              "      <td>0</td>\n",
              "      <td>0</td>\n",
              "      <td>...</td>\n",
              "      <td>NaN</td>\n",
              "      <td>NaN</td>\n",
              "      <td>NaN</td>\n",
              "      <td>NaN</td>\n",
              "      <td>NaN</td>\n",
              "      <td>NaN</td>\n",
              "      <td>NaN</td>\n",
              "      <td>NaN</td>\n",
              "      <td>NaN</td>\n",
              "      <td>NaN</td>\n",
              "    </tr>\n",
              "    <tr>\n",
              "      <th>3</th>\n",
              "      <td>18 - 34</td>\n",
              "      <td>NaN</td>\n",
              "      <td>2</td>\n",
              "      <td>2</td>\n",
              "      <td>2</td>\n",
              "      <td>0</td>\n",
              "      <td>0</td>\n",
              "      <td>0</td>\n",
              "      <td>0</td>\n",
              "      <td>0</td>\n",
              "      <td>...</td>\n",
              "      <td>NaN</td>\n",
              "      <td>NaN</td>\n",
              "      <td>NaN</td>\n",
              "      <td>NaN</td>\n",
              "      <td>NaN</td>\n",
              "      <td>NaN</td>\n",
              "      <td>NaN</td>\n",
              "      <td>NaN</td>\n",
              "      <td>NaN</td>\n",
              "      <td>NaN</td>\n",
              "    </tr>\n",
              "    <tr>\n",
              "      <th>4</th>\n",
              "      <td>18 - 34</td>\n",
              "      <td>NaN</td>\n",
              "      <td>5</td>\n",
              "      <td>5</td>\n",
              "      <td>5</td>\n",
              "      <td>0</td>\n",
              "      <td>1</td>\n",
              "      <td>1</td>\n",
              "      <td>0</td>\n",
              "      <td>1</td>\n",
              "      <td>...</td>\n",
              "      <td>NaN</td>\n",
              "      <td>NaN</td>\n",
              "      <td>NaN</td>\n",
              "      <td>NaN</td>\n",
              "      <td>NaN</td>\n",
              "      <td>NaN</td>\n",
              "      <td>NaN</td>\n",
              "      <td>NaN</td>\n",
              "      <td>NaN</td>\n",
              "      <td>NaN</td>\n",
              "    </tr>\n",
              "    <tr>\n",
              "      <th>...</th>\n",
              "      <td>...</td>\n",
              "      <td>...</td>\n",
              "      <td>...</td>\n",
              "      <td>...</td>\n",
              "      <td>...</td>\n",
              "      <td>...</td>\n",
              "      <td>...</td>\n",
              "      <td>...</td>\n",
              "      <td>...</td>\n",
              "      <td>...</td>\n",
              "      <td>...</td>\n",
              "      <td>...</td>\n",
              "      <td>...</td>\n",
              "      <td>...</td>\n",
              "      <td>...</td>\n",
              "      <td>...</td>\n",
              "      <td>...</td>\n",
              "      <td>...</td>\n",
              "      <td>...</td>\n",
              "      <td>...</td>\n",
              "      <td>...</td>\n",
              "    </tr>\n",
              "    <tr>\n",
              "      <th>65530</th>\n",
              "      <td>35-37</td>\n",
              "      <td>NaN</td>\n",
              "      <td>0</td>\n",
              "      <td>0</td>\n",
              "      <td>0</td>\n",
              "      <td>0</td>\n",
              "      <td>0</td>\n",
              "      <td>0</td>\n",
              "      <td>0</td>\n",
              "      <td>0</td>\n",
              "      <td>...</td>\n",
              "      <td>NaN</td>\n",
              "      <td>NaN</td>\n",
              "      <td>NaN</td>\n",
              "      <td>NaN</td>\n",
              "      <td>NaN</td>\n",
              "      <td>NaN</td>\n",
              "      <td>NaN</td>\n",
              "      <td>NaN</td>\n",
              "      <td>NaN</td>\n",
              "      <td>NaN</td>\n",
              "    </tr>\n",
              "    <tr>\n",
              "      <th>65531</th>\n",
              "      <td>18 - 34</td>\n",
              "      <td>NaN</td>\n",
              "      <td>1</td>\n",
              "      <td>1</td>\n",
              "      <td>1</td>\n",
              "      <td>0</td>\n",
              "      <td>0</td>\n",
              "      <td>0</td>\n",
              "      <td>0</td>\n",
              "      <td>0</td>\n",
              "      <td>...</td>\n",
              "      <td>NaN</td>\n",
              "      <td>NaN</td>\n",
              "      <td>NaN</td>\n",
              "      <td>NaN</td>\n",
              "      <td>NaN</td>\n",
              "      <td>NaN</td>\n",
              "      <td>NaN</td>\n",
              "      <td>NaN</td>\n",
              "      <td>NaN</td>\n",
              "      <td>NaN</td>\n",
              "    </tr>\n",
              "    <tr>\n",
              "      <th>65532</th>\n",
              "      <td>35-37</td>\n",
              "      <td>NaN</td>\n",
              "      <td>3</td>\n",
              "      <td>3</td>\n",
              "      <td>3</td>\n",
              "      <td>0</td>\n",
              "      <td>0</td>\n",
              "      <td>0</td>\n",
              "      <td>0</td>\n",
              "      <td>0</td>\n",
              "      <td>...</td>\n",
              "      <td>NaN</td>\n",
              "      <td>NaN</td>\n",
              "      <td>NaN</td>\n",
              "      <td>NaN</td>\n",
              "      <td>NaN</td>\n",
              "      <td>NaN</td>\n",
              "      <td>NaN</td>\n",
              "      <td>NaN</td>\n",
              "      <td>NaN</td>\n",
              "      <td>NaN</td>\n",
              "    </tr>\n",
              "    <tr>\n",
              "      <th>65533</th>\n",
              "      <td>18 - 34</td>\n",
              "      <td>NaN</td>\n",
              "      <td>1</td>\n",
              "      <td>1</td>\n",
              "      <td>1</td>\n",
              "      <td>0</td>\n",
              "      <td>1</td>\n",
              "      <td>1</td>\n",
              "      <td>0</td>\n",
              "      <td>1</td>\n",
              "      <td>...</td>\n",
              "      <td>NaN</td>\n",
              "      <td>NaN</td>\n",
              "      <td>NaN</td>\n",
              "      <td>NaN</td>\n",
              "      <td>NaN</td>\n",
              "      <td>NaN</td>\n",
              "      <td>NaN</td>\n",
              "      <td>NaN</td>\n",
              "      <td>NaN</td>\n",
              "      <td>NaN</td>\n",
              "    </tr>\n",
              "    <tr>\n",
              "      <th>65534</th>\n",
              "      <td>18 - 34</td>\n",
              "      <td>NaN</td>\n",
              "      <td>2</td>\n",
              "      <td>2</td>\n",
              "      <td>2</td>\n",
              "      <td>0</td>\n",
              "      <td>0</td>\n",
              "      <td>0</td>\n",
              "      <td>0</td>\n",
              "      <td>0</td>\n",
              "      <td>...</td>\n",
              "      <td>NaN</td>\n",
              "      <td>NaN</td>\n",
              "      <td>NaN</td>\n",
              "      <td>NaN</td>\n",
              "      <td>NaN</td>\n",
              "      <td>NaN</td>\n",
              "      <td>NaN</td>\n",
              "      <td>NaN</td>\n",
              "      <td>NaN</td>\n",
              "      <td>NaN</td>\n",
              "    </tr>\n",
              "  </tbody>\n",
              "</table>\n",
              "<p>65535 rows × 95 columns</p>\n",
              "</div>\n",
              "      <button class=\"colab-df-convert\" onclick=\"convertToInteractive('df-d3aa5d9f-344d-4c01-a266-86834de384ee')\"\n",
              "              title=\"Convert this dataframe to an interactive table.\"\n",
              "              style=\"display:none;\">\n",
              "        \n",
              "  <svg xmlns=\"http://www.w3.org/2000/svg\" height=\"24px\"viewBox=\"0 0 24 24\"\n",
              "       width=\"24px\">\n",
              "    <path d=\"M0 0h24v24H0V0z\" fill=\"none\"/>\n",
              "    <path d=\"M18.56 5.44l.94 2.06.94-2.06 2.06-.94-2.06-.94-.94-2.06-.94 2.06-2.06.94zm-11 1L8.5 8.5l.94-2.06 2.06-.94-2.06-.94L8.5 2.5l-.94 2.06-2.06.94zm10 10l.94 2.06.94-2.06 2.06-.94-2.06-.94-.94-2.06-.94 2.06-2.06.94z\"/><path d=\"M17.41 7.96l-1.37-1.37c-.4-.4-.92-.59-1.43-.59-.52 0-1.04.2-1.43.59L10.3 9.45l-7.72 7.72c-.78.78-.78 2.05 0 2.83L4 21.41c.39.39.9.59 1.41.59.51 0 1.02-.2 1.41-.59l7.78-7.78 2.81-2.81c.8-.78.8-2.07 0-2.86zM5.41 20L4 18.59l7.72-7.72 1.47 1.35L5.41 20z\"/>\n",
              "  </svg>\n",
              "      </button>\n",
              "      \n",
              "  <style>\n",
              "    .colab-df-container {\n",
              "      display:flex;\n",
              "      flex-wrap:wrap;\n",
              "      gap: 12px;\n",
              "    }\n",
              "\n",
              "    .colab-df-convert {\n",
              "      background-color: #E8F0FE;\n",
              "      border: none;\n",
              "      border-radius: 50%;\n",
              "      cursor: pointer;\n",
              "      display: none;\n",
              "      fill: #1967D2;\n",
              "      height: 32px;\n",
              "      padding: 0 0 0 0;\n",
              "      width: 32px;\n",
              "    }\n",
              "\n",
              "    .colab-df-convert:hover {\n",
              "      background-color: #E2EBFA;\n",
              "      box-shadow: 0px 1px 2px rgba(60, 64, 67, 0.3), 0px 1px 3px 1px rgba(60, 64, 67, 0.15);\n",
              "      fill: #174EA6;\n",
              "    }\n",
              "\n",
              "    [theme=dark] .colab-df-convert {\n",
              "      background-color: #3B4455;\n",
              "      fill: #D2E3FC;\n",
              "    }\n",
              "\n",
              "    [theme=dark] .colab-df-convert:hover {\n",
              "      background-color: #434B5C;\n",
              "      box-shadow: 0px 1px 3px 1px rgba(0, 0, 0, 0.15);\n",
              "      filter: drop-shadow(0px 1px 2px rgba(0, 0, 0, 0.3));\n",
              "      fill: #FFFFFF;\n",
              "    }\n",
              "  </style>\n",
              "\n",
              "      <script>\n",
              "        const buttonEl =\n",
              "          document.querySelector('#df-d3aa5d9f-344d-4c01-a266-86834de384ee button.colab-df-convert');\n",
              "        buttonEl.style.display =\n",
              "          google.colab.kernel.accessAllowed ? 'block' : 'none';\n",
              "\n",
              "        async function convertToInteractive(key) {\n",
              "          const element = document.querySelector('#df-d3aa5d9f-344d-4c01-a266-86834de384ee');\n",
              "          const dataTable =\n",
              "            await google.colab.kernel.invokeFunction('convertToInteractive',\n",
              "                                                     [key], {});\n",
              "          if (!dataTable) return;\n",
              "\n",
              "          const docLinkHtml = 'Like what you see? Visit the ' +\n",
              "            '<a target=\"_blank\" href=https://colab.research.google.com/notebooks/data_table.ipynb>data table notebook</a>'\n",
              "            + ' to learn more about interactive tables.';\n",
              "          element.innerHTML = '';\n",
              "          dataTable['output_type'] = 'display_data';\n",
              "          await google.colab.output.renderOutput(dataTable, element);\n",
              "          const docLink = document.createElement('div');\n",
              "          docLink.innerHTML = docLinkHtml;\n",
              "          element.appendChild(docLink);\n",
              "        }\n",
              "      </script>\n",
              "    </div>\n",
              "  </div>\n",
              "  "
            ]
          },
          "metadata": {},
          "execution_count": 72
        }
      ]
    },
    {
      "cell_type": "code",
      "execution_count": null,
      "metadata": {
        "colab": {
          "base_uri": "https://localhost:8080/"
        },
        "id": "B15PO3-3Fb44",
        "outputId": "67fb8acd-3224-4039-be42-2573db2249c2"
      },
      "outputs": [
        {
          "output_type": "stream",
          "name": "stdout",
          "text": [
            "Patient Age at Treatment has : ['40-42' '45-50' '35-37' '18 - 34' '43-44' '38-39' '999'] unique values\n",
            "\n",
            "Date patient started trying to become pregnant OR date of last pregnancy has : [nan 13. 11. 10. 15. 16. 17. 14. 19. 12. 18. 20.  6.  9.  5.  8.  3.] unique values\n",
            "\n",
            "Total Number of Previous cycles, Both IVF and DI has : ['2' '3' '0' '5' '>=5' '1' '4'] unique values\n",
            "\n",
            "Total Number of Previous treatments, Both IVF and DI at clinic has : ['2' '3' '0' '5' '1' '>=5' '4'] unique values\n",
            "\n",
            "Total Number of Previous IVF cycles has : ['2' '3' '0' '5' '4' '1' '>=5'] unique values\n",
            "\n",
            "Total Number of Previous DI cycles has : ['0' '3' '>=5' '1' '2' '4' '5'] unique values\n",
            "\n",
            "Total number of previous pregnancies, Both IVF and DI has : ['0' '1' '2' '4' '3' '5' '>=5'] unique values\n",
            "\n",
            "Total number of IVF pregnancies has : ['0' '1' '2' '4' '3' '5' '>=5'] unique values\n",
            "\n",
            "Total number of DI pregnancies has : [0 1 3 2 4] unique values\n",
            "\n",
            "Total number of live births - conceived through IVF or DI has : [0 1 2 3 5 4] unique values\n",
            "\n",
            "Total number of live births - conceived through IVF has : [0 1 2 3 5 4] unique values\n",
            "\n",
            "Total number of live births - conceived through DI has : [0 1 2 3] unique values\n",
            "\n",
            "Type of Infertility - Female Primary has : [0 1] unique values\n",
            "\n",
            "Type of Infertility - Female Secondary has : [0 1] unique values\n",
            "\n",
            "Type of Infertility - Male Primary has : [0 1] unique values\n",
            "\n",
            "Type of Infertility - Male Secondary has : [0 1] unique values\n",
            "\n",
            "Type of Infertility -Couple Primary has : [0 1] unique values\n",
            "\n",
            "Type of Infertility -Couple Secondary has : [0 1] unique values\n",
            "\n",
            "Cause  of Infertility - Tubal disease has : [0 1] unique values\n",
            "\n",
            "Cause of Infertility - Ovulatory Disorder has : [0 1] unique values\n",
            "\n",
            "Cause of Infertility - Male Factor has : [0 1] unique values\n",
            "\n",
            "Cause of Infertility - Patient Unexplained has : [1 0] unique values\n",
            "\n",
            "Cause of Infertility - Endometriosis has : [0 1] unique values\n",
            "\n",
            "Cause of Infertility - Cervical factors has : [0 1] unique values\n",
            "\n",
            "Cause of Infertility - Female Factors has : [0] unique values\n",
            "\n",
            "Cause of Infertility - Partner Sperm Concentration has : [0 1] unique values\n",
            "\n",
            "Cause of Infertility -  Partner Sperm Morphology has : [0 1] unique values\n",
            "\n",
            "Causes of Infertility - Partner Sperm Motility has : [0 1] unique values\n",
            "\n",
            "Cause of Infertility -  Partner Sperm Immunological factors has : [0] unique values\n",
            "\n",
            "Main Reason for Producing Embroys Storing Eggs has : ['Treatment Now ' 'For Storing Eggs ' 'For Storing Embryos '\n",
            " 'For Donation ' 'Treatment Now ,For Donation '\n",
            " 'For Donation ,For Storing Eggs ' 'Treatment Now ,For Storing Embryos '\n",
            " 'For Donation ,For Storing Embryos '\n",
            " 'Treatment Now ,For Donation ,For Storing Embryos '\n",
            " 'For Storing Embryos ,For Storing Eggs ,For Research '\n",
            " 'For Storing Embryos ,For Storing Eggs '] unique values\n",
            "\n",
            "Stimulation used has : [0 1] unique values\n",
            "\n",
            "Type of Ovulation Induction has : [nan 'Yes but not recorded' 'Cetrotide '] unique values\n",
            "\n",
            "Egg Donor Age at Registration has : [nan 'Between 21 and 25' 'Between 26 and 30' 'Between 31 and 35' '999'\n",
            " '<= 20'] unique values\n",
            "\n",
            "Sperm Donor Age at Registration has : [nan 'Between 26 and 30' 'Between 21 and 25' 'Between 41 and 45'\n",
            " 'Between 31 and 35' '999' '<= 20' 'Between 36 and 40'] unique values\n",
            "\n",
            "Donated embryo has : [0 1] unique values\n",
            "\n",
            "Patient acting as Surrogate has : [0 1] unique values\n",
            "\n",
            "Type of treatment - IVF or DI has : ['IVF'] unique values\n",
            "\n",
            "Specific treatment type has : ['IVF' 'ICSI' 'Unknown' 'IVF:IVF' 'ICSI:ICSI' 'IVF:Unknown' 'ICSI:Unknown'\n",
            " 'ICSI:IVF' 'ICSI / BLASTOCYST ' 'IVF:ICSI' 'ICSI / AH' 'FER' 'IVF / AH'\n",
            " 'IVF / BLASTOCYST'] unique values\n",
            "\n",
            "PGD has : [0 1] unique values\n",
            "\n",
            "PGD treatment has : [nan  1.] unique values\n",
            "\n",
            "PGS has : [nan  1.] unique values\n",
            "\n",
            "PGS Treatment has : [nan  1.] unique values\n",
            "\n",
            "Elective Single Embryo Transfer has : [1 0] unique values\n",
            "\n",
            "Egg Source has : ['Patient' 'Donor'] unique values\n",
            "\n",
            "Sperm From has : ['Partner' 'Donor' 'not assigned' 'Partner & Donor'] unique values\n",
            "\n",
            "Fresh Cycle has : [0 1] unique values\n",
            "\n",
            "Frozen Cycle has : [1 0] unique values\n",
            "\n",
            "Eggs Thawed has : [ 0  3  6  9  8 12  5 10  7 11  4 13 14 16 18  2 15  1 33 17 21 24 19 26\n",
            " 20 25] unique values\n",
            "\n",
            "Fresh Eggs Collected has : ['0' '4' '12' '6' '1' '31' '8' '11' '34' '10' '3' '2' '14' '7' '15' '30'\n",
            " '17' '16' '5' '13' '21' '33' '9' '22' '19' '37' '24' '23' '27' '18' '40'\n",
            " '20' '26' '38' '25' '46' '32' '29' '> 50' '28' '42' '35' '44' '43' '36'\n",
            " '39' '47' '45' '41' '48' '49'] unique values\n",
            "\n",
            "Fresh Eggs Stored has : [ 0  6  4 34 10 17 13  9  1 12 11  5  7  3 27  8 28  2 14 21 18 15 20 16\n",
            " 30 44 24 19 25 35 23 26 22 33] unique values\n",
            "\n",
            "Total Eggs Mixed has : ['0' '3' '4' '6' '1' '13' '8' '11' '10' '7' '15' '9' '21' '2' '17' '12'\n",
            " '5' '16' '33' '14' '24' '20' '23' '19' '18' '22' '27' '25' '26' '47'\n",
            " '> 50' '28' '36' '29' '38' '34' '30' '32' '37' '31' '43' '42' '35' '46'\n",
            " '45' '41' '48' '39' '40' '49' '44'] unique values\n",
            "\n",
            "Eggs Mixed With Partner Sperm has : ['0' '3' '4' '1' '13' '8' '11' '10' '7' '15' '9' '6' '2' '17' '12' '5'\n",
            " '16' '33' '14' '24' '21' '23' '19' '18' '20' '22' '25' '26' '27' '47'\n",
            " '> 50' '28' '36' '29' '38' '34' '30' '37' '31' '43' '32' '42' '35' '46'\n",
            " '45' '41' '48' '39' '40' '49' '44'] unique values\n",
            "\n",
            "Eggs Mixed With Donor sperm has : ['0' '6' '4' '3' '20' '17' '12' '1' '9' '5' '10' '13' '8' '7' '22' '11'\n",
            " '19' '16' '15' '21' '25' '18' '14' '2' '47' '23' '27' '31' '29' '28' '32'\n",
            " '33' '26' '37' '30' '24' '35' '45' '42' '36' '34' '> 50'] unique values\n",
            "\n",
            "Total Embryos Created has : ['0' '3' '4' '1' '8' '6' '2' '9' '7' '5' '12' '17' '13' '10' '11' '24'\n",
            " '14' '15' '16' '18' '19' '20' '26' '43' '28' '23' '21' '> 50' '22' '27'\n",
            " '25' '30' '31' '32' '33' '34' '29' '37' '35' '36' '39'] unique values\n",
            "\n",
            "Eggs Micro-injected has : ['0' '3' '4' '6' '1' '13' '10' '9' '2' '7' '12' '11' '14' '8' '15' '24'\n",
            " '17' '21' '5' '20' '19' '18' '16' '33' '27' '47' '31' '26' '36' '22' '34'\n",
            " '23' '30' '28' '37' '25' '35' '45' '38' '29' '32' '42' '41' '39' '40'\n",
            " '46' '43' '> 50'] unique values\n",
            "\n",
            "Embryos from Eggs Micro-injected has : [ 0  3  4  1  8  6  9  7  5  2 11 14 15 16 10 12 18 13 17 26 20 27 28 22\n",
            " 23 25 21 19 31 24 30 37 32 29 34 39 36] unique values\n",
            "\n",
            "Total Embryos Thawed has : [ 1  0  2  4  3  5  6 10  8 11  7 15  9 14 16 12 13 21 18 19 17 23 22 26\n",
            " 24] unique values\n",
            "\n",
            "Embryos Transfered has : [1 2 0 3] unique values\n",
            "\n",
            "Embryos Transfered from Eggs Micro-injected has : [0 2 3 1] unique values\n",
            "\n",
            "Embryos Stored For Use By Patient has : [ 0  1  2  5  3  8  4  7 10  6  9 11 14 12 20 15 13 22 16 17 23 18 21 19\n",
            " 28 25 24 30 32 34 31 26] unique values\n",
            "\n",
            "Embryos (from Eggs Micro-injected) Stored For Use By Patient has : [ 0  1  3  2  5  7 10  6  4  9 12 11  8 20 15 13 16 17 23 21 14 28 18 25\n",
            " 24 19 30 34 22] unique values\n",
            "\n",
            "Date of Egg Collection has : [nan  0.] unique values\n",
            "\n",
            "Date of Egg Thawing has : [ nan   0. 999.] unique values\n",
            "\n",
            "Date of Egg Mixing has : [ nan   0.   6.   1.   2. 999.   5.   3.   4.] unique values\n",
            "\n",
            "Date of Embryo Thawing has : [  0.  nan   5. 999.   1.   3.   6.   4.   2.   7.] unique values\n",
            "\n",
            "Date of Embryo Transfer has : [  0.   5.  nan   3.   1.   2.   6. 999.   4.   7.] unique values\n",
            "\n",
            "Year of Treatment has : [2016 2015] unique values\n",
            "\n",
            "Live Birth Occurrence has : [ 1. nan] unique values\n",
            "\n",
            "Number of Live Births has : [1 0 2 3] unique values\n",
            "\n",
            "Early Outcome has : ['Intrauterine Fetal Pulsation Seen ' 'None ' nan\n",
            " 'Biochemical Pregnancy Only ' 'Misscarriage '\n",
            " 'Misscarriage ,Intrauterine Fetal Pulsation Seen ' 'Ectopic '\n",
            " 'None ,Intrauterine Fetal Pulsation Seen ' 'Hetrotopic '\n",
            " 'Hetrotopic ,Intrauterine Fetal Pulsation Seen ' 'None ,Misscarriage '\n",
            " 'None ,Biochemical Pregnancy Only '\n",
            " 'Biochemical Pregnancy Only ,Misscarriage ' 'Molar '\n",
            " 'Biochemical Pregnancy Only ,Intrauterine Fetal Pulsation Seen '\n",
            " 'Ectopic ,Hetrotopic '] unique values\n",
            "\n",
            "Number of foetal sacs with fetal pulsation has : [ 1  0  2  3 40] unique values\n",
            "\n",
            "Heart One Weeks Gestation has : ['39' nan '35' '38' 'Greater than 40 weeks' '40' '37' '36'\n",
            " 'Less than 30 weeks' '31' '30' '34' '32' '33'] unique values\n",
            "\n",
            "Heart One Birth Outcome has : ['Live  Birth' nan 'Miscarriage' 'Still Birth' 'Lost to Follow Up'\n",
            " 'Termination' 'Embryo Reduction' 'Ectotopic/Hetrotopic Pregnancy'] unique values\n",
            "\n",
            "Heart One Birth Weight has : ['Between 3.5kg and 3.99Kg' nan 'Between 2.5kg and 2.99Kg'\n",
            " 'Between 3.0kg and 3.49Kg' 'Between 4.5kg and 4.99Kg'\n",
            " 'Between 2.0kg and 2.49Kg' 'Between 4.0kg and 4.49Kg'\n",
            " 'Between 1.5kg and 1.99Kg' 'Between 1kg and 1.49Kg'\n",
            " 'Between 5.0kg and 5.49Kg' 'Less than 1kg' '6kg or greater'\n",
            " 'Between 5.5kg and 5.99Kg'] unique values\n",
            "\n",
            "Heart OneSex has : ['F' nan 'M'] unique values\n",
            "\n",
            "Heart One Delivery Date has : [ 999.   nan 2016. 2015. 2014. 2013.] unique values\n",
            "\n",
            "Heart One Birth Congenital Abnormalities has : [nan] unique values\n",
            "\n",
            "Heart Two Weeks Gestation has : [nan '37' '38' '36' '35' 'Greater than 40 weeks' 'Less than 30 weeks' '39'\n",
            " '33' '34' '40' '31' '32' '30'] unique values\n",
            "\n",
            "Heart Two Birth Outcome has : [nan 'Live  Birth' 'Miscarriage' 'Still Birth' 'Embryo Reduction'\n",
            " 'Ectotopic/Hetrotopic Pregnancy'] unique values\n",
            "\n",
            "Heart Two Birth Weight has : [nan 'Between 1.5kg and 1.99Kg' 'Between 2.5kg and 2.99Kg'\n",
            " 'Between 2.0kg and 2.49Kg' 'Between 3.0kg and 3.49Kg' 'Less than 1kg'\n",
            " 'Between 3.5kg and 3.99Kg' 'Between 4.0kg and 4.49Kg'\n",
            " 'Between 1kg and 1.49Kg' 'Between 4.5kg and 4.99Kg'\n",
            " 'Between 5.5kg and 5.99Kg' 'Between 5.0kg and 5.49Kg' '6kg or greater'] unique values\n",
            "\n",
            "Heart Two Sex has : [nan 'F' 'M'] unique values\n",
            "\n",
            "Heart Two Delivery Date has : [  nan  999. 2016. 2015.] unique values\n",
            "\n",
            "Heart Two Birth Congenital Abnormalities has : [nan] unique values\n",
            "\n",
            "Heart Three Weeks Gestation has : [nan 'Less than 30 weeks' '31' '32' '34' '36' '38' '37' '33' '40' '30'\n",
            " '35'] unique values\n",
            "\n",
            "Heart Three Birth Outcome has : [nan 'Live  Birth' 'Miscarriage' 'Embryo Reduction' 'Still Birth'] unique values\n",
            "\n",
            "Heart Three Birth Weight has : [nan 'Between 1kg and 1.49Kg' 'Between 2.0kg and 2.49Kg'\n",
            " 'Between 1.5kg and 1.99Kg' 'Between 3.5kg and 3.99Kg'\n",
            " 'Between 3.0kg and 3.49Kg' 'Less than 1kg' 'Between 2.5kg and 2.99Kg'] unique values\n",
            "\n",
            "Heart Three Sex has : [nan 'M' 'F'] unique values\n",
            "\n",
            "Heart Three Delivery Date has : [  nan  999. 2016. 2015.] unique values\n",
            "\n",
            "Heart Three Birth Congenital Abnormalities has : [nan] unique values\n",
            "\n",
            "Heart Four Weeks Gestation has : [nan] unique values\n",
            "\n",
            "Heart Four Birth Outcome has : [nan] unique values\n",
            "\n",
            "Heart Four Birth Weight has : [nan] unique values\n",
            "\n",
            "Heart Four Sex has : [nan] unique values\n",
            "\n",
            "Heart Four Delivery Date has : [nan] unique values\n",
            "\n",
            "Heart Four Birth Congenital Abnormalities has : [nan] unique values\n",
            "\n"
          ]
        }
      ],
      "source": [
        "for col in data:\n",
        "    print(f\"{col} has : {data[col].unique()} unique values\\n\")"
      ]
    },
    {
      "cell_type": "code",
      "execution_count": 52,
      "metadata": {
        "id": "bfskz115hvot"
      },
      "outputs": [],
      "source": [
        "selected_features = [\n",
        "    \"Patient Age at Treatment\",\n",
        "    \"Total Number of Previous IVF cycles\",\n",
        "    \"Total number of IVF pregnancies\",\n",
        "    \"Total number of live births - conceived through IVF\",\n",
        "    \"Type of Infertility - Female Primary\",\n",
        "    \"Type of Infertility - Female Secondary\",\n",
        "    \"Type of Infertility - Male Primary\",\n",
        "    \"Type of Infertility - Male Secondary\",\n",
        "    \"Type of Infertility -Couple Primary\",\n",
        "    \"Type of Infertility -Couple Secondary\",\n",
        "    \"Cause  of Infertility - Tubal disease\",\n",
        "    \"Cause of Infertility - Ovulatory Disorder\",\n",
        "    \"Cause of Infertility - Male Factor\",\n",
        "    \"Cause of Infertility - Patient Unexplained\",\n",
        "    \"Cause of Infertility - Endometriosis\",\n",
        "    \"Cause of Infertility - Cervical factors\",\n",
        "    \"Cause of Infertility - Female Factors\",\n",
        "    \"Cause of Infertility - Partner Sperm Concentration\",\n",
        "    \"Cause of Infertility -  Partner Sperm Morphology\",\n",
        "    \"Causes of Infertility - Partner Sperm Motility\",\n",
        "    \"Cause of Infertility -  Partner Sperm Immunological factors\",\n",
        "    \"Stimulation used\",\n",
        "    \"Egg Source\",\n",
        "    \"Sperm From\",\n",
        "    \"Fresh Cycle\",\n",
        "    \"Frozen Cycle\",\n",
        "    \"Eggs Thawed\",\n",
        "    \"Fresh Eggs Collected\",\n",
        "    \"Eggs Mixed With Partner Sperm\",\n",
        "    \"Embryos Transfered\",\n",
        "    \"Number of Live Births\"\n",
        "]\n",
        "\n",
        "# Keep only the selected features\n",
        "df_selected = data[selected_features]\n",
        "\n"
      ]
    },
    {
      "cell_type": "code",
      "execution_count": 53,
      "metadata": {
        "colab": {
          "base_uri": "https://localhost:8080/"
        },
        "id": "hosUEMmhr7yJ",
        "outputId": "f90601b8-096c-4e08-dfe6-2c2d5e3d821d"
      },
      "outputs": [
        {
          "output_type": "stream",
          "name": "stdout",
          "text": [
            "0        1\n",
            "1        0\n",
            "2        1\n",
            "3        0\n",
            "4        0\n",
            "        ..\n",
            "65530    1\n",
            "65531    1\n",
            "65532    0\n",
            "65533    1\n",
            "65534    1\n",
            "Name: Number of Live Births, Length: 65535, dtype: int64\n"
          ]
        }
      ],
      "source": [
        "# Keep only the selected features\n",
        "df_selected = data[selected_features]\n",
        "\n",
        "\n",
        "\n",
        "\n",
        "def convert_to_binary_classification(df):\n",
        "    # Copy the original DataFrame\n",
        "    df_selected = df.copy()\n",
        "\n",
        "\n",
        "    # Set values greater than 1 to 1, and the rest to 0\n",
        "    df_selected[\"Number of Live Births\"] = df_selected[\"Number of Live Births\"].apply(lambda x: 1 if x >= 1 else 0)\n",
        "\n",
        "\n",
        "    return df_selected\n",
        "\n",
        "\n",
        "# Assume `df` is your original DataFrame\n",
        "\n",
        "\n",
        "# Convert the \"Live-birth Occurrence\" column to binary classification\n",
        "df_selected = convert_to_binary_classification(df_selected)\n",
        "\n",
        "\n",
        "# Display the result\n",
        "print(df_selected[\"Number of Live Births\"])\n",
        "\n",
        "\n",
        "\n"
      ]
    },
    {
      "cell_type": "code",
      "execution_count": null,
      "metadata": {
        "colab": {
          "base_uri": "https://localhost:8080/"
        },
        "id": "oWZ6-F0Zir-a",
        "outputId": "e04f59dc-ffcd-49c7-9e31-9891afe925ee"
      },
      "outputs": [
        {
          "output_type": "stream",
          "name": "stdout",
          "text": [
            "Patient Age at Treatment has : ['18 - 34' '35-37' '38-39' '45-50' '40-42' '43-44' '999'] unique values\n",
            "\n",
            "Total Number of Previous IVF cycles has : ['0' '1' '4' '2' '5' '3' '>=5'] unique values\n",
            "\n",
            "Total number of IVF pregnancies has : [0 1 2 3 5 4] unique values\n",
            "\n",
            "Total number of live births - conceived through IVF has : [0 1 2 4 3] unique values\n",
            "\n",
            "Type of Infertility - Female Primary has : [0 1] unique values\n",
            "\n",
            "Type of Infertility - Female Secondary has : [0 1] unique values\n",
            "\n",
            "Type of Infertility - Male Primary has : [0 1] unique values\n",
            "\n",
            "Type of Infertility - Male Secondary has : [0 1] unique values\n",
            "\n",
            "Type of Infertility -Couple Primary has : [0 1] unique values\n",
            "\n",
            "Type of Infertility -Couple Secondary has : [0 1] unique values\n",
            "\n",
            "Cause  of Infertility - Tubal disease has : [0 1] unique values\n",
            "\n",
            "Cause of Infertility - Ovulatory Disorder has : [0 1] unique values\n",
            "\n",
            "Cause of Infertility - Male Factor has : [0 1] unique values\n",
            "\n",
            "Cause of Infertility - Patient Unexplained has : [0 1] unique values\n",
            "\n",
            "Cause of Infertility - Endometriosis has : [0 1] unique values\n",
            "\n",
            "Cause of Infertility - Cervical factors has : [0 1] unique values\n",
            "\n",
            "Cause of Infertility - Female Factors has : [0] unique values\n",
            "\n",
            "Cause of Infertility - Partner Sperm Concentration has : [0 1] unique values\n",
            "\n",
            "Cause of Infertility -  Partner Sperm Morphology has : [0 1] unique values\n",
            "\n",
            "Causes of Infertility - Partner Sperm Motility has : [0 1] unique values\n",
            "\n",
            "Cause of Infertility -  Partner Sperm Immunological factors has : [0] unique values\n",
            "\n",
            "Stimulation used has : [1 0] unique values\n",
            "\n",
            "Egg Source has : [nan 'Patient' 'Donor'] unique values\n",
            "\n",
            "Sperm From has : ['Donor' 'Partner' 'not assigned' 'Partner & Donor'] unique values\n",
            "\n",
            "Fresh Cycle has : [nan  0.  1.] unique values\n",
            "\n",
            "Frozen Cycle has : [nan  1.  0.] unique values\n",
            "\n",
            "Eggs Thawed has : [nan  0.  7. 13.  4. 17.  2.  5.  6.  8. 24. 12.  3.  1. 19.  9. 14. 11.\n",
            " 15. 10. 23. 18. 16.] unique values\n",
            "\n",
            "Fresh Eggs Collected has : [nan '0' '11' '19' '13' '9' '2' '6' '10' '7' '1' '16' '15' '8' '26' '14'\n",
            " '22' '3' '5' '21' '18' '4' '28' '20' '12' '17' '29' '27' '24' '23' '25'\n",
            " '30' '31' '38' '35' '32' '40' '36' '33' '34' '42' '39' '44' '37' '43'\n",
            " '45' '50' '47' '46' '> 50' '41' '49' '48'] unique values\n",
            "\n",
            "Eggs Mixed With Partner Sperm has : [nan '0' '18' '13' '9' '2' '6' '10' '16' '15' '14' '8' '4' '26' '12' '11'\n",
            " '22' '5' '21' '7' '19' '28' '17' '3' '20' '23' '29' '1' '27' '25' '24'\n",
            " '35' '39' '36' '34' '30' '42' '37' '33' '32' '38' '31' '50' '47' '46'\n",
            " '41' '> 50' '44' '40' '43' '49'] unique values\n",
            "\n",
            "Embryos Transfered has : [nan  2.  1.  0.  3.] unique values\n",
            "\n",
            "Number of Live Births has : [1 0] unique values\n",
            "\n"
          ]
        }
      ],
      "source": [
        "for col in df_selected:\n",
        "    print(f\"{col} has : {df_selected[col].unique()} unique values\\n\")"
      ]
    },
    {
      "cell_type": "code",
      "execution_count": null,
      "metadata": {
        "colab": {
          "base_uri": "https://localhost:8080/",
          "height": 465
        },
        "id": "ctNajfcyno7U",
        "outputId": "a18e4ef6-43ed-4e13-ac24-decf91cbf81c"
      },
      "outputs": [
        {
          "output_type": "display_data",
          "data": {
            "text/plain": [
              "<Figure size 500x500 with 1 Axes>"
            ],
            "image/png": "[encoded data removed]"
          },
          "metadata": {}
        }
      ],
      "source": [
        "plt.figure(figsize=(5, 5))\n",
        "ax = sns.countplot(x = df_selected[\"Number of Live Births\"], palette=\"GnBu\")\n",
        "for p in ax.patches:\n",
        "    ax.annotate('{:.1f}'.format(p.get_height()), (p.get_x()+0.25, p.get_height()+0.01))\n",
        "plt.show()"
      ]
    },
    {
      "cell_type": "code",
      "execution_count": null,
      "metadata": {
        "colab": {
          "base_uri": "https://localhost:8080/"
        },
        "id": "YgnYOqr3oDN5",
        "outputId": "c2204e14-d345-445a-eb5a-ca26828bfbf5"
      },
      "outputs": [
        {
          "output_type": "stream",
          "name": "stdout",
          "text": [
            "No Live birth occurrence 75.19 % of the dataset\n",
            "Live birth occurrence 24.81 % of the dataset\n"
          ]
        }
      ],
      "source": [
        "# The classes are heavily skewed we need to solve this issue later.\n",
        "print('No Live birth occurrence', round(df_selected[\"Number of Live Births\"].value_counts()[0]/len(data) * 100,2), '% of the dataset')\n",
        "print('Live birth occurrence', round(df_selected[\"Number of Live Births\"].value_counts()[1]/len(data) * 100,2), '% of the dataset')"
      ]
    },
    {
      "cell_type": "code",
      "execution_count": 54,
      "metadata": {
        "id": "fgWR3ciXtI_r"
      },
      "outputs": [],
      "source": [
        "df_selected.rename(columns={\"Number of Live Births\": \"Live birth occurrence\"}, inplace=True)\n"
      ]
    },
    {
      "cell_type": "code",
      "execution_count": 55,
      "metadata": {
        "id": "jF4_KM4FizTA"
      },
      "outputs": [],
      "source": [
        "# Delete rows with Patient Age at Treatment = 999\n",
        "df = df_selected[df_selected[\"Patient Age at Treatment\"] != '999']\n"
      ]
    },
    {
      "cell_type": "code",
      "execution_count": 56,
      "metadata": {
        "id": "8I9tcgpqjCF3"
      },
      "outputs": [],
      "source": [
        "def convert_age_range(age_range):\n",
        "    if age_range == \"18 - 34\":\n",
        "        return 0\n",
        "    elif age_range ==  \"35-37\":\n",
        "        return 1\n",
        "    elif age_range == \"38-39\":\n",
        "        return 2\n",
        "    elif age_range == \"40-42\":\n",
        "        return 3\n",
        "    elif age_range ==  \"43-44\":\n",
        "        return 4\n",
        "    elif age_range ==  \"45-50\":\n",
        "        return 5\n",
        "    else:\n",
        "        return None\n"
      ]
    },
    {
      "cell_type": "code",
      "execution_count": 57,
      "metadata": {
        "id": "kZwJKHwGjV4t"
      },
      "outputs": [],
      "source": [
        "# Assume `df` is your DataFrame with the \"Age Range\" column\n",
        "\n",
        "# Apply the conversion function to the \"Age Range\" column\n",
        "df[\"Patient Age at Treatment\"] = df[\"Patient Age at Treatment\"].apply(convert_age_range).astype('Int64')\n",
        "\n"
      ]
    },
    {
      "cell_type": "code",
      "execution_count": null,
      "metadata": {
        "colab": {
          "base_uri": "https://localhost:8080/"
        },
        "id": "_jSVsvBzxNK5",
        "outputId": "82c7fbf8-53bc-46e1-9b34-0fb34052e46d"
      },
      "outputs": [
        {
          "output_type": "stream",
          "name": "stdout",
          "text": [
            "Patient Age at Treatment has : <IntegerArray>\n",
            "[0, 1, 2, 5, 3, 4]\n",
            "Length: 6, dtype: Int64 unique values\n",
            "\n",
            "Total Number of Previous IVF cycles has : ['0' '1' '4' '2' '5' '3' '>=5'] unique values\n",
            "\n",
            "Total number of IVF pregnancies has : [0 1 2 3 5 4] unique values\n",
            "\n",
            "Total number of live births - conceived through IVF has : [0 1 2 4 3] unique values\n",
            "\n",
            "Type of Infertility - Female Primary has : [0 1] unique values\n",
            "\n",
            "Type of Infertility - Female Secondary has : [0 1] unique values\n",
            "\n",
            "Type of Infertility - Male Primary has : [0 1] unique values\n",
            "\n",
            "Type of Infertility - Male Secondary has : [0 1] unique values\n",
            "\n",
            "Type of Infertility -Couple Primary has : [0 1] unique values\n",
            "\n",
            "Type of Infertility -Couple Secondary has : [0 1] unique values\n",
            "\n",
            "Cause  of Infertility - Tubal disease has : [0 1] unique values\n",
            "\n",
            "Cause of Infertility - Ovulatory Disorder has : [0 1] unique values\n",
            "\n",
            "Cause of Infertility - Male Factor has : [0 1] unique values\n",
            "\n",
            "Cause of Infertility - Patient Unexplained has : [0 1] unique values\n",
            "\n",
            "Cause of Infertility - Endometriosis has : [0 1] unique values\n",
            "\n",
            "Cause of Infertility - Cervical factors has : [0 1] unique values\n",
            "\n",
            "Cause of Infertility - Female Factors has : [0] unique values\n",
            "\n",
            "Cause of Infertility - Partner Sperm Concentration has : [0 1] unique values\n",
            "\n",
            "Cause of Infertility -  Partner Sperm Morphology has : [0 1] unique values\n",
            "\n",
            "Causes of Infertility - Partner Sperm Motility has : [0 1] unique values\n",
            "\n",
            "Cause of Infertility -  Partner Sperm Immunological factors has : [0] unique values\n",
            "\n",
            "Stimulation used has : [1 0] unique values\n",
            "\n",
            "Egg Source has : [nan 'Patient' 'Donor'] unique values\n",
            "\n",
            "Sperm From has : ['Donor' 'Partner' 'not assigned' 'Partner & Donor'] unique values\n",
            "\n",
            "Fresh Cycle has : [nan  0.  1.] unique values\n",
            "\n",
            "Frozen Cycle has : [nan  1.  0.] unique values\n",
            "\n",
            "Eggs Thawed has : [nan  0.  7. 13.  4. 17.  2.  5.  6.  8. 24. 12.  3.  1. 19.  9. 14. 11.\n",
            " 15. 10. 23. 18. 16.] unique values\n",
            "\n",
            "Fresh Eggs Collected has : [nan '0' '19' '13' '9' '2' '6' '10' '7' '1' '16' '15' '11' '8' '26' '14'\n",
            " '22' '3' '5' '21' '18' '4' '28' '20' '12' '17' '29' '27' '24' '23' '25'\n",
            " '30' '31' '38' '35' '32' '40' '36' '33' '34' '42' '39' '44' '37' '43'\n",
            " '45' '50' '47' '46' '> 50' '41' '49'] unique values\n",
            "\n",
            "Eggs Mixed With Partner Sperm has : [nan '0' '18' '13' '9' '2' '6' '10' '16' '15' '14' '8' '4' '26' '12' '11'\n",
            " '22' '5' '21' '7' '19' '28' '17' '3' '20' '23' '29' '1' '27' '25' '24'\n",
            " '35' '39' '36' '34' '30' '42' '37' '33' '32' '38' '31' '50' '47' '46'\n",
            " '41' '> 50' '44' '40' '43' '49'] unique values\n",
            "\n",
            "Embryos Transfered has : [nan  2.  1.  0.  3.] unique values\n",
            "\n",
            "Live birth occurrence has : [1 0] unique values\n",
            "\n"
          ]
        }
      ],
      "source": [
        "for col in df:\n",
        "    print(f\"{col} has : {df[col].unique()} unique values\\n\")"
      ]
    },
    {
      "cell_type": "code",
      "execution_count": null,
      "metadata": {
        "colab": {
          "base_uri": "https://localhost:8080/"
        },
        "id": "rBO6Yx5rl_bz",
        "outputId": "0516430a-832a-44c4-836e-e204babbaf7a"
      },
      "outputs": [
        {
          "output_type": "execute_result",
          "data": {
            "text/plain": [
              "Patient Age at Treatment                                       0\n",
              "Total Number of Previous IVF cycles                            0\n",
              "Total number of IVF pregnancies                                0\n",
              "Total number of live births - conceived through IVF            0\n",
              "Type of Infertility - Female Primary                           0\n",
              "Type of Infertility - Female Secondary                         0\n",
              "Type of Infertility - Male Primary                             0\n",
              "Type of Infertility - Male Secondary                           0\n",
              "Type of Infertility -Couple Primary                            0\n",
              "Type of Infertility -Couple Secondary                          0\n",
              "Cause  of Infertility - Tubal disease                          0\n",
              "Cause of Infertility - Ovulatory Disorder                      0\n",
              "Cause of Infertility - Male Factor                             0\n",
              "Cause of Infertility - Patient Unexplained                     0\n",
              "Cause of Infertility - Endometriosis                           0\n",
              "Cause of Infertility - Cervical factors                        0\n",
              "Cause of Infertility - Female Factors                          0\n",
              "Cause of Infertility - Partner Sperm Concentration             0\n",
              "Cause of Infertility -  Partner Sperm Morphology               0\n",
              "Causes of Infertility - Partner Sperm Motility                 0\n",
              "Cause of Infertility -  Partner Sperm Immunological factors    0\n",
              "Stimulation used                                               0\n",
              "Egg Source                                                     0\n",
              "Sperm From                                                     0\n",
              "Fresh Cycle                                                    0\n",
              "Frozen Cycle                                                   0\n",
              "Eggs Thawed                                                    0\n",
              "Fresh Eggs Collected                                           0\n",
              "Eggs Mixed With Partner Sperm                                  0\n",
              "Embryos Transfered                                             0\n",
              "Live birth occurrence                                          0\n",
              "dtype: int64"
            ]
          },
          "metadata": {},
          "execution_count": 13
        }
      ],
      "source": [
        "df.isnull().sum()\n"
      ]
    },
    {
      "cell_type": "code",
      "execution_count": 58,
      "metadata": {
        "id": "E6WzqOQqvdAf"
      },
      "outputs": [],
      "source": [
        "# Drop rows with NaN values\n",
        "df.dropna(inplace=True)\n",
        "\n",
        "\n"
      ]
    },
    {
      "cell_type": "code",
      "execution_count": null,
      "metadata": {
        "id": "UdaPT9TkfnlG"
      },
      "outputs": [],
      "source": [
        "#X = df.loc[:, df.columns != 'Live birth occurrence']\n",
        "#X = X.apply(pd.to_numeric, errors='coerce')\n",
        "#df1=X.fillna(X.median())\n"
      ]
    },
    {
      "cell_type": "code",
      "execution_count": null,
      "metadata": {
        "id": "LoN1RDWJkQ0T"
      },
      "outputs": [],
      "source": [
        "#Y = df['Live birth occurrence']"
      ]
    },
    {
      "cell_type": "code",
      "execution_count": null,
      "metadata": {
        "id": "ripEQKqBkDzM"
      },
      "outputs": [],
      "source": [
        "#df=pd.concat([df1, Y], axis=1, join='inner')\n"
      ]
    },
    {
      "cell_type": "code",
      "execution_count": 59,
      "metadata": {
        "id": "iiiwLjzhXqIG"
      },
      "outputs": [],
      "source": [
        "df.loc[df['Total Number of Previous IVF cycles'] == '>=5', 'Total Number of Previous IVF cycles'] = 6\n",
        "df['Total Number of Previous IVF cycles'] = df['Total Number of Previous IVF cycles'].astype(int)\n"
      ]
    },
    {
      "cell_type": "code",
      "execution_count": 60,
      "metadata": {
        "id": "dJJNm860aFxt"
      },
      "outputs": [],
      "source": [
        "df.loc[df['Fresh Eggs Collected'] == '> 50', 'Fresh Eggs Collected'] = 60\n",
        "df['Fresh Eggs Collected'] = df['Fresh Eggs Collected'].astype(int)"
      ]
    },
    {
      "cell_type": "code",
      "execution_count": 61,
      "metadata": {
        "id": "NcoayLc_afws"
      },
      "outputs": [],
      "source": [
        "df.loc[df['Eggs Mixed With Partner Sperm'] == '> 50', 'Eggs Mixed With Partner Sperm'] = 60\n",
        "df['Eggs Mixed With Partner Sperm'] = df['Eggs Mixed With Partner Sperm'].astype(int)"
      ]
    },
    {
      "cell_type": "code",
      "execution_count": 62,
      "metadata": {
        "id": "dOg-nWebmZ2S"
      },
      "outputs": [],
      "source": [
        "df.loc[df['Total number of IVF pregnancies'] == '>=5', 'Total number of IVF pregnancies'] = 6\n",
        "df['Total number of IVF pregnancies'] = df['Total number of IVF pregnancies'].astype(int)\n"
      ]
    },
    {
      "cell_type": "code",
      "execution_count": 63,
      "metadata": {
        "id": "rThnDoiGYkx-"
      },
      "outputs": [],
      "source": [
        "df=df.drop(['Egg Source','Sperm From','Cause of Infertility -  Partner Sperm Immunological factors','Stimulation used'], axis=1)"
      ]
    },
    {
      "cell_type": "code",
      "execution_count": 64,
      "metadata": {
        "id": "xlklWAQVlmim"
      },
      "outputs": [],
      "source": [
        "df=df.drop(['Cause of Infertility - Female Factors'], axis=1)"
      ]
    },
    {
      "cell_type": "code",
      "execution_count": null,
      "metadata": {
        "colab": {
          "base_uri": "https://localhost:8080/"
        },
        "id": "jBQhgQ3evnnP",
        "outputId": "3e40d30d-cb17-4b48-84d9-9c7bebc57d83"
      },
      "outputs": [
        {
          "output_type": "stream",
          "name": "stdout",
          "text": [
            "<class 'pandas.core.frame.DataFrame'>\n",
            "Int64Index: 64442 entries, 0 to 65534\n",
            "Data columns (total 26 columns):\n",
            " #   Column                                               Non-Null Count  Dtype\n",
            "---  ------                                               --------------  -----\n",
            " 0   Patient Age at Treatment                             64442 non-null  Int64\n",
            " 1   Total Number of Previous IVF cycles                  64442 non-null  int64\n",
            " 2   Total number of IVF pregnancies                      64442 non-null  int64\n",
            " 3   Total number of live births - conceived through IVF  64442 non-null  int64\n",
            " 4   Type of Infertility - Female Primary                 64442 non-null  int64\n",
            " 5   Type of Infertility - Female Secondary               64442 non-null  int64\n",
            " 6   Type of Infertility - Male Primary                   64442 non-null  int64\n",
            " 7   Type of Infertility - Male Secondary                 64442 non-null  int64\n",
            " 8   Type of Infertility -Couple Primary                  64442 non-null  int64\n",
            " 9   Type of Infertility -Couple Secondary                64442 non-null  int64\n",
            " 10  Cause  of Infertility - Tubal disease                64442 non-null  int64\n",
            " 11  Cause of Infertility - Ovulatory Disorder            64442 non-null  int64\n",
            " 12  Cause of Infertility - Male Factor                   64442 non-null  int64\n",
            " 13  Cause of Infertility - Patient Unexplained           64442 non-null  int64\n",
            " 14  Cause of Infertility - Endometriosis                 64442 non-null  int64\n",
            " 15  Cause of Infertility - Cervical factors              64442 non-null  int64\n",
            " 16  Cause of Infertility - Partner Sperm Concentration   64442 non-null  int64\n",
            " 17  Cause of Infertility -  Partner Sperm Morphology     64442 non-null  int64\n",
            " 18  Causes of Infertility - Partner Sperm Motility       64442 non-null  int64\n",
            " 19  Fresh Cycle                                          64442 non-null  int64\n",
            " 20  Frozen Cycle                                         64442 non-null  int64\n",
            " 21  Eggs Thawed                                          64442 non-null  int64\n",
            " 22  Fresh Eggs Collected                                 64442 non-null  int64\n",
            " 23  Eggs Mixed With Partner Sperm                        64442 non-null  int64\n",
            " 24  Embryos Transfered                                   64442 non-null  int64\n",
            " 25  Live birth occurrence                                64442 non-null  int64\n",
            "dtypes: Int64(1), int64(25)\n",
            "memory usage: 13.3 MB\n"
          ]
        }
      ],
      "source": [
        "df.info()"
      ]
    },
    {
      "cell_type": "code",
      "execution_count": null,
      "metadata": {
        "id": "pC-_-wIN1Rql"
      },
      "outputs": [],
      "source": [
        "shape = df.shape\n"
      ]
    },
    {
      "cell_type": "code",
      "execution_count": null,
      "metadata": {
        "colab": {
          "base_uri": "https://localhost:8080/"
        },
        "id": "bYdHyuSq1fel",
        "outputId": "f6caea1d-ae93-46a9-9df5-8276ff9d682d"
      },
      "outputs": [
        {
          "output_type": "execute_result",
          "data": {
            "text/plain": [
              "(64442, 26)"
            ]
          },
          "metadata": {},
          "execution_count": 21
        }
      ],
      "source": [
        "shape"
      ]
    },
    {
      "cell_type": "code",
      "execution_count": null,
      "metadata": {
        "colab": {
          "base_uri": "https://localhost:8080/",
          "height": 466
        },
        "id": "gQnxs9vimm9D",
        "outputId": "e2fc60b2-2318-4050-dca7-f3a2ebd8b672"
      },
      "outputs": [
        {
          "output_type": "display_data",
          "data": {
            "text/plain": [
              "<Figure size 500x500 with 1 Axes>"
            ],
            "image/png": "[encoded data removed]"
          },
          "metadata": {}
        }
      ],
      "source": [
        "plt.figure(figsize=(5, 5))\n",
        "ax = sns.countplot(x = df[\"Live birth occurrence\"], palette=\"GnBu\")\n",
        "for p in ax.patches:\n",
        "    ax.annotate('{:.1f}'.format(p.get_height()), (p.get_x()+0.25, p.get_height()+0.01))\n",
        "plt.show()"
      ]
    },
    {
      "cell_type": "markdown",
      "metadata": {
        "id": "LMpSjUImJZoq"
      },
      "source": [
        "#Scale Data"
      ]
    },
    {
      "cell_type": "markdown",
      "source": [
        "#Test pretrained model"
      ],
      "metadata": {
        "id": "0kE8fI1olXiz"
      }
    },
    {
      "cell_type": "code",
      "source": [
        "from keras.models import load_model\n",
        "\n",
        "# Load the saved model\n",
        "pretrained_model = load_model('/content/drive/MyDrive/my_model2.h5')\n"
      ],
      "metadata": {
        "id": "smW3ly2JLyM-"
      },
      "execution_count": 65,
      "outputs": []
    },
    {
      "cell_type": "code",
      "source": [
        "selected_samples = df[:100]\n",
        "\n"
      ],
      "metadata": {
        "id": "rpzojLphjdS5"
      },
      "execution_count": 66,
      "outputs": []
    },
    {
      "cell_type": "code",
      "source": [
        "plt.figure(figsize=(5, 5))\n",
        "ax = sns.countplot(x = selected_samples[\"Live birth occurrence\"], palette=\"GnBu\")\n",
        "for p in ax.patches:\n",
        "    ax.annotate('{:.1f}'.format(p.get_height()), (p.get_x()+0.25, p.get_height()+0.01))\n",
        "plt.show()"
      ],
      "metadata": {
        "id": "7wv8CQxYl9eO",
        "colab": {
          "base_uri": "https://localhost:8080/",
          "height": 465
        },
        "outputId": "deb82c09-5904-41f1-80da-834276bee79a"
      },
      "execution_count": 67,
      "outputs": [
        {
          "output_type": "display_data",
          "data": {
            "text/plain": [
              "<Figure size 500x500 with 1 Axes>"
            ],
            "image/png": "[encoded data removed]"
          },
          "metadata": {}
        }
      ]
    },
    {
      "cell_type": "code",
      "source": [
        "from sklearn.utils import resample\n",
        "\n",
        "# Separate the majority and minority classes\n",
        "df_majority = selected_samples[selected_samples['Live birth occurrence'] == 0]\n",
        "df_minority = selected_samples[selected_samples['Live birth occurrence'] == 1]\n",
        "\n",
        "# Downsample the majority class\n",
        "df_majority_downsampled = resample(df_majority,\n",
        "                                   replace=False,  # Set to False for undersampling\n",
        "                                   n_samples=24,  # Specify the desired number of samples\n",
        "                                   random_state=42)  # Set a random state for reproducibility\n",
        "\n",
        "# Combine the downsampled majority class with the minority class\n",
        "df_downsampled = pd.concat([df_majority_downsampled, df_minority])\n",
        "\n",
        "# Shuffle the DataFrame if needed\n",
        "df_downsampled = df_downsampled.sample(frac=1, random_state=42).reset_index(drop=True)\n"
      ],
      "metadata": {
        "id": "58R0Md3gmO7Q"
      },
      "execution_count": 68,
      "outputs": []
    },
    {
      "cell_type": "code",
      "source": [
        "X = df_downsampled.drop(['Live birth occurrence'], axis=1)\n",
        "Y = df_downsampled['Live birth occurrence']"
      ],
      "metadata": {
        "id": "qrxKwVVWmGbL"
      },
      "execution_count": 69,
      "outputs": []
    },
    {
      "cell_type": "code",
      "execution_count": 70,
      "metadata": {
        "id": "Q0d3Z0cSTtsO"
      },
      "outputs": [],
      "source": [
        "from sklearn.preprocessing import StandardScaler\n",
        "\n",
        "# Select the columns from the DataFrame\n",
        "cols = X.columns\n",
        "\n",
        "# Initialize the scaler\n",
        "scaler = StandardScaler()\n",
        "\n",
        "# Scale the features\n",
        "scaled_features = scaler.fit_transform(X)\n",
        "\n",
        "# Create new DataFrames for scaled features\n",
        "X = pd.DataFrame(scaled_features, columns=cols)\n"
      ]
    },
    {
      "cell_type": "code",
      "source": [
        "# split the dataset\n",
        "SEED=23\n",
        "X_new_train, X_new_test, y_new_train, Y_new_test = train_test_split(X, Y, test_size=0.2,shuffle=True, stratify=Y, random_state=SEED)\n",
        "#With random_state=0 , we get the same train and test sets across different executions\n"
      ],
      "metadata": {
        "id": "1_gEaHO8Nt9q"
      },
      "execution_count": 74,
      "outputs": []
    },
    {
      "cell_type": "code",
      "source": [
        "from keras.models import Sequential\n",
        "from keras.layers import Dense, Flatten, Input, Concatenate\n",
        "from keras.optimizers import Adam\n",
        "from keras import Model\n",
        "\n",
        "\n",
        "\n",
        "# Freeze initial layers of the pretrained model\n",
        "for layer in pretrained_model.layers:\n",
        "    layer.trainable = False\n",
        "\n",
        "# Create the new model\n",
        "new_input = Input(shape=(25,))\n",
        "pretrained_output = pretrained_model(new_input)\n",
        "\n",
        "# Create new trainable layers for the new variables\n",
        "new_variables = Dense(64, activation='relu')(new_input)\n",
        "new_variables = Dense(32, activation='relu')(new_variables)\n",
        "\n",
        "# Flatten the output of the pretrained model\n",
        "flattened_output = Flatten()(pretrained_output)\n",
        "\n",
        "# Combine the flattened pretrained features and new variables\n",
        "combined_features = Concatenate()([flattened_output, new_variables])\n",
        "\n",
        "# Add new trainable layers on top\n",
        "output = Dense(1, activation='sigmoid')(combined_features)\n",
        "\n",
        "# Create the final model\n",
        "model = Model(inputs=[new_input], outputs=output)\n",
        "\n",
        "# Compile the model\n",
        "model.compile(optimizer=Adam(lr=0.001), loss='binary_crossentropy', metrics=['accuracy'])\n",
        "\n",
        "# Train the model with the new dataset\n",
        "model.fit(X_new_train, y_new_train, epochs=10, batch_size=32, validation_data=(X_new_test, Y_new_test))\n"
      ],
      "metadata": {
        "id": "9T-MS4BjNuBL",
        "colab": {
          "base_uri": "https://localhost:8080/"
        },
        "outputId": "826d52c8-bd7d-4fce-92ae-3dd591599e16"
      },
      "execution_count": 75,
      "outputs": [
        {
          "output_type": "stream",
          "name": "stdout",
          "text": [
            "Epoch 1/10\n",
            "2/2 [==============================] - 1s 209ms/step - loss: 0.7100 - accuracy: 0.4737 - val_loss: 0.6743 - val_accuracy: 0.6000\n",
            "Epoch 2/10\n",
            "2/2 [==============================] - 0s 30ms/step - loss: 0.6869 - accuracy: 0.4737 - val_loss: 0.6736 - val_accuracy: 0.7000\n",
            "Epoch 3/10\n",
            "2/2 [==============================] - 0s 29ms/step - loss: 0.6665 - accuracy: 0.5000 - val_loss: 0.6719 - val_accuracy: 0.7000\n",
            "Epoch 4/10\n",
            "2/2 [==============================] - 0s 29ms/step - loss: 0.6499 - accuracy: 0.6316 - val_loss: 0.6719 - val_accuracy: 0.7000\n",
            "Epoch 5/10\n",
            "2/2 [==============================] - 0s 28ms/step - loss: 0.6359 - accuracy: 0.7368 - val_loss: 0.6720 - val_accuracy: 0.7000\n",
            "Epoch 6/10\n",
            "2/2 [==============================] - 0s 33ms/step - loss: 0.6208 - accuracy: 0.7895 - val_loss: 0.6726 - val_accuracy: 0.7000\n",
            "Epoch 7/10\n",
            "2/2 [==============================] - 0s 28ms/step - loss: 0.6076 - accuracy: 0.7895 - val_loss: 0.6733 - val_accuracy: 0.7000\n",
            "Epoch 8/10\n",
            "2/2 [==============================] - 0s 29ms/step - loss: 0.5961 - accuracy: 0.7632 - val_loss: 0.6741 - val_accuracy: 0.7000\n",
            "Epoch 9/10\n",
            "2/2 [==============================] - 0s 31ms/step - loss: 0.5843 - accuracy: 0.7632 - val_loss: 0.6749 - val_accuracy: 0.7000\n",
            "Epoch 10/10\n",
            "2/2 [==============================] - 0s 30ms/step - loss: 0.5745 - accuracy: 0.7895 - val_loss: 0.6754 - val_accuracy: 0.7000\n"
          ]
        },
        {
          "output_type": "execute_result",
          "data": {
            "text/plain": [
              "<keras.callbacks.History at 0x7fbe3b26ac80>"
            ]
          },
          "metadata": {},
          "execution_count": 75
        }
      ]
    },
    {
      "cell_type": "code",
      "source": [
        "from sklearn.metrics import roc_auc_score\n",
        "\n",
        "# Assuming you have predictions and true labels for the validation set\n",
        "y_pred = model.predict(X_new_test)\n",
        "auc = roc_auc_score(Y_new_test, y_pred)\n",
        "\n",
        "print(\"AUC:\", auc)"
      ],
      "metadata": {
        "id": "W2uxVz1VNuD_",
        "colab": {
          "base_uri": "https://localhost:8080/"
        },
        "outputId": "f5941175-f729-46a2-cdf2-d4e39a434fa8"
      },
      "execution_count": 76,
      "outputs": [
        {
          "output_type": "stream",
          "name": "stdout",
          "text": [
            "1/1 [==============================] - 0s 77ms/step\n",
            "AUC: 0.6800000000000002\n"
          ]
        }
      ]
    },
    {
      "cell_type": "code",
      "source": [
        "from sklearn.metrics import precision_score, recall_score, f1_score\n",
        "\n",
        "# Assuming you have predictions and true labels for the validation set\n",
        "y_pred = model.predict(X_new_test)\n",
        "y_pred_binary = np.round(y_pred).astype(int)  # Convert predicted probabilities to binary labels\n",
        "\n",
        "precision = precision_score(Y_new_test, y_pred_binary)\n",
        "recall = recall_score(Y_new_test, y_pred_binary)\n",
        "f1 = f1_score(Y_new_test, y_pred_binary)\n",
        "\n",
        "print(\"Precision:\", precision)\n",
        "print(\"Recall:\", recall)\n",
        "print(\"F1 Score:\", f1)\n"
      ],
      "metadata": {
        "id": "BLn5rXgTNuHZ",
        "colab": {
          "base_uri": "https://localhost:8080/"
        },
        "outputId": "08f8d5cf-1569-45b5-c5d8-4094ffd364f6"
      },
      "execution_count": 77,
      "outputs": [
        {
          "output_type": "stream",
          "name": "stdout",
          "text": [
            "1/1 [==============================] - 0s 120ms/step\n",
            "Precision: 0.75\n",
            "Recall: 0.6\n",
            "F1 Score: 0.6666666666666665\n"
          ]
        }
      ]
    },
    {
      "cell_type": "markdown",
      "source": [
        "#//////////////////////////"
      ],
      "metadata": {
        "id": "JZiPSMw7ncw1"
      }
    },
    {
      "cell_type": "markdown",
      "source": [
        "#Test the pretained model 4"
      ],
      "metadata": {
        "id": "01fqwjS3UVWK"
      }
    },
    {
      "cell_type": "code",
      "source": [
        "import joblib\n",
        "\n",
        "# Load the pretrained model from the file\n",
        "clf = joblib.load('/content/drive/MyDrive/pretrained_model4.pkl')\n"
      ],
      "metadata": {
        "id": "TUlxbY2UO3y-"
      },
      "execution_count": null,
      "outputs": []
    },
    {
      "cell_type": "code",
      "source": [
        "from sklearn.ensemble import RandomForestClassifier\n",
        "\n",
        "# Feature extraction using random forest\n",
        "features = clf.apply(X_new_train)\n",
        "\n",
        "# Train a new random forest classifier on the extracted features\n",
        "new_clf = RandomForestClassifier(n_estimators=100, random_state=42)\n",
        "new_clf.fit(features, y_new_train)\n",
        "\n",
        "# Extract features from the test set\n",
        "test_features = clf.apply(X_new_test)\n",
        "\n",
        "# Predict using the trained random forest model on extracted features\n",
        "prediction = new_clf.predict(test_features)\n",
        "\n",
        "# Evaluate the accuracy of the new random forest model on the extracted features\n",
        "accuracy = np.mean(prediction == Y_new_test)\n",
        "print(\"Accuracy on extracted features:\", accuracy)"
      ],
      "metadata": {
        "id": "ZTJmrH-UO313",
        "colab": {
          "base_uri": "https://localhost:8080/"
        },
        "outputId": "0d8de17f-d77f-46ec-b17a-1ef07995e5f7"
      },
      "execution_count": null,
      "outputs": [
        {
          "output_type": "stream",
          "name": "stdout",
          "text": [
            "Accuracy on extracted features: 0.4\n"
          ]
        }
      ]
    }
  ],
  "metadata": {
    "colab": {
      "provenance": [],
      "include_colab_link": true
    },
    "kernelspec": {
      "display_name": "Python 3 (ipykernel)",
      "language": "python",
      "name": "python3"
    },
    "language_info": {
      "codemirror_mode": {
        "name": "ipython",
        "version": 3
      },
      "file_extension": ".py",
      "mimetype": "text/x-python",
      "name": "python",
      "nbconvert_exporter": "python",
      "pygments_lexer": "ipython3",
      "version": "3.9.13"
    }
  },
  "nbformat": 4,
  "nbformat_minor": 0
}